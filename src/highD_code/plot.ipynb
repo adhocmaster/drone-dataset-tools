{
 "cells": [
  {
   "cell_type": "code",
   "execution_count": 1,
   "metadata": {},
   "outputs": [
    {
     "name": "stdout",
     "output_type": "stream",
     "text": [
      "current working dirC:\\Users\\abjaw\\Documents\\GitHub\\drone-dataset-tools\\src\\highD_code\n"
     ]
    }
   ],
   "source": [
    "exec(open('init_notebook.py').read())\n",
    "import dill\n",
    "from highD.PlotHelper import Histogram\n",
    "import pandas as pd\n",
    "import matplotlib.pyplot as plt\n",
    "import seaborn as sns\n"
   ]
  },
  {
   "cell_type": "code",
   "execution_count": 2,
   "metadata": {},
   "outputs": [
    {
     "name": "stdout",
     "output_type": "stream",
     "text": [
      "Inside HighD again stats\n",
      "[<highD.HighD.HighD object at 0x00000287B4D9A2E8>]\n"
     ]
    }
   ],
   "source": [
    "from DataHandler import *\n",
    "\n",
    "\n",
    "list_dataset = [1]\n",
    "highD_list = read_dataset(list_dataset)\n",
    "\n",
    "print(highD_list)"
   ]
  },
  {
   "cell_type": "code",
   "execution_count": null,
   "metadata": {},
   "outputs": [],
   "source": [
    "dill_highD_list = []\n",
    "for i in range(1, 50):\n",
    "    filename = dillDir + '/highD_' + str(i)+'_.dill'\n",
    "    ifile = open(filename, \"rb\")\n",
    "    dill_highD_list.append(dill.load(ifile))\n",
    "    ifile.close()\n"
   ]
  },
  {
   "cell_type": "code",
   "execution_count": null,
   "metadata": {},
   "outputs": [],
   "source": [
    "def plotMetricsDF(data, col, xlabel=\"\", bins=10, kde=True):\n",
    "        g = sns.displot(data=data, x=col, kde=kde, bins=bins)\n",
    "        g.fig.set_size_inches(10,4)\n",
    "        if xlabel != \"\":\n",
    "            g.set_axis_labels(xlabel, \"Count\")\n",
    "\n",
    "        g.set_titles(f\"Distribution of {xlabel}\")\n",
    "        plt.axvline(x=data[col].mean(), color='red')\n",
    "        plt.show()"
   ]
  },
  {
   "cell_type": "markdown",
   "metadata": {},
   "source": [
    "## Distribution Velocity "
   ]
  },
  {
   "cell_type": "markdown",
   "metadata": {},
   "source": [
    "Minimum Velocity"
   ]
  },
  {
   "cell_type": "code",
   "execution_count": null,
   "metadata": {},
   "outputs": [],
   "source": [
    "df = pd.DataFrame(columns=['minXVelocity'])\n",
    "for highD in dill_highD_list:\n",
    "    trackMeta = highD.tracksMeta\n",
    "    df = df.append(trackMeta[['minXVelocity']] * 3.60)\n",
    "plotMetricsDF(df, 'minXVelocity', xlabel='min vel', bins=100, kde=True)"
   ]
  },
  {
   "cell_type": "markdown",
   "metadata": {},
   "source": [
    "Maximum Velocity"
   ]
  },
  {
   "cell_type": "code",
   "execution_count": null,
   "metadata": {},
   "outputs": [],
   "source": [
    "df = pd.DataFrame(columns=['maxXVelocity'])\n",
    "for highD in dill_highD_list:\n",
    "    trackMeta = highD.tracksMeta\n",
    "    df = df.append(trackMeta[['maxXVelocity']] * 3.60)\n",
    "plotMetricsDF(df, 'maxXVelocity', xlabel='Maximum Velocity', bins=100, kde=True)"
   ]
  },
  {
   "cell_type": "markdown",
   "metadata": {},
   "source": [
    "Average Velocity"
   ]
  },
  {
   "cell_type": "code",
   "execution_count": null,
   "metadata": {},
   "outputs": [],
   "source": [
    "df = pd.DataFrame(columns=['meanXVelocity'])\n",
    "for highD in dill_highD_list:\n",
    "    trackMeta = highD.tracksMeta\n",
    "    df = df.append(trackMeta[['meanXVelocity']] * 3.60)\n",
    "plotMetricsDF(df, 'meanXVelocity', xlabel='Average Velocity', bins=100, kde=True)"
   ]
  },
  {
   "cell_type": "markdown",
   "metadata": {},
   "source": [
    "## Headway Distribution"
   ]
  },
  {
   "cell_type": "markdown",
   "metadata": {},
   "source": [
    "Minimum Distance Headway\n"
   ]
  },
  {
   "cell_type": "code",
   "execution_count": null,
   "metadata": {},
   "outputs": [],
   "source": [
    "df = pd.DataFrame(columns=['minDHW'])\n",
    "for highD in dill_highD_list:\n",
    "    trackMeta = highD.tracksMeta\n",
    "    trackMeta = trackMeta[trackMeta['minDHW'] > 0]\n",
    "    df = df.append(trackMeta[['minDHW']])\n",
    "plotMetricsDF(df, 'minDHW', xlabel='Minimum Distance Headway', bins=100, kde=True)"
   ]
  },
  {
   "cell_type": "markdown",
   "metadata": {},
   "source": [
    "Minimum Time Headway"
   ]
  },
  {
   "cell_type": "code",
   "execution_count": null,
   "metadata": {},
   "outputs": [],
   "source": [
    "df = pd.DataFrame(columns=['minTHW'])\n",
    "for highD in dill_highD_list:\n",
    "    trackMeta = highD.tracksMeta\n",
    "    trackMeta = trackMeta[trackMeta['minTHW'] > 0]\n",
    "    df = df.append(trackMeta[['minTHW']])\n",
    "plotMetricsDF(df, 'minTHW', xlabel='Minimum Time Headway', bins=100, kde=True)"
   ]
  },
  {
   "cell_type": "markdown",
   "metadata": {},
   "source": []
  },
  {
   "cell_type": "code",
   "execution_count": null,
   "metadata": {},
   "outputs": [],
   "source": [
    "df = pd.DataFrame(columns=['minTTC'])\n",
    "for highD in dill_highD_list:\n",
    "    trackMeta = highD.tracksMeta\n",
    "    trackMeta = trackMeta[trackMeta['minTTC'] > 0]\n",
    "    trackMeta = trackMeta[trackMeta['minTTC'] < 200]\n",
    "    df = df.append(trackMeta[['minTTC']])\n",
    "plotMetricsDF(df, 'minTTC', xlabel='Minimum TTC', bins=100, kde=True)"
   ]
  },
  {
   "cell_type": "markdown",
   "metadata": {},
   "source": [
    "## Acceleration Distribution"
   ]
  },
  {
   "cell_type": "code",
   "execution_count": null,
   "metadata": {},
   "outputs": [],
   "source": [
    "df = pd.DataFrame(columns=['xVelocity'])\n",
    "for highD in dill_highD_list:\n",
    "    tracks = highD.tracks \n",
    "    print(tracks.shape)\n",
    "#     trackMeta = trackMeta[trackMeta['minTTC'] > 0]\n",
    "#     trackMeta = trackMeta[trackMeta['minTTC'] < 200]\n",
    "#     df = df.append(trackMeta[['minTTC']])\n",
    "# plotMetricsDF(df, 'minTTC', xlabel='Minimum TTC', bins=100, kde=True)"
   ]
  },
  {
   "cell_type": "code",
   "execution_count": null,
   "metadata": {},
   "outputs": [],
   "source": []
  }
 ],
 "metadata": {
  "kernelspec": {
   "display_name": "Python 3.7.1",
   "language": "python",
   "name": "python3"
  },
  "language_info": {
   "codemirror_mode": {
    "name": "ipython",
    "version": 3
   },
   "file_extension": ".py",
   "mimetype": "text/x-python",
   "name": "python",
   "nbconvert_exporter": "python",
   "pygments_lexer": "ipython3",
   "version": "3.7.1"
  },
  "orig_nbformat": 4,
  "vscode": {
   "interpreter": {
    "hash": "ab3d2a5f1395a0f3c007ea44d9d0037ef572bff7a82001447b448674a9eb17ff"
   }
  }
 },
 "nbformat": 4,
 "nbformat_minor": 2
}
