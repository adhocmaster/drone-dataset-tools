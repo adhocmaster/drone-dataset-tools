{
 "cells": [
  {
   "cell_type": "code",
   "execution_count": 1,
   "metadata": {},
   "outputs": [
    {
     "name": "stdout",
     "output_type": "stream",
     "text": [
      "current working dirc:\\Users\\abjaw\\Documents\\GitHub\\drone-dataset-tools\\src\\highD_code\n"
     ]
    }
   ],
   "source": [
    "exec(open('init_notebook.py').read())\n",
    "from sympy import Polygon, Point2D\n",
    "import cv2\n",
    "import matplotlib.pyplot as plt\n",
    "import pandas as pd"
   ]
  },
  {
   "cell_type": "code",
   "execution_count": 2,
   "metadata": {},
   "outputs": [
    {
     "name": "stdout",
     "output_type": "stream",
     "text": [
      "collecting data for highway with ID  1\n"
     ]
    }
   ],
   "source": [
    "dataDir = \"C:/Users/abjaw/Documents/GitHub/drone-dataset-tools/data/highD_dataset\"\n",
    "outputDir = \"C:/Users/abjaw/Documents/GitHub/drone-dataset-tools/output\"\n",
    "dataset_id = 1\n",
    "path_dict = get_path_dict(dataDir)\n",
    "current_file = read_highD_data(dataset_id, path_dict, outputDir)\n",
    "\n",
    "# print(current_file)\n",
    "# img = current_file.draw_frame_with_id(1)\n",
    "# plt.figure(figsize = (25,2))\n",
    "# plt.imshow(img, interpolation='nearest')\n",
    "\n",
    "# current_file.create_video_from_frames('output', 1, 1000, 25)\n",
    "\n",
    "# print(current_file.tracks.columns)\n",
    "\n",
    "# df = current_file.tracks\n",
    "# df.columns\n",
    "# df.loc[(df[\"xVelocity\"]) < 0]\n",
    "\n"
   ]
  },
  {
   "cell_type": "code",
   "execution_count": 3,
   "metadata": {},
   "outputs": [
    {
     "name": "stdout",
     "output_type": "stream",
     "text": [
      "tracks meta  dict_keys(['id', 'width', 'height', 'initialFrame', 'finalFrame', 'numFrames', 'class', 'drivingDirection', 'traveledDistance', 'minXVelocity', 'maxXVelocity', 'meanXVelocity', 'minDHW', 'minTHW', 'minTTC', 'numLaneChanges'])\n",
      "tracks  dict_keys(['id', 'frame', 'bbox', 'xVelocity', 'yVelocity', 'xAcceleration', 'yAcceleration', 'frontSightDistance', 'backSightDistance', 'thw', 'ttc', 'dhw', 'precedingXVelocity', 'precedingId', 'followingId', 'leftFollowingId', 'leftAlongsideId', 'leftPrecedingId', 'rightFollowingId', 'rightAlongsideId', 'rightPrecedingId', 'laneId'])\n"
     ]
    }
   ],
   "source": [
    "meta_data = current_file.tracksMeta_dict\n",
    "data = current_file.track_dict\n",
    "print('tracks meta ', meta_data[1].keys())\n",
    "print('tracks ', data[1].keys())"
   ]
  },
  {
   "cell_type": "code",
   "execution_count": null,
   "metadata": {},
   "outputs": [],
   "source": [
    "# print('len ', len(current_file.find_initial_state()))\n",
    "# current_file.find_initial_state()\n",
    "# import copy\n",
    "\n",
    "# current_file.create_video_car_follow_maneuver()\n",
    "\n"
   ]
  },
  {
   "cell_type": "code",
   "execution_count": 4,
   "metadata": {},
   "outputs": [
    {
     "name": "stdout",
     "output_type": "stream",
     "text": [
      "car_follow_2 2 29\n",
      "video name is  2\n",
      "creating video with name  2.avi\n"
     ]
    },
    {
     "ename": "error",
     "evalue": "OpenCV(4.5.5) :-1: error: (-5:Bad argument) in function 'VideoWriter'\n> Overload resolution failed:\n>  - Argument 'fps' can not be treated as a double\n>  - VideoWriter() missing required argument 'frameSize' (pos 5)\n>  - VideoWriter() missing required argument 'params' (pos 5)\n>  - VideoWriter() missing required argument 'frameSize' (pos 5)\n",
     "output_type": "error",
     "traceback": [
      "\u001b[1;31m---------------------------------------------------------------------------\u001b[0m",
      "\u001b[1;31merror\u001b[0m                                     Traceback (most recent call last)",
      "\u001b[1;32m<ipython-input-4-0271d75f3f08>\u001b[0m in \u001b[0;36m<module>\u001b[1;34m\u001b[0m\n\u001b[0;32m     14\u001b[0m \u001b[1;33m\u001b[0m\u001b[0m\n\u001b[0;32m     15\u001b[0m     \u001b[0mprint\u001b[0m\u001b[1;33m(\u001b[0m\u001b[0mvideo_name\u001b[0m\u001b[1;33m,\u001b[0m \u001b[0mstart\u001b[0m\u001b[1;33m,\u001b[0m \u001b[0mend\u001b[0m\u001b[1;33m)\u001b[0m\u001b[1;33m\u001b[0m\u001b[1;33m\u001b[0m\u001b[0m\n\u001b[1;32m---> 16\u001b[1;33m     \u001b[0mcurrent_file\u001b[0m\u001b[1;33m.\u001b[0m\u001b[0mcreate_video_from_frames\u001b[0m\u001b[1;33m(\u001b[0m\u001b[0mstart\u001b[0m\u001b[1;33m,\u001b[0m \u001b[0mend\u001b[0m\u001b[1;33m,\u001b[0m \u001b[0mvideo_name\u001b[0m\u001b[1;33m,\u001b[0m \u001b[0mego_id\u001b[0m\u001b[1;33m)\u001b[0m\u001b[1;33m\u001b[0m\u001b[1;33m\u001b[0m\u001b[0m\n\u001b[0m\u001b[0;32m     17\u001b[0m \u001b[1;33m\u001b[0m\u001b[0m\n\u001b[0;32m     18\u001b[0m \u001b[1;33m\u001b[0m\u001b[0m\n",
      "\u001b[1;32mc:\\Users\\abjaw\\Documents\\GitHub\\drone-dataset-tools\\src\\highD_code\\HighD.py\u001b[0m in \u001b[0;36mcreate_video_from_frames\u001b[1;34m(self, start, end, fps, video_name, ego_id)\u001b[0m\n\u001b[0;32m    147\u001b[0m         \u001b[0mprint\u001b[0m\u001b[1;33m(\u001b[0m\u001b[1;34m'creating video with name '\u001b[0m\u001b[1;33m,\u001b[0m \u001b[0mvideo_name\u001b[0m\u001b[1;33m)\u001b[0m\u001b[1;33m\u001b[0m\u001b[1;33m\u001b[0m\u001b[0m\n\u001b[0;32m    148\u001b[0m \u001b[1;33m\u001b[0m\u001b[0m\n\u001b[1;32m--> 149\u001b[1;33m         \u001b[0mout\u001b[0m \u001b[1;33m=\u001b[0m \u001b[0mcv2\u001b[0m\u001b[1;33m.\u001b[0m\u001b[0mVideoWriter\u001b[0m\u001b[1;33m(\u001b[0m\u001b[0mos\u001b[0m\u001b[1;33m.\u001b[0m\u001b[0mpath\u001b[0m\u001b[1;33m.\u001b[0m\u001b[0mjoin\u001b[0m\u001b[1;33m(\u001b[0m\u001b[0mself\u001b[0m\u001b[1;33m.\u001b[0m\u001b[0moutput_path\u001b[0m\u001b[1;33m,\u001b[0m \u001b[0mvideo_name\u001b[0m\u001b[1;33m)\u001b[0m\u001b[1;33m,\u001b[0m \u001b[0mfourcc\u001b[0m\u001b[1;33m,\u001b[0m \u001b[0mfps\u001b[0m\u001b[1;33m,\u001b[0m \u001b[0mframeSize\u001b[0m\u001b[1;33m)\u001b[0m\u001b[1;33m\u001b[0m\u001b[1;33m\u001b[0m\u001b[0m\n\u001b[0m\u001b[0;32m    150\u001b[0m         \u001b[1;32mfor\u001b[0m \u001b[0mi\u001b[0m \u001b[1;32min\u001b[0m \u001b[0mrange\u001b[0m\u001b[1;33m(\u001b[0m\u001b[0mstart\u001b[0m\u001b[1;33m,\u001b[0m \u001b[0mend\u001b[0m \u001b[1;33m+\u001b[0m \u001b[1;36m1\u001b[0m\u001b[1;33m)\u001b[0m\u001b[1;33m:\u001b[0m\u001b[1;33m\u001b[0m\u001b[1;33m\u001b[0m\u001b[0m\n\u001b[0;32m    151\u001b[0m             \u001b[0mimg\u001b[0m \u001b[1;33m=\u001b[0m \u001b[0mself\u001b[0m\u001b[1;33m.\u001b[0m\u001b[0mdraw_frame_with_id\u001b[0m\u001b[1;33m(\u001b[0m\u001b[0mi\u001b[0m\u001b[1;33m,\u001b[0m \u001b[0mego_id\u001b[0m\u001b[1;33m)\u001b[0m\u001b[1;33m\u001b[0m\u001b[1;33m\u001b[0m\u001b[0m\n",
      "\u001b[1;31merror\u001b[0m: OpenCV(4.5.5) :-1: error: (-5:Bad argument) in function 'VideoWriter'\n> Overload resolution failed:\n>  - Argument 'fps' can not be treated as a double\n>  - VideoWriter() missing required argument 'frameSize' (pos 5)\n>  - VideoWriter() missing required argument 'params' (pos 5)\n>  - VideoWriter() missing required argument 'frameSize' (pos 5)\n"
     ]
    }
   ],
   "source": [
    "current_file.tracksMeta.columns\n",
    "df = current_file.tracksMeta\n",
    "\n",
    "car_follow = current_file.filter_car_following()\n",
    "\n",
    "for i in range(len(car_follow)):\n",
    "    ego_id = car_follow[i]['ego_id']\n",
    "    pred_id = car_follow[i]['pred_id']\n",
    "\n",
    "    video_name = 'car_follow_' + str(ego_id)\n",
    "\n",
    "    start = car_follow[i]['following_start']\n",
    "    end = car_follow[i]['following_end']\n",
    "\n",
    "    print(video_name, start, end)\n",
    "    current_file.create_video_from_frames(start, end, 25, video_name, ego_id)\n",
    "\n",
    "\n"
   ]
  },
  {
   "cell_type": "code",
   "execution_count": null,
   "metadata": {},
   "outputs": [],
   "source": [
    "df.head()"
   ]
  },
  {
   "cell_type": "code",
   "execution_count": null,
   "metadata": {},
   "outputs": [],
   "source": [
    "current_file.tracks.columns"
   ]
  },
  {
   "cell_type": "code",
   "execution_count": null,
   "metadata": {},
   "outputs": [],
   "source": [
    "import statistics\n",
    "import numpy as np\n",
    "\n",
    "\n",
    "def find_car_following(meta_data, data, my_type, preceding_type):\n",
    "    \"\"\"\n",
    "    Find out car-following situations from specific vehicle types\n",
    "\n",
    "    :param meta_data: track meta information from highD dataset\n",
    "    :param data: track data from highD dataset\n",
    "    :param my_type: the ego vehicle's type\n",
    "    :param preceding_type: the preceding vehicle's type\n",
    "\n",
    "    :return: a list of dictionary with\n",
    "        ego_id: identification of the ego vehicle\n",
    "        pred_id: identification of the preceding vehicle\n",
    "        following_start: the frame when the following starts\n",
    "        following_duration: the following duration\n",
    "        following_end: the frame when the following ends\n",
    "        dhw: array of DHW while following\n",
    "        thw: array of THW while following\n",
    "        ttc: array of TTC while following\n",
    "    \"\"\"\n",
    "    following_data = []\n",
    "    # for each agent (car/truck)\n",
    "    for i in range(0, len(data)):\n",
    "        following_started = False\n",
    "        following_dhw = []\n",
    "        following_thw = []\n",
    "        following_ttc = []\n",
    "        ego_speed = []\n",
    "        pred_speed = []\n",
    "        frame_following_start = 0\n",
    "        following_duration = 0\n",
    "        preceding_id = 0\n",
    "        ego_id = data[i].get('id')\n",
    "        # search in each frame\n",
    "        for frame in range(0, len(data[i].get('frame'))):\n",
    "\n",
    "            # if thre is a vehicle in front of the target vehicle\n",
    "            if data[i].get('precedingId')[frame] != 0:\n",
    "\n",
    "                # if the preceding vehicle id is not zero and the preceding vehicle changed and following started true\n",
    "                if preceding_id != 0 and data[i].get('precedingId')[frame] != preceding_id and following_started:\n",
    "                    frame_following_end = frame - 1\n",
    "                    # check for longer scenarios???\n",
    "                    if frame_following_end != frame_following_start:\n",
    "                        following_data.append(\n",
    "                            {\"ego_id\": ego_id, \"pred_id\": preceding_id, \"following_start\": frame_following_start,\n",
    "                             \"following_duration\": following_duration, \"following_end\": frame_following_end,\n",
    "                             \"dhw\": statistics.mean(following_dhw), \"thw\": np.nanmean(following_thw),\n",
    "                             \"ttc\": statistics.mean(following_ttc),\n",
    "                             \"ego_speed\": ego_speed, \"pred_speed\": pred_speed})\n",
    "                    following_started = False\n",
    "                    following_dhw = []\n",
    "                    following_thw = []\n",
    "                    following_ttc = []\n",
    "                    ego_speed = []\n",
    "                    pred_speed = []\n",
    "                    frame_following_start = 0\n",
    "                    following_duration = 0\n",
    "                # assign preceding vehicle id\n",
    "                preceding_id = data[i].get('precedingId')[frame]\n",
    "                if ((get_vehicle_class(meta_data, preceding_id) == preceding_type)\n",
    "                        and (get_vehicle_class(meta_data, ego_id) == my_type)):\n",
    "                    if following_started is False:\n",
    "                        following_started = True\n",
    "                        frame_following_start = frame\n",
    "                        if data[i].get('dhw')[frame] > 0:\n",
    "                            following_dhw.append(data[i].get('dhw')[frame])\n",
    "                            following_ttc.append(get_ttc(data[i].get('dhw')[frame],\n",
    "                                                         data[i].get('xVelocity')[frame],\n",
    "                                                         data[i].get('precedingXVelocity')[frame]))\n",
    "                        if data[i].get('thw')[frame] > 0:\n",
    "                            following_thw.append(data[i].get('thw')[frame])\n",
    "                        else:\n",
    "                            following_thw.append(np.nan)\n",
    "                        ego_speed.append(data[i].get('xVelocity')[frame])\n",
    "                        pred_speed.append(data[i].get('precedingXVelocity')[frame])\n",
    "                    else:\n",
    "                        if data[i].get('dhw')[frame] > 0:\n",
    "                            following_dhw.append(data[i].get('dhw')[frame])\n",
    "                            following_ttc.append(get_ttc(data[i].get('dhw')[frame],\n",
    "                                                         data[i].get('xVelocity')[frame],\n",
    "                                                         data[i].get('precedingXVelocity')[frame]))\n",
    "                        if data[i].get('thw')[frame] > 0:\n",
    "                            following_thw.append(data[i].get('thw')[frame])\n",
    "                        else:\n",
    "                            following_thw.append(np.nan)\n",
    "                        ego_speed.append(data[i].get('xVelocity')[frame])\n",
    "                        pred_speed.append(data[i].get('precedingXVelocity')[frame])\n",
    "                    following_duration = following_duration + 1\n",
    "            else:\n",
    "                if following_started is True:\n",
    "                    frame_following_end = frame-1\n",
    "                    if frame_following_end != frame_following_start:\n",
    "                        following_data.append(\n",
    "                            {\"ego_id\": ego_id, \"pred_id\": preceding_id, \"following_start\": frame_following_start,\n",
    "                             \"following_duration\": following_duration, \"following_end\": frame_following_end,\n",
    "                             \"dhw\": statistics.mean(following_dhw), \"thw\": np.nanmean(following_thw),\n",
    "                             \"ttc\": statistics.mean(following_ttc),\n",
    "                             \"ego_speed\": ego_speed, \"pred_speed\": pred_speed})\n",
    "                    following_started = False\n",
    "                    following_dhw = []\n",
    "                    following_thw = []\n",
    "                    following_ttc = []\n",
    "                    ego_speed = []\n",
    "                    pred_speed = []\n",
    "                    frame_following_start = 0\n",
    "                    following_duration = 0\n",
    "                    preceding_id = 0\n",
    "    return following_data\n",
    "\n",
    "\n",
    "def get_vehicle_class(meta_data, id):\n",
    "    \"\"\"\n",
    "\n",
    "    :param meta_data: track meta information from highD dataset\n",
    "    :param id: vehicle's id in the dataset\n",
    "    :return: vehicle type (string: 'Car' or 'Truck')\n",
    "    \"\"\"\n",
    "    return meta_data[id].get('class')\n",
    "\n",
    "\n",
    "def get_ttc(dhw, my_speed, pred_speed):\n",
    "    my_speed = abs(my_speed)\n",
    "    pred_speed = abs(pred_speed)\n",
    "    if my_speed > pred_speed and dhw != 0:\n",
    "        return dhw / (my_speed - pred_speed)\n",
    "    else:\n",
    "        return np.nan\n"
   ]
  },
  {
   "cell_type": "code",
   "execution_count": null,
   "metadata": {},
   "outputs": [],
   "source": [
    "# all_frame = all_frame[0:2]\n",
    "\n",
    "# for frame in all_frame:\n",
    "#     # print(frame)\n",
    "#     df_frame = df[df['frame'] == frame]\n",
    "#     polygon_list = []\n",
    "#     df_bbox = df_frame[['x', 'y', 'width', 'height']]\n",
    "#     for index, row in df_bbox.iterrows():\n",
    "#         x = row['x']\n",
    "#         y = row['y']\n",
    "#         width = row['width']\n",
    "#         height = row['height']\n",
    "#         polygon_list.append(Polygon(Point2D(x, y), Point2D(x+width, y), Point2D(x+width, y+height), Point2D(x, y+height)))\n",
    "#     is_intersecting = False\n",
    "#     for i in range(len(polygon_list)):\n",
    "#         for j in range(i+1, len(polygon_list)):\n",
    "#             if polygon_list[i].intersection(polygon_list[j]):\n",
    "#                 is_intersecting = True\n",
    "#                 break\n",
    "#         if is_intersecting:\n",
    "#             print('frame {} is intersecting'.format(frame))\n",
    "#             break\n",
    "    \n",
    "    \n",
    "\n",
    "# # print(all_frame)\n",
    "\n",
    "# # df.head(10)\n"
   ]
  }
 ],
 "metadata": {
  "kernelspec": {
   "display_name": "Python 3.7.7",
   "language": "python",
   "name": "python3"
  },
  "language_info": {
   "codemirror_mode": {
    "name": "ipython",
    "version": 3
   },
   "file_extension": ".py",
   "mimetype": "text/x-python",
   "name": "python",
   "nbconvert_exporter": "python",
   "pygments_lexer": "ipython3",
   "version": "3.7.7"
  },
  "orig_nbformat": 4,
  "vscode": {
   "interpreter": {
    "hash": "d808d8653dda17e992e4544cb00058cf302ec08789cc80752ed7be2cb1dd310e"
   }
  }
 },
 "nbformat": 4,
 "nbformat_minor": 2
}
