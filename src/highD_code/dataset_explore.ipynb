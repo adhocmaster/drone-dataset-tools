{
 "cells": [
  {
   "cell_type": "code",
   "execution_count": 4,
   "metadata": {},
   "outputs": [
    {
     "name": "stdout",
     "output_type": "stream",
     "text": [
      "current working dirc:\\Users\\abjaw\\Documents\\GitHub\\drone-dataset-tools\\src\\highD_code\n"
     ]
    }
   ],
   "source": [
    "exec(open('init_notebook.py').read())"
   ]
  },
  {
   "cell_type": "code",
   "execution_count": 5,
   "metadata": {},
   "outputs": [],
   "source": [
    "dataDir = \"C:/Users/abjaw/Documents/GitHub/drone-dataset-tools/data/highD_dataset\"\n",
    "path_dict = get_path_dict(dataDir)\n",
    "current_file = path_dict[1]\n",
    "track_csv = current_file.read_track_csv()\n",
    "track_meta_csv = current_file.read_trackMeta_csv()\n",
    "recording_meta_csv = current_file.read_recordingMeta_csv()"
   ]
  },
  {
   "cell_type": "code",
   "execution_count": 18,
   "metadata": {},
   "outputs": [
    {
     "name": "stdout",
     "output_type": "stream",
     "text": [
      "22539\n",
      "1047\n"
     ]
    }
   ],
   "source": [
    "duration = recording_meta_csv[\"duration\"].values[0]\n",
    "frameRate = recording_meta_csv[\"frameRate\"].values[0]\n",
    "\n",
    "total_frame = int(duration * frameRate)\n",
    "\n",
    "print(total_frame)\n",
    "\n",
    "max_frame = 0\n",
    "for i in range(len(track_csv[\"frame\"])):\n",
    "    max_frame = max(max_frame, track_csv[\"frame\"].values[i])\n",
    "print(len(track_csv[\"frame\"]))\n"
   ]
  }
 ],
 "metadata": {
  "kernelspec": {
   "display_name": "Python 3.7.7",
   "language": "python",
   "name": "python3"
  },
  "language_info": {
   "codemirror_mode": {
    "name": "ipython",
    "version": 3
   },
   "file_extension": ".py",
   "mimetype": "text/x-python",
   "name": "python",
   "nbconvert_exporter": "python",
   "pygments_lexer": "ipython3",
   "version": "3.7.7"
  },
  "orig_nbformat": 4,
  "vscode": {
   "interpreter": {
    "hash": "d808d8653dda17e992e4544cb00058cf302ec08789cc80752ed7be2cb1dd310e"
   }
  }
 },
 "nbformat": 4,
 "nbformat_minor": 2
}
