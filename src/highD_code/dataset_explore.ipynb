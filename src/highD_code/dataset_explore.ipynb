{
 "cells": [
  {
   "cell_type": "code",
   "execution_count": null,
   "metadata": {},
   "outputs": [],
   "source": [
    "exec(open('init_notebook.py').read())\n",
    "from sympy import Polygon, Point2D\n",
    "import cv2\n",
    "import matplotlib.pyplot as plt\n",
    "import dill\n",
    "from DataHandler import *"
   ]
  },
  {
   "cell_type": "code",
   "execution_count": null,
   "metadata": {},
   "outputs": [],
   "source": [
    "list_dataset = [1]\n",
    "highD_list = read_dataset(list_dataset)\n",
    "\n",
    "highD_list[0].highD_stats.find_initial_states()\n",
    "# highD_list[0].highD_stats.get_initial_speed(3)"
   ]
  },
  {
   "cell_type": "code",
   "execution_count": null,
   "metadata": {},
   "outputs": [],
   "source": []
  },
  {
   "cell_type": "code",
   "execution_count": null,
   "metadata": {},
   "outputs": [],
   "source": []
  }
 ],
 "metadata": {
  "kernelspec": {
   "display_name": "Python 3.7.1",
   "language": "python",
   "name": "python3"
  },
  "language_info": {
   "codemirror_mode": {
    "name": "ipython",
    "version": 3
   },
   "file_extension": ".py",
   "mimetype": "text/x-python",
   "name": "python",
   "nbconvert_exporter": "python",
   "pygments_lexer": "ipython3",
   "version": "3.7.1"
  },
  "orig_nbformat": 4,
  "vscode": {
   "interpreter": {
    "hash": "ab3d2a5f1395a0f3c007ea44d9d0037ef572bff7a82001447b448674a9eb17ff"
   }
  }
 },
 "nbformat": 4,
 "nbformat_minor": 2
}
