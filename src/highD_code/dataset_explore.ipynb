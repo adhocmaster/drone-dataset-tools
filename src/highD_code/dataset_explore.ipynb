{
 "cells": [
  {
   "cell_type": "code",
   "execution_count": null,
   "metadata": {},
   "outputs": [],
   "source": [
    "exec(open('init_notebook.py').read())\n",
    "from sympy import Polygon, Point2D\n",
    "import cv2\n",
    "import matplotlib.pyplot as plt\n",
    "import dill\n",
    "from DataHandler import *\n",
    "from highD.PlotHelper import Histogram"
   ]
  },
  {
   "cell_type": "code",
   "execution_count": null,
   "metadata": {},
   "outputs": [],
   "source": [
    "list_dataset = [1]\n",
    "highD_list = read_dataset(list_dataset)\n",
    "\n",
    "# highD_list[0].highD_stats.find_initial_states()\n",
    "\n",
    "# highD_list[0].highD_stats.min_velocity_distribution()\n",
    "# highD_list[0].highD_stats.max_velocity_distribution()\n",
    "# highD_list[0].highD_stats.mean_velocity_distribution()\n",
    "# highD_list[0].highD_stats.min_distance_headway()\n",
    "# highD_list[0].highD_stats.min_time_headway()\n",
    "# highD_list[0].highD_stats.min_ttc()\n"
   ]
  },
  {
   "cell_type": "code",
   "execution_count": null,
   "metadata": {},
   "outputs": [],
   "source": [
    "tracks = highD_list[0].highD_stats.data_container.tracks\n",
    "tracks.head()\n",
    "id_list = tracks['id'].unique()\n",
    "grouped_tracks = tracks.groupby('id')\n",
    "df = pd.DataFrame(columns=['xVelocity'])\n",
    "for id in id_list:\n",
    "    _track = grouped_tracks.get_group(id)\n",
    "    _track = _track[_track['xVelocity'] > 0]\n",
    "    df = df.append(_track['xVelocity'])\n",
    "    print(id)\n",
    "    # print(_track['xVelocity'])\n",
    "# print(id_list)"
   ]
  },
  {
   "cell_type": "code",
   "execution_count": null,
   "metadata": {},
   "outputs": [],
   "source": [
    "print(df)"
   ]
  }
 ],
 "metadata": {
  "kernelspec": {
   "display_name": "Python 3",
   "language": "python",
   "name": "python3"
  },
  "language_info": {
   "codemirror_mode": {
    "name": "ipython",
    "version": 3
   },
   "file_extension": ".py",
   "mimetype": "text/x-python",
   "name": "python",
   "nbconvert_exporter": "python",
   "pygments_lexer": "ipython3",
   "version": "3.9.7"
  },
  "orig_nbformat": 4,
  "vscode": {
   "interpreter": {
    "hash": "760facf313390a21c30bd7a9216c968dc50a14fb012a8cd02728ee0d137648d7"
   }
  }
 },
 "nbformat": 4,
 "nbformat_minor": 2
}
