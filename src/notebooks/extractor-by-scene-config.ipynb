{
 "cells": [
  {
   "cell_type": "markdown",
   "id": "aa8afcf3-71d3-4f5b-859f-4c2a8d073a4b",
   "metadata": {},
   "source": [
    "# TO RUN\n",
    "1. Make sure you installed all the dependencies\n",
    "2. open **'init_notebook.py'** and change the **projectFolder** to the src folder of the repository.\n",
    "3. In the following cell change the dataDir to the data directory of the InD dataset"
   ]
  },
  {
   "cell_type": "code",
   "execution_count": 1,
   "id": "e082d014-dbbd-4d84-bce5-375f9e61a048",
   "metadata": {},
   "outputs": [],
   "source": [
    "dataDir = \"G:AV datasets/inD-dataset-v1.0/data/\"\n",
    "# dataDir = \"E:/Datasets/inD-dataset-v1.0/data/\""
   ]
  },
  {
   "cell_type": "code",
   "execution_count": 2,
   "id": "1c24ee51-496d-4595-b4f7-c6be77173c92",
   "metadata": {},
   "outputs": [
    {
     "name": "stdout",
     "output_type": "stream",
     "text": [
      "current working dirE:\\AV\\DataSetExploration\\drone-dataset-tools\\src\n"
     ]
    }
   ],
   "source": [
    "exec(open('init_notebook.py').read())"
   ]
  },
  {
   "cell_type": "code",
   "execution_count": 3,
   "id": "207f4347-296b-4bff-85e8-204926f80b9c",
   "metadata": {},
   "outputs": [],
   "source": [
    "%load_ext autoreload\n",
    "%autoreload 2"
   ]
  },
  {
   "cell_type": "code",
   "execution_count": 4,
   "id": "a3213af8-def8-4be8-bf6d-28c87a5d3e7b",
   "metadata": {},
   "outputs": [],
   "source": [
    "import logging\n",
    "logging.basicConfig(level=logging.INFO)\n",
    "from extractors.loader import Loader"
   ]
  },
  {
   "cell_type": "code",
   "execution_count": 5,
   "id": "b6022f87-be2d-4f75-b4e4-db808efb3ea5",
   "metadata": {},
   "outputs": [],
   "source": [
    "loader = Loader(dataDir, 'inD')"
   ]
  },
  {
   "cell_type": "markdown",
   "id": "e051d20b-5ba7-4210-9571-d2d2ad527422",
   "metadata": {},
   "source": [
    "# LocationData - for aggregation\n",
    "\n",
    "**get all the unique crossing ids**\n",
    "```\n",
    "loc2data = loader.getLocationData(2)\n",
    "loc2data.getUniqueCrossingIds()\n",
    "```\n",
    "**get all the crossing data by scene config**\n",
    "```\n",
    "loc2data = loader.getLocationData(2, useSceneConfigToExtract=True)\n",
    "crossingDf = loc2data.getCrossingDf()\n",
    "```"
   ]
  },
  {
   "cell_type": "code",
   "execution_count": 6,
   "id": "964a7b5e-76b7-45d6-a2d8-04d8dc8f2c0d",
   "metadata": {},
   "outputs": [
    {
     "name": "stderr",
     "output_type": "stream",
     "text": [
      "INFO:root:recordingIds: [18, 19, 20, 21, 22, 23, 24, 25, 26, 27, 28, 29]\n"
     ]
    }
   ],
   "source": [
    "loc2data = loader.getLocationData(2, useSceneConfigToExtract=True)"
   ]
  },
  {
   "cell_type": "code",
   "execution_count": null,
   "id": "3295bbd4-4465-49bb-98dc-7003ab1be94e",
   "metadata": {},
   "outputs": [
    {
     "name": "stderr",
     "output_type": "stream",
     "text": [
      "recording:   0%|          | 0/12 [00:00<?, ?it/s]INFO:root:extracting crossing data for scene 1 from recording 18\n",
      "pedIds: 100%|██████████| 154/154 [00:21<00:00,  7.16it/s]\n",
      "INFO:root:extracting crossing data for scene 2 from recording 18\n",
      "pedIds: 100%|██████████| 154/154 [00:21<00:00,  7.18it/s]\n",
      "INFO:root:extracting crossing data for scene 3 from recording 18\n",
      "pedIds: 100%|██████████| 154/154 [00:21<00:00,  7.17it/s]\n",
      "INFO:root:extracting crossing data for scene 4 from recording 18\n",
      "pedIds: 100%|██████████| 154/154 [00:21<00:00,  7.17it/s]\n",
      "INFO:root:extracting crossing data for scene 5 from recording 18\n",
      "pedIds: 100%|██████████| 154/154 [00:21<00:00,  7.18it/s]\n",
      "INFO:root:extracting crossing data for scene 6 from recording 18\n",
      "pedIds:  62%|██████▏   | 95/154 [00:13<00:08,  7.29it/s]"
     ]
    }
   ],
   "source": [
    "crossingDf = loc2data.getCrossingDf()"
   ]
  },
  {
   "cell_type": "code",
   "execution_count": null,
   "id": "e562861f-62cd-4767-95ff-f8bf1e50782c",
   "metadata": {},
   "outputs": [],
   "source": []
  }
 ],
 "metadata": {
  "kernelspec": {
   "display_name": "Python 3",
   "language": "python",
   "name": "python3"
  },
  "language_info": {
   "codemirror_mode": {
    "name": "ipython",
    "version": 3
   },
   "file_extension": ".py",
   "mimetype": "text/x-python",
   "name": "python",
   "nbconvert_exporter": "python",
   "pygments_lexer": "ipython3",
   "version": "3.6.15"
  }
 },
 "nbformat": 4,
 "nbformat_minor": 5
}
