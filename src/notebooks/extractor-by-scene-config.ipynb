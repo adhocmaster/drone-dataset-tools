{
 "cells": [
  {
   "cell_type": "markdown",
   "id": "aa8afcf3-71d3-4f5b-859f-4c2a8d073a4b",
   "metadata": {},
   "source": [
    "# TO RUN\n",
    "1. Make sure you installed all the dependencies\n",
    "2. open **'init_notebook.py'** and change the **projectFolder** to the src folder of the repository.\n",
    "3. In the following cell change the dataDir to the data directory of the InD dataset"
   ]
  },
  {
   "cell_type": "code",
   "execution_count": 1,
   "id": "e082d014-dbbd-4d84-bce5-375f9e61a048",
   "metadata": {},
   "outputs": [],
   "source": [
    "dataDir = \"G:AV datasets/inD-dataset-v1.0/data/\"\n",
    "# dataDir = \"E:/Datasets/inD-dataset-v1.0/data/\""
   ]
  },
  {
   "cell_type": "code",
   "execution_count": 2,
   "id": "1c24ee51-496d-4595-b4f7-c6be77173c92",
   "metadata": {},
   "outputs": [
    {
     "name": "stdout",
     "output_type": "stream",
     "text": [
      "current working dirE:\\AV\\DataSetExploration\\drone-dataset-tools\\src\n"
     ]
    }
   ],
   "source": [
    "exec(open('init_notebook.py').read())"
   ]
  },
  {
   "cell_type": "code",
   "execution_count": 3,
   "id": "207f4347-296b-4bff-85e8-204926f80b9c",
   "metadata": {},
   "outputs": [],
   "source": [
    "%load_ext autoreload\n",
    "%autoreload 2"
   ]
  },
  {
   "cell_type": "code",
   "execution_count": 4,
   "id": "a3213af8-def8-4be8-bf6d-28c87a5d3e7b",
   "metadata": {},
   "outputs": [],
   "source": [
    "import logging\n",
    "logging.basicConfig(level=logging.INFO)\n",
    "from extractors.loader import Loader"
   ]
  },
  {
   "cell_type": "code",
   "execution_count": 5,
   "id": "b6022f87-be2d-4f75-b4e4-db808efb3ea5",
   "metadata": {},
   "outputs": [],
   "source": [
    "loader = Loader(dataDir, 'inD')"
   ]
  },
  {
   "cell_type": "markdown",
   "id": "e051d20b-5ba7-4210-9571-d2d2ad527422",
   "metadata": {},
   "source": [
    "# LocationData - for aggregation\n",
    "\n",
    "**get all the unique crossing ids**\n",
    "```\n",
    "loc2data = loader.getLocationData(2)\n",
    "loc2data.getUniqueCrossingIds()\n",
    "```\n",
    "**get all the crossing data by scene config**\n",
    "```\n",
    "loc2data = loader.getLocationData(2, useSceneConfigToExtract=True)\n",
    "crossingDf = loc2data.getCrossingDf()\n",
    "```"
   ]
  },
  {
   "cell_type": "code",
   "execution_count": 6,
   "id": "964a7b5e-76b7-45d6-a2d8-04d8dc8f2c0d",
   "metadata": {},
   "outputs": [
    {
     "name": "stderr",
     "output_type": "stream",
     "text": [
      "INFO:root:recordingIds: [18, 19, 20, 21, 22, 23, 24, 25, 26, 27, 28, 29]\n"
     ]
    }
   ],
   "source": [
    "loc2data = loader.getLocationData(2, useSceneConfigToExtract=True)"
   ]
  },
  {
   "cell_type": "code",
   "execution_count": 7,
   "id": "3295bbd4-4465-49bb-98dc-7003ab1be94e",
   "metadata": {},
   "outputs": [
    {
     "name": "stderr",
     "output_type": "stream",
     "text": [
      "recording:   0%|          | 0/12 [00:00<?, ?it/s]INFO:root:extracting crossing data for scene 10 from recording 18\n",
      "pedIds: 100%|██████████| 154/154 [00:21<00:00,  7.04it/s]\n",
      "INFO:root:extracting crossing data for scene 11 from recording 18\n",
      "pedIds: 100%|██████████| 154/154 [00:22<00:00,  6.98it/s]\n",
      "WARNING:root:18 has exception: No objects to concatenate\n",
      "recording:   8%|▊         | 1/12 [00:43<08:03, 43.97s/it]INFO:root:extracting crossing data for scene 10 from recording 19\n",
      "pedIds: 100%|██████████| 122/122 [00:14<00:00,  8.44it/s]\n",
      "INFO:root:extracting crossing data for scene 11 from recording 19\n",
      "pedIds: 100%|██████████| 122/122 [00:14<00:00,  8.35it/s]\n",
      "WARNING:root:19 has exception: No objects to concatenate\n",
      "recording:  17%|█▋        | 2/12 [01:13<05:52, 35.22s/it]INFO:root:extracting crossing data for scene 10 from recording 20\n",
      "pedIds: 100%|██████████| 155/155 [00:21<00:00,  7.26it/s]\n",
      "INFO:root:extracting crossing data for scene 11 from recording 20\n",
      "pedIds: 100%|██████████| 155/155 [00:21<00:00,  7.24it/s]\n",
      "WARNING:root:20 has exception: No objects to concatenate\n",
      "recording:  25%|██▌       | 3/12 [01:55<05:48, 38.68s/it]INFO:root:extracting crossing data for scene 10 from recording 21\n",
      "pedIds: 100%|██████████| 187/187 [00:30<00:00,  6.19it/s]\n",
      "INFO:root:extracting crossing data for scene 11 from recording 21\n",
      "pedIds: 100%|██████████| 187/187 [00:30<00:00,  6.19it/s]\n",
      "INFO:root:extracting crossing data for scene 20 from recording 21\n",
      "pedIds: 100%|██████████| 187/187 [00:30<00:00,  6.19it/s]\n",
      "INFO:root:extracting crossing data for scene 21 from recording 21\n",
      "pedIds: 100%|██████████| 187/187 [00:30<00:00,  6.19it/s]\n",
      "INFO:root:extracting crossing data for scene 22 from recording 21\n",
      "pedIds: 100%|██████████| 187/187 [00:30<00:00,  6.20it/s]\n",
      "INFO:root:extracting crossing data for scene 30 from recording 21\n",
      "pedIds: 100%|██████████| 187/187 [00:30<00:00,  6.20it/s]\n",
      "INFO:root:extracting crossing data for scene 31 from recording 21\n",
      "pedIds: 100%|██████████| 187/187 [00:30<00:00,  6.19it/s]\n",
      "INFO:root:extracting crossing data for scene 40 from recording 21\n",
      "pedIds: 100%|██████████| 187/187 [00:30<00:00,  6.21it/s]\n",
      "INFO:root:got crossing df for 21\n",
      "recording:  33%|███▎      | 4/12 [05:57<15:50, 118.79s/it]INFO:root:extracting crossing data for scene 10 from recording 22\n",
      "pedIds: 100%|██████████| 182/182 [00:29<00:00,  6.27it/s]\n",
      "INFO:root:extracting crossing data for scene 11 from recording 22\n",
      "pedIds: 100%|██████████| 182/182 [00:29<00:00,  6.23it/s]\n",
      "WARNING:root:22 has exception: No objects to concatenate\n",
      "recording:  42%|████▏     | 5/12 [06:55<11:18, 96.96s/it] INFO:root:extracting crossing data for scene 10 from recording 23\n",
      "pedIds: 100%|██████████| 189/189 [00:30<00:00,  6.21it/s]\n",
      "INFO:root:extracting crossing data for scene 11 from recording 23\n",
      "pedIds: 100%|██████████| 189/189 [00:31<00:00,  5.98it/s]\n",
      "INFO:root:extracting crossing data for scene 20 from recording 23\n",
      "pedIds: 100%|██████████| 189/189 [00:30<00:00,  6.11it/s]\n",
      "INFO:root:extracting crossing data for scene 21 from recording 23\n",
      "pedIds: 100%|██████████| 189/189 [00:30<00:00,  6.16it/s]\n",
      "INFO:root:extracting crossing data for scene 22 from recording 23\n",
      "pedIds: 100%|██████████| 189/189 [00:30<00:00,  6.11it/s]\n",
      "INFO:root:extracting crossing data for scene 30 from recording 23\n",
      "pedIds: 100%|██████████| 189/189 [00:30<00:00,  6.22it/s]\n",
      "INFO:root:extracting crossing data for scene 31 from recording 23\n",
      "pedIds: 100%|██████████| 189/189 [00:30<00:00,  6.23it/s]\n",
      "INFO:root:extracting crossing data for scene 40 from recording 23\n",
      "pedIds: 100%|██████████| 189/189 [00:30<00:00,  6.17it/s]\n",
      "INFO:root:got crossing df for 23\n",
      "recording:  50%|█████     | 6/12 [11:01<14:45, 147.65s/it]INFO:root:extracting crossing data for scene 10 from recording 24\n",
      "pedIds: 100%|██████████| 147/147 [00:20<00:00,  7.25it/s]\n",
      "INFO:root:extracting crossing data for scene 11 from recording 24\n",
      "pedIds: 100%|██████████| 147/147 [00:20<00:00,  7.32it/s]\n",
      "WARNING:root:24 has exception: No objects to concatenate\n",
      "recording:  58%|█████▊    | 7/12 [11:42<09:22, 112.58s/it]INFO:root:extracting crossing data for scene 10 from recording 25\n",
      "pedIds: 100%|██████████| 193/193 [00:29<00:00,  6.59it/s]\n",
      "INFO:root:extracting crossing data for scene 11 from recording 25\n",
      "pedIds: 100%|██████████| 193/193 [00:29<00:00,  6.59it/s]\n",
      "WARNING:root:25 has exception: No objects to concatenate\n",
      "recording:  67%|██████▋   | 8/12 [12:40<06:21, 95.40s/it] INFO:root:extracting crossing data for scene 10 from recording 26\n",
      "pedIds: 100%|██████████| 160/160 [00:30<00:00,  5.30it/s]\n",
      "INFO:root:extracting crossing data for scene 11 from recording 26\n",
      "pedIds: 100%|██████████| 160/160 [00:30<00:00,  5.30it/s]\n",
      "INFO:root:extracting crossing data for scene 20 from recording 26\n",
      "pedIds: 100%|██████████| 160/160 [00:30<00:00,  5.27it/s]\n",
      "INFO:root:extracting crossing data for scene 21 from recording 26\n",
      "pedIds: 100%|██████████| 160/160 [00:30<00:00,  5.25it/s]\n",
      "INFO:root:extracting crossing data for scene 22 from recording 26\n",
      "pedIds: 100%|██████████| 160/160 [00:30<00:00,  5.25it/s]\n",
      "INFO:root:extracting crossing data for scene 30 from recording 26\n",
      "pedIds: 100%|██████████| 160/160 [00:30<00:00,  5.31it/s]\n",
      "INFO:root:extracting crossing data for scene 31 from recording 26\n",
      "pedIds: 100%|██████████| 160/160 [00:30<00:00,  5.30it/s]\n",
      "INFO:root:extracting crossing data for scene 40 from recording 26\n",
      "pedIds: 100%|██████████| 160/160 [00:30<00:00,  5.30it/s]\n",
      "INFO:root:got crossing df for 26\n",
      "recording:  75%|███████▌  | 9/12 [16:43<07:04, 141.34s/it]INFO:root:extracting crossing data for scene 10 from recording 27\n",
      "pedIds: 100%|██████████| 221/221 [00:46<00:00,  4.77it/s]\n",
      "INFO:root:extracting crossing data for scene 11 from recording 27\n",
      "pedIds: 100%|██████████| 221/221 [00:46<00:00,  4.77it/s]\n",
      "INFO:root:extracting crossing data for scene 20 from recording 27\n",
      "pedIds: 100%|██████████| 221/221 [00:46<00:00,  4.77it/s]\n",
      "INFO:root:extracting crossing data for scene 21 from recording 27\n",
      "pedIds: 100%|██████████| 221/221 [00:46<00:00,  4.77it/s]\n",
      "INFO:root:extracting crossing data for scene 22 from recording 27\n",
      "pedIds: 100%|██████████| 221/221 [00:46<00:00,  4.75it/s]\n",
      "INFO:root:extracting crossing data for scene 30 from recording 27\n",
      "pedIds: 100%|██████████| 221/221 [00:46<00:00,  4.78it/s]\n",
      "INFO:root:extracting crossing data for scene 31 from recording 27\n",
      "pedIds: 100%|██████████| 221/221 [00:46<00:00,  4.79it/s]\n",
      "WARNING:root:27 has exception: No objects to concatenate\n",
      "recording:  83%|████████▎ | 10/12 [22:07<06:35, 197.79s/it]INFO:root:extracting crossing data for scene 10 from recording 28\n",
      "pedIds: 100%|██████████| 166/166 [00:31<00:00,  5.27it/s]\n",
      "INFO:root:extracting crossing data for scene 11 from recording 28\n",
      "pedIds: 100%|██████████| 166/166 [00:31<00:00,  5.20it/s]\n",
      "WARNING:root:28 has exception: No objects to concatenate\n",
      "recording:  92%|█████████▏| 11/12 [23:10<02:36, 156.67s/it]INFO:root:extracting crossing data for scene 10 from recording 29\n",
      "pedIds: 100%|██████████| 223/223 [00:45<00:00,  4.88it/s]\n",
      "INFO:root:extracting crossing data for scene 11 from recording 29\n",
      "pedIds: 100%|██████████| 223/223 [00:45<00:00,  4.91it/s]\n",
      "INFO:root:extracting crossing data for scene 20 from recording 29\n",
      "pedIds: 100%|██████████| 223/223 [00:46<00:00,  4.84it/s]\n",
      "INFO:root:extracting crossing data for scene 21 from recording 29\n",
      "pedIds: 100%|██████████| 223/223 [00:46<00:00,  4.80it/s]\n",
      "INFO:root:extracting crossing data for scene 22 from recording 29\n",
      "pedIds: 100%|██████████| 223/223 [00:45<00:00,  4.86it/s]\n",
      "INFO:root:extracting crossing data for scene 30 from recording 29\n",
      "pedIds: 100%|██████████| 223/223 [00:46<00:00,  4.77it/s]\n",
      "INFO:root:extracting crossing data for scene 31 from recording 29\n",
      "pedIds: 100%|██████████| 223/223 [00:46<00:00,  4.84it/s]\n",
      "INFO:root:extracting crossing data for scene 40 from recording 29\n",
      "pedIds: 100%|██████████| 223/223 [00:46<00:00,  4.83it/s]\n",
      "INFO:root:got crossing df for 29\n",
      "recording: 100%|██████████| 12/12 [29:19<00:00, 146.62s/it]\n"
     ]
    }
   ],
   "source": [
    "crossingDf = loc2data.getCrossingDf()"
   ]
  },
  {
   "cell_type": "markdown",
   "id": "152d1c78-53bd-479c-baf5-9b1b4c4611e2",
   "metadata": {},
   "source": [
    "# Saving and Loading pre--processed Location data"
   ]
  },
  {
   "cell_type": "code",
   "execution_count": 8,
   "id": "e562861f-62cd-4767-95ff-f8bf1e50782c",
   "metadata": {},
   "outputs": [],
   "source": [
    "loc2data.saveCrossingDf(\"../data\") # only crossing dataframe"
   ]
  },
  {
   "cell_type": "code",
   "execution_count": 9,
   "id": "2bb4a9c8-d018-46a7-9611-841b2f8a9c06",
   "metadata": {},
   "outputs": [
    {
     "name": "stderr",
     "output_type": "stream",
     "text": [
      "INFO:root:saved to ../data\\location-2\\all.dill\n"
     ]
    }
   ],
   "source": [
    "loc2data.save(\"../data\") # whole thing as a dill object"
   ]
  },
  {
   "cell_type": "markdown",
   "id": "d411d73a-cab9-4ce5-b65c-3e2e8d667f48",
   "metadata": {},
   "source": [
    "# Validate if there are trajectories not captured by the scene-based extractor"
   ]
  },
  {
   "cell_type": "code",
   "execution_count": 10,
   "id": "8b1f350d-61b6-4da5-a067-331b46d41ec1",
   "metadata": {},
   "outputs": [],
   "source": [
    "from tools.TrajectoryUtils import TrajectoryUtils\n",
    "from tools.TrajectoryVisualizer import TrajectoryVisualizer\n",
    "import matplotlib.pyplot as plt\n",
    "import numpy as np\n",
    "visualizer = TrajectoryVisualizer(loader)"
   ]
  },
  {
   "cell_type": "code",
   "execution_count": 11,
   "id": "2882b10d-be67-457a-8345-e8a3d60c0895",
   "metadata": {},
   "outputs": [],
   "source": [
    "# visualizer.showLocationCrossingTracks(loc2data)"
   ]
  },
  {
   "cell_type": "code",
   "execution_count": 12,
   "id": "47205736-f6b3-4891-a4c6-aed93a23f2dc",
   "metadata": {},
   "outputs": [
    {
     "ename": "KeyError",
     "evalue": "'1'",
     "output_type": "error",
     "traceback": [
      "\u001b[1;31m---------------------------------------------------------------------------\u001b[0m",
      "\u001b[1;31mKeyError\u001b[0m                                  Traceback (most recent call last)",
      "\u001b[1;32m<ipython-input-12-d3d386b47d8b>\u001b[0m in \u001b[0;36m<module>\u001b[1;34m\u001b[0m\n\u001b[1;32m----> 1\u001b[1;33m \u001b[0msceneData\u001b[0m \u001b[1;33m=\u001b[0m \u001b[0mloc2data\u001b[0m\u001b[1;33m.\u001b[0m\u001b[0mgetSceneCrossingData\u001b[0m\u001b[1;33m(\u001b[0m\u001b[1;36m1\u001b[0m\u001b[1;33m,\u001b[0m \u001b[1;36m10\u001b[0m\u001b[1;33m,\u001b[0m \u001b[1;36m5\u001b[0m\u001b[1;33m,\u001b[0m \u001b[0mrefresh\u001b[0m\u001b[1;33m=\u001b[0m\u001b[1;32mFalse\u001b[0m\u001b[1;33m)\u001b[0m\u001b[1;33m\u001b[0m\u001b[1;33m\u001b[0m\u001b[0m\n\u001b[0m\u001b[0;32m      2\u001b[0m \u001b[1;31m# sceneDf = loc2data.getSceneCrossingDf('1', 0, 0)\u001b[0m\u001b[1;33m\u001b[0m\u001b[1;33m\u001b[0m\u001b[1;33m\u001b[0m\u001b[0m\n",
      "\u001b[1;32mE:\\AV\\DataSetExploration\\drone-dataset-tools\\src\\extractors\\LocationData.py\u001b[0m in \u001b[0;36mgetSceneCrossingData\u001b[1;34m(self, sceneId, boxWidth, boxHeight, refresh, fps)\u001b[0m\n\u001b[0;32m    145\u001b[0m \u001b[1;33m\u001b[0m\u001b[0m\n\u001b[0;32m    146\u001b[0m       \u001b[0mdata\u001b[0m \u001b[1;33m=\u001b[0m \u001b[0mself\u001b[0m\u001b[1;33m.\u001b[0m\u001b[0mgetSceneCrossingDf\u001b[0m\u001b[1;33m(\u001b[0m\u001b[0msceneId\u001b[0m\u001b[1;33m,\u001b[0m \u001b[0mboxWidth\u001b[0m\u001b[1;33m,\u001b[0m \u001b[0mboxHeight\u001b[0m\u001b[1;33m)\u001b[0m\u001b[1;33m\u001b[0m\u001b[1;33m\u001b[0m\u001b[0m\n\u001b[1;32m--> 147\u001b[1;33m       \u001b[0msceneConfig\u001b[0m \u001b[1;33m=\u001b[0m \u001b[0mself\u001b[0m\u001b[1;33m.\u001b[0m\u001b[0mgetSceneConfig\u001b[0m\u001b[1;33m(\u001b[0m\u001b[1;33m)\u001b[0m\u001b[1;33m[\u001b[0m\u001b[0mstr\u001b[0m\u001b[1;33m(\u001b[0m\u001b[0msceneId\u001b[0m\u001b[1;33m)\u001b[0m\u001b[1;33m]\u001b[0m\u001b[1;33m\u001b[0m\u001b[1;33m\u001b[0m\u001b[0m\n\u001b[0m\u001b[0;32m    148\u001b[0m       self.__sceneData[sceneId] = SceneData(\n\u001b[0;32m    149\u001b[0m                                             \u001b[0mself\u001b[0m\u001b[1;33m.\u001b[0m\u001b[0mlocationId\u001b[0m\u001b[1;33m,\u001b[0m\u001b[1;33m\u001b[0m\u001b[1;33m\u001b[0m\u001b[0m\n",
      "\u001b[1;31mKeyError\u001b[0m: '1'"
     ]
    }
   ],
   "source": [
    "sceneData = loc2data.getSceneCrossingData(1, 10, 5, refresh=False)\n",
    "# sceneDf = loc2data.getSceneCrossingDf('1', 0, 0)"
   ]
  },
  {
   "cell_type": "code",
   "execution_count": null,
   "id": "926acb35-8939-4291-8b02-d138d14012fd",
   "metadata": {},
   "outputs": [],
   "source": [
    "sceneData.data.head()"
   ]
  },
  {
   "cell_type": "code",
   "execution_count": null,
   "id": "cce4e2c2-c1ee-4392-82d9-07277fad0811",
   "metadata": {},
   "outputs": [],
   "source": [
    "visualizer.showLocationSceneData(sceneData)"
   ]
  },
  {
   "cell_type": "code",
   "execution_count": null,
   "id": "cd357aa1-943f-48a7-84e9-d99391926c34",
   "metadata": {},
   "outputs": [],
   "source": [
    "scene2Data = loc2data.getSceneCrossingData(11, 10, 6, refresh=False)\n",
    "visualizer.showLocationSceneData(scene2Data)"
   ]
  },
  {
   "cell_type": "code",
   "execution_count": null,
   "id": "a784fcf4-1577-426d-8883-97d6b9fa923a",
   "metadata": {},
   "outputs": [],
   "source": [
    "scene20Data = loc2data.getSceneCrossingData(20, 10, 6, refresh=False)\n",
    "visualizer.showLocationSceneData(scene20Data)\n",
    "\n",
    "scene21Data = loc2data.getSceneCrossingData(21, 20, 9, refresh=False)\n",
    "visualizer.showLocationSceneData(scene21Data, onlyClipped=False)\n",
    "\n",
    "scene22Data = loc2data.getSceneCrossingData(22, 10, 6, refresh=False)\n",
    "visualizer.showLocationSceneData(scene22Data)"
   ]
  },
  {
   "cell_type": "code",
   "execution_count": null,
   "id": "66d356c0-8a03-45ba-ad81-5dea15da7490",
   "metadata": {},
   "outputs": [],
   "source": [
    "scene30Data = loc2data.getSceneCrossingData(30, 10, 6, refresh=False)\n",
    "visualizer.showLocationSceneData(scene30Data)\n",
    "\n",
    "scene31Data = loc2data.getSceneCrossingData(31, 10, 6, refresh=False)\n",
    "visualizer.showLocationSceneData(scene31Data)"
   ]
  },
  {
   "cell_type": "code",
   "execution_count": null,
   "id": "d631aba1-4a18-4873-a481-e7054abd0188",
   "metadata": {},
   "outputs": [],
   "source": [
    "scene4Data = loc2data.getSceneCrossingData(4, 6, 6, refresh=False)\n",
    "visualizer.showLocationSceneData(scene4Data)"
   ]
  },
  {
   "cell_type": "code",
   "execution_count": null,
   "id": "cdfe7c0e-33f8-4cf5-a801-1a5d0b86c622",
   "metadata": {},
   "outputs": [],
   "source": []
  },
  {
   "cell_type": "code",
   "execution_count": null,
   "id": "5b0a432d-bad1-43a0-b20e-2912e79755b9",
   "metadata": {},
   "outputs": [],
   "source": []
  }
 ],
 "metadata": {
  "kernelspec": {
   "display_name": "Python 3",
   "language": "python",
   "name": "python3"
  },
  "language_info": {
   "codemirror_mode": {
    "name": "ipython",
    "version": 3
   },
   "file_extension": ".py",
   "mimetype": "text/x-python",
   "name": "python",
   "nbconvert_exporter": "python",
   "pygments_lexer": "ipython3",
   "version": "3.6.15"
  }
 },
 "nbformat": 4,
 "nbformat_minor": 5
}
