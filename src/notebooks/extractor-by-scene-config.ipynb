{
 "cells": [
  {
   "cell_type": "markdown",
   "id": "aa8afcf3-71d3-4f5b-859f-4c2a8d073a4b",
   "metadata": {},
   "source": [
    "# TO RUN\n",
    "1. Make sure you installed all the dependencies\n",
    "2. open **'init_notebook.py'** and change the **projectFolder** to the src folder of the repository.\n",
    "3. In the following cell change the dataDir to the data directory of the InD dataset"
   ]
  },
  {
   "cell_type": "code",
   "execution_count": 1,
   "id": "e082d014-dbbd-4d84-bce5-375f9e61a048",
   "metadata": {},
   "outputs": [],
   "source": [
    "dataDir = \"G:AV datasets/inD-dataset-v1.0/data/\"\n",
    "dataDir = \"E:/Datasets/inD-dataset-v1.0/data/\""
   ]
  },
  {
   "cell_type": "code",
   "execution_count": 2,
   "id": "1c24ee51-496d-4595-b4f7-c6be77173c92",
   "metadata": {},
   "outputs": [
    {
     "name": "stdout",
     "output_type": "stream",
     "text": [
      "current working dirD:\\AV\\DataSetExploration\\drone-dataset-tools\\src\n"
     ]
    }
   ],
   "source": [
    "exec(open('init_notebook.py').read())"
   ]
  },
  {
   "cell_type": "code",
   "execution_count": 3,
   "id": "207f4347-296b-4bff-85e8-204926f80b9c",
   "metadata": {},
   "outputs": [
    {
     "name": "stderr",
     "output_type": "stream",
     "text": [
      "No traceback available to show.\n"
     ]
    }
   ],
   "source": [
    "%load_ext autoreload\n",
    "%autoreload 2\n",
    "%tb"
   ]
  },
  {
   "cell_type": "code",
   "execution_count": 4,
   "id": "a3213af8-def8-4be8-bf6d-28c87a5d3e7b",
   "metadata": {},
   "outputs": [],
   "source": [
    "import logging\n",
    "logging.basicConfig(level=logging.INFO)\n",
    "from loguru import logger\n",
    "logger.remove()\n",
    "logger.add(sys.stdout, format=\"{level} {message}\", filter=\"my_module\", level=\"INFO\")\n",
    "\n",
    "from extractors.loader import Loader"
   ]
  },
  {
   "cell_type": "code",
   "execution_count": 5,
   "id": "b6022f87-be2d-4f75-b4e4-db808efb3ea5",
   "metadata": {},
   "outputs": [],
   "source": [
    "loader = Loader(dataDir, 'inD')"
   ]
  },
  {
   "cell_type": "markdown",
   "id": "e051d20b-5ba7-4210-9571-d2d2ad527422",
   "metadata": {},
   "source": [
    "# LocationData - for aggregation\n",
    "\n",
    "**get all the unique crossing ids**\n",
    "```\n",
    "loc2data = loader.getLocationData(2)\n",
    "loc2data.getUniqueCrossingIds()\n",
    "```\n",
    "**get all the crossing data by scene config**\n",
    "```\n",
    "loc2data = loader.getLocationData(2, useSceneConfigToExtract=True)\n",
    "crossingDf = loc2data.getCrossingDf()\n",
    "```"
   ]
  },
  {
   "cell_type": "code",
   "execution_count": 12,
   "id": "964a7b5e-76b7-45d6-a2d8-04d8dc8f2c0d",
   "metadata": {},
   "outputs": [
    {
     "name": "stderr",
     "output_type": "stream",
     "text": [
      "INFO:root:recordingIds: [18, 19, 20, 21, 22, 23, 24, 25, 26, 27, 28, 29]\n",
      "INFO:root:Downsampling recording 18 from 25.0 to 2.5\n",
      "downsampling:  51%|█████████████████████████████████████████████████████████████████████████████████████████████████████████▍                                                                                                     | 318774/625989 [00:13<00:13, 23043.25it/s]\n"
     ]
    },
    {
     "ename": "KeyboardInterrupt",
     "evalue": "",
     "output_type": "error",
     "traceback": [
      "\u001b[1;31m---------------------------------------------------------------------------\u001b[0m",
      "\u001b[1;31mKeyboardInterrupt\u001b[0m                         Traceback (most recent call last)",
      "Cell \u001b[1;32mIn [12], line 1\u001b[0m\n\u001b[1;32m----> 1\u001b[0m loc2data \u001b[38;5;241m=\u001b[39m \u001b[43mloader\u001b[49m\u001b[38;5;241;43m.\u001b[39;49m\u001b[43mgetLocationData\u001b[49m\u001b[43m(\u001b[49m\u001b[38;5;241;43m2\u001b[39;49m\u001b[43m,\u001b[49m\u001b[43m \u001b[49m\u001b[43museSceneConfigToExtract\u001b[49m\u001b[38;5;241;43m=\u001b[39;49m\u001b[38;5;28;43;01mTrue\u001b[39;49;00m\u001b[43m)\u001b[49m\n",
      "File \u001b[1;32mD:\\AV\\DataSetExploration\\drone-dataset-tools\\src\\extractors\\loader.py:145\u001b[0m, in \u001b[0;36mLoader.getLocationData\u001b[1;34m(self, locationId, useSceneConfigToExtract, precomputeSceneData)\u001b[0m\n\u001b[0;32m    143\u001b[0m recordingIds \u001b[38;5;241m=\u001b[39m \u001b[38;5;28mself\u001b[39m\u001b[38;5;241m.\u001b[39mgetRecordingIdsOfALocation(locationId)\n\u001b[0;32m    144\u001b[0m logging\u001b[38;5;241m.\u001b[39minfo(\u001b[38;5;124mf\u001b[39m\u001b[38;5;124m\"\u001b[39m\u001b[38;5;124mrecordingIds: \u001b[39m\u001b[38;5;132;01m{\u001b[39;00mrecordingIds\u001b[38;5;132;01m}\u001b[39;00m\u001b[38;5;124m\"\u001b[39m)\n\u001b[1;32m--> 145\u001b[0m recordingDataList \u001b[38;5;241m=\u001b[39m [\u001b[38;5;28mself\u001b[39m\u001b[38;5;241m.\u001b[39mgetRecordingData(rId) \u001b[38;5;28;01mfor\u001b[39;00m rId \u001b[38;5;129;01min\u001b[39;00m recordingIds]\n\u001b[0;32m    146\u001b[0m \u001b[38;5;28mself\u001b[39m\u001b[38;5;241m.\u001b[39mvalidateLocationRecordingMeta()\n\u001b[0;32m    148\u001b[0m \u001b[38;5;28;01mreturn\u001b[39;00m LocationData(\n\u001b[0;32m    149\u001b[0m     locationId \u001b[38;5;241m=\u001b[39m locationId, \n\u001b[0;32m    150\u001b[0m     recordingIds \u001b[38;5;241m=\u001b[39m recordingIds, \n\u001b[1;32m   (...)\u001b[0m\n\u001b[0;32m    154\u001b[0m     precomputeSceneData\u001b[38;5;241m=\u001b[39mprecomputeSceneData\n\u001b[0;32m    155\u001b[0m )\n",
      "File \u001b[1;32mD:\\AV\\DataSetExploration\\drone-dataset-tools\\src\\extractors\\loader.py:145\u001b[0m, in \u001b[0;36m<listcomp>\u001b[1;34m(.0)\u001b[0m\n\u001b[0;32m    143\u001b[0m recordingIds \u001b[38;5;241m=\u001b[39m \u001b[38;5;28mself\u001b[39m\u001b[38;5;241m.\u001b[39mgetRecordingIdsOfALocation(locationId)\n\u001b[0;32m    144\u001b[0m logging\u001b[38;5;241m.\u001b[39minfo(\u001b[38;5;124mf\u001b[39m\u001b[38;5;124m\"\u001b[39m\u001b[38;5;124mrecordingIds: \u001b[39m\u001b[38;5;132;01m{\u001b[39;00mrecordingIds\u001b[38;5;132;01m}\u001b[39;00m\u001b[38;5;124m\"\u001b[39m)\n\u001b[1;32m--> 145\u001b[0m recordingDataList \u001b[38;5;241m=\u001b[39m [\u001b[38;5;28;43mself\u001b[39;49m\u001b[38;5;241;43m.\u001b[39;49m\u001b[43mgetRecordingData\u001b[49m\u001b[43m(\u001b[49m\u001b[43mrId\u001b[49m\u001b[43m)\u001b[49m \u001b[38;5;28;01mfor\u001b[39;00m rId \u001b[38;5;129;01min\u001b[39;00m recordingIds]\n\u001b[0;32m    146\u001b[0m \u001b[38;5;28mself\u001b[39m\u001b[38;5;241m.\u001b[39mvalidateLocationRecordingMeta()\n\u001b[0;32m    148\u001b[0m \u001b[38;5;28;01mreturn\u001b[39;00m LocationData(\n\u001b[0;32m    149\u001b[0m     locationId \u001b[38;5;241m=\u001b[39m locationId, \n\u001b[0;32m    150\u001b[0m     recordingIds \u001b[38;5;241m=\u001b[39m recordingIds, \n\u001b[1;32m   (...)\u001b[0m\n\u001b[0;32m    154\u001b[0m     precomputeSceneData\u001b[38;5;241m=\u001b[39mprecomputeSceneData\n\u001b[0;32m    155\u001b[0m )\n",
      "File \u001b[1;32mD:\\AV\\DataSetExploration\\drone-dataset-tools\\src\\extractors\\loader.py:90\u001b[0m, in \u001b[0;36mLoader.getRecordingData\u001b[1;34m(self, recordingId)\u001b[0m\n\u001b[0;32m     86\u001b[0m \u001b[38;5;28mself\u001b[39m\u001b[38;5;241m.\u001b[39maddUniqueTrackIds(tracksDf)    \n\u001b[0;32m     87\u001b[0m backgroundImagePath \u001b[38;5;241m=\u001b[39m \u001b[38;5;28mself\u001b[39m\u001b[38;5;241m.\u001b[39mgetBackgroundImagePath(recordingId)\n\u001b[1;32m---> 90\u001b[0m \u001b[38;5;28;01mreturn\u001b[39;00m \u001b[43mRecordingData\u001b[49m\u001b[43m(\u001b[49m\u001b[43mrecordingId\u001b[49m\u001b[43m,\u001b[49m\u001b[43m \u001b[49m\u001b[43mrecordingMeta\u001b[49m\u001b[43m,\u001b[49m\u001b[43m \u001b[49m\u001b[43mtracksMetaDf\u001b[49m\u001b[43m,\u001b[49m\u001b[43m \u001b[49m\u001b[43mtracksDf\u001b[49m\u001b[43m,\u001b[49m\u001b[43m \u001b[49m\u001b[43mbackgroundImagePath\u001b[49m\u001b[43m)\u001b[49m\n",
      "File \u001b[1;32mD:\\AV\\DataSetExploration\\drone-dataset-tools\\src\\extractors\\RecordingData.py:35\u001b[0m, in \u001b[0;36mRecordingData.__init__\u001b[1;34m(self, recordingId, recordingMeta, tracksMetaDf, tracksDf, backgroundImagePath)\u001b[0m\n\u001b[0;32m     33\u001b[0m \u001b[38;5;28mself\u001b[39m\u001b[38;5;241m.\u001b[39m_trackIdClassMap \u001b[38;5;241m=\u001b[39m {}\n\u001b[0;32m     34\u001b[0m \u001b[38;5;28mself\u001b[39m\u001b[38;5;241m.\u001b[39m_extractTrackIdClasses()\n\u001b[1;32m---> 35\u001b[0m \u001b[38;5;28;43mself\u001b[39;49m\u001b[38;5;241;43m.\u001b[39;49m\u001b[43m_downSampleByTrackLifeTime\u001b[49m\u001b[43m(\u001b[49m\u001b[43m)\u001b[49m\n",
      "File \u001b[1;32mD:\\AV\\DataSetExploration\\drone-dataset-tools\\src\\extractors\\RecordingData.py:47\u001b[0m, in \u001b[0;36mRecordingData._downSampleByTrackLifeTime\u001b[1;34m(self, fromFPS, toFPS)\u001b[0m\n\u001b[0;32m     45\u001b[0m \u001b[38;5;28;01mdef\u001b[39;00m \u001b[38;5;21m_downSampleByTrackLifeTime\u001b[39m(\u001b[38;5;28mself\u001b[39m, fromFPS\u001b[38;5;241m=\u001b[39mORIGINAL_FPS, toFPS\u001b[38;5;241m=\u001b[39mFPS):\n\u001b[0;32m     46\u001b[0m     logging\u001b[38;5;241m.\u001b[39minfo(\u001b[38;5;124mf\u001b[39m\u001b[38;5;124m\"\u001b[39m\u001b[38;5;124mDownsampling recording \u001b[39m\u001b[38;5;132;01m{\u001b[39;00m\u001b[38;5;28mself\u001b[39m\u001b[38;5;241m.\u001b[39mrecordingId\u001b[38;5;132;01m}\u001b[39;00m\u001b[38;5;124m from \u001b[39m\u001b[38;5;132;01m{\u001b[39;00mfromFPS\u001b[38;5;132;01m}\u001b[39;00m\u001b[38;5;124m to \u001b[39m\u001b[38;5;132;01m{\u001b[39;00mtoFPS\u001b[38;5;132;01m}\u001b[39;00m\u001b[38;5;124m\"\u001b[39m)\n\u001b[1;32m---> 47\u001b[0m     \u001b[38;5;28mself\u001b[39m\u001b[38;5;241m.\u001b[39mtracksDf \u001b[38;5;241m=\u001b[39m \u001b[43mTrajectoryUtils\u001b[49m\u001b[38;5;241;43m.\u001b[39;49m\u001b[43mdownSampleByTrackLifeTime\u001b[49m\u001b[43m(\u001b[49m\u001b[38;5;28;43mself\u001b[39;49m\u001b[38;5;241;43m.\u001b[39;49m\u001b[43mtracksDf\u001b[49m\u001b[43m,\u001b[49m\u001b[43m \u001b[49m\u001b[43mfromFPS\u001b[49m\u001b[43m,\u001b[49m\u001b[43m \u001b[49m\u001b[43mtoFPS\u001b[49m\u001b[43m)\u001b[49m\n",
      "File \u001b[1;32mD:\\AV\\DataSetExploration\\drone-dataset-tools\\src\\tools\\TrajectoryUtils.py:254\u001b[0m, in \u001b[0;36mTrajectoryUtils.downSampleByTrackLifeTime\u001b[1;34m(traj, fromFPS, toFPS)\u001b[0m\n\u001b[0;32m    251\u001b[0m keepInterval \u001b[38;5;241m=\u001b[39m fromFPS \u001b[38;5;241m/\u001b[39m\u001b[38;5;241m/\u001b[39m toFPS\n\u001b[0;32m    253\u001b[0m downTraj \u001b[38;5;241m=\u001b[39m []\n\u001b[1;32m--> 254\u001b[0m \u001b[38;5;28;01mfor\u001b[39;00m _, row \u001b[38;5;129;01min\u001b[39;00m  tqdm(traj\u001b[38;5;241m.\u001b[39miterrows(), desc\u001b[38;5;241m=\u001b[39m\u001b[38;5;124mf\u001b[39m\u001b[38;5;124m\"\u001b[39m\u001b[38;5;124mdownsampling\u001b[39m\u001b[38;5;124m\"\u001b[39m, total\u001b[38;5;241m=\u001b[39m\u001b[38;5;28mlen\u001b[39m(traj)):\n\u001b[0;32m    255\u001b[0m \u001b[38;5;66;03m# for _, row in traj.iterrows():\u001b[39;00m\n\u001b[0;32m    256\u001b[0m     \u001b[38;5;28;01mif\u001b[39;00m row[\u001b[38;5;124m\"\u001b[39m\u001b[38;5;124mtrackLifetime\u001b[39m\u001b[38;5;124m\"\u001b[39m] \u001b[38;5;241m%\u001b[39m keepInterval \u001b[38;5;241m==\u001b[39m \u001b[38;5;241m0\u001b[39m: \u001b[38;5;66;03m# a little error will break it\u001b[39;00m\n\u001b[0;32m    257\u001b[0m         downTraj\u001b[38;5;241m.\u001b[39mappend(row)\n",
      "File \u001b[1;32m~\\anaconda3\\envs\\drone-dataset-tools38\\lib\\site-packages\\tqdm\\std.py:1195\u001b[0m, in \u001b[0;36mtqdm.__iter__\u001b[1;34m(self)\u001b[0m\n\u001b[0;32m   1192\u001b[0m time \u001b[38;5;241m=\u001b[39m \u001b[38;5;28mself\u001b[39m\u001b[38;5;241m.\u001b[39m_time\n\u001b[0;32m   1194\u001b[0m \u001b[38;5;28;01mtry\u001b[39;00m:\n\u001b[1;32m-> 1195\u001b[0m     \u001b[38;5;28;01mfor\u001b[39;00m obj \u001b[38;5;129;01min\u001b[39;00m iterable:\n\u001b[0;32m   1196\u001b[0m         \u001b[38;5;28;01myield\u001b[39;00m obj\n\u001b[0;32m   1197\u001b[0m         \u001b[38;5;66;03m# Update and possibly print the progressbar.\u001b[39;00m\n\u001b[0;32m   1198\u001b[0m         \u001b[38;5;66;03m# Note: does not call self.update(1) for speed optimisation.\u001b[39;00m\n",
      "File \u001b[1;32m~\\anaconda3\\envs\\drone-dataset-tools38\\lib\\site-packages\\pandas\\core\\frame.py:1410\u001b[0m, in \u001b[0;36mDataFrame.iterrows\u001b[1;34m(self)\u001b[0m\n\u001b[0;32m   1408\u001b[0m klass \u001b[38;5;241m=\u001b[39m \u001b[38;5;28mself\u001b[39m\u001b[38;5;241m.\u001b[39m_constructor_sliced\n\u001b[0;32m   1409\u001b[0m \u001b[38;5;28;01mfor\u001b[39;00m k, v \u001b[38;5;129;01min\u001b[39;00m \u001b[38;5;28mzip\u001b[39m(\u001b[38;5;28mself\u001b[39m\u001b[38;5;241m.\u001b[39mindex, \u001b[38;5;28mself\u001b[39m\u001b[38;5;241m.\u001b[39mvalues):\n\u001b[1;32m-> 1410\u001b[0m     s \u001b[38;5;241m=\u001b[39m \u001b[43mklass\u001b[49m\u001b[43m(\u001b[49m\u001b[43mv\u001b[49m\u001b[43m,\u001b[49m\u001b[43m \u001b[49m\u001b[43mindex\u001b[49m\u001b[38;5;241;43m=\u001b[39;49m\u001b[43mcolumns\u001b[49m\u001b[43m,\u001b[49m\u001b[43m \u001b[49m\u001b[43mname\u001b[49m\u001b[38;5;241;43m=\u001b[39;49m\u001b[43mk\u001b[49m\u001b[43m)\u001b[49m\u001b[38;5;241m.\u001b[39m__finalize__(\u001b[38;5;28mself\u001b[39m)\n\u001b[0;32m   1411\u001b[0m     \u001b[38;5;28;01myield\u001b[39;00m k, s\n",
      "File \u001b[1;32m~\\anaconda3\\envs\\drone-dataset-tools38\\lib\\site-packages\\pandas\\core\\series.py:474\u001b[0m, in \u001b[0;36mSeries.__init__\u001b[1;34m(self, data, index, dtype, name, copy, fastpath)\u001b[0m\n\u001b[0;32m    472\u001b[0m manager \u001b[38;5;241m=\u001b[39m get_option(\u001b[38;5;124m\"\u001b[39m\u001b[38;5;124mmode.data_manager\u001b[39m\u001b[38;5;124m\"\u001b[39m)\n\u001b[0;32m    473\u001b[0m \u001b[38;5;28;01mif\u001b[39;00m manager \u001b[38;5;241m==\u001b[39m \u001b[38;5;124m\"\u001b[39m\u001b[38;5;124mblock\u001b[39m\u001b[38;5;124m\"\u001b[39m:\n\u001b[1;32m--> 474\u001b[0m     data \u001b[38;5;241m=\u001b[39m \u001b[43mSingleBlockManager\u001b[49m\u001b[38;5;241;43m.\u001b[39;49m\u001b[43mfrom_array\u001b[49m\u001b[43m(\u001b[49m\u001b[43mdata\u001b[49m\u001b[43m,\u001b[49m\u001b[43m \u001b[49m\u001b[43mindex\u001b[49m\u001b[43m)\u001b[49m\n\u001b[0;32m    475\u001b[0m \u001b[38;5;28;01melif\u001b[39;00m manager \u001b[38;5;241m==\u001b[39m \u001b[38;5;124m\"\u001b[39m\u001b[38;5;124marray\u001b[39m\u001b[38;5;124m\"\u001b[39m:\n\u001b[0;32m    476\u001b[0m     data \u001b[38;5;241m=\u001b[39m SingleArrayManager\u001b[38;5;241m.\u001b[39mfrom_array(data, index)\n",
      "File \u001b[1;32m~\\anaconda3\\envs\\drone-dataset-tools38\\lib\\site-packages\\pandas\\core\\internals\\managers.py:1936\u001b[0m, in \u001b[0;36mSingleBlockManager.from_array\u001b[1;34m(cls, array, index)\u001b[0m\n\u001b[0;32m   1931\u001b[0m \u001b[38;5;129m@classmethod\u001b[39m\n\u001b[0;32m   1932\u001b[0m \u001b[38;5;28;01mdef\u001b[39;00m \u001b[38;5;21mfrom_array\u001b[39m(\u001b[38;5;28mcls\u001b[39m, array: ArrayLike, index: Index) \u001b[38;5;241m-\u001b[39m\u001b[38;5;241m>\u001b[39m SingleBlockManager:\n\u001b[0;32m   1933\u001b[0m     \u001b[38;5;124;03m\"\"\"\u001b[39;00m\n\u001b[0;32m   1934\u001b[0m \u001b[38;5;124;03m    Constructor for if we have an array that is not yet a Block.\u001b[39;00m\n\u001b[0;32m   1935\u001b[0m \u001b[38;5;124;03m    \"\"\"\u001b[39;00m\n\u001b[1;32m-> 1936\u001b[0m     block \u001b[38;5;241m=\u001b[39m \u001b[43mnew_block\u001b[49m\u001b[43m(\u001b[49m\u001b[43marray\u001b[49m\u001b[43m,\u001b[49m\u001b[43m \u001b[49m\u001b[43mplacement\u001b[49m\u001b[38;5;241;43m=\u001b[39;49m\u001b[38;5;28;43mslice\u001b[39;49m\u001b[43m(\u001b[49m\u001b[38;5;241;43m0\u001b[39;49m\u001b[43m,\u001b[49m\u001b[43m \u001b[49m\u001b[38;5;28;43mlen\u001b[39;49m\u001b[43m(\u001b[49m\u001b[43mindex\u001b[49m\u001b[43m)\u001b[49m\u001b[43m)\u001b[49m\u001b[43m,\u001b[49m\u001b[43m \u001b[49m\u001b[43mndim\u001b[49m\u001b[38;5;241;43m=\u001b[39;49m\u001b[38;5;241;43m1\u001b[39;49m\u001b[43m)\u001b[49m\n\u001b[0;32m   1937\u001b[0m     \u001b[38;5;28;01mreturn\u001b[39;00m \u001b[38;5;28mcls\u001b[39m(block, index)\n",
      "File \u001b[1;32m~\\anaconda3\\envs\\drone-dataset-tools38\\lib\\site-packages\\pandas\\core\\internals\\blocks.py:2182\u001b[0m, in \u001b[0;36mnew_block\u001b[1;34m(values, placement, ndim)\u001b[0m\n\u001b[0;32m   2178\u001b[0m check_ndim(values, placement, ndim)\n\u001b[0;32m   2180\u001b[0m klass \u001b[38;5;241m=\u001b[39m get_block_type(values\u001b[38;5;241m.\u001b[39mdtype)\n\u001b[1;32m-> 2182\u001b[0m values \u001b[38;5;241m=\u001b[39m \u001b[43mmaybe_coerce_values\u001b[49m\u001b[43m(\u001b[49m\u001b[43mvalues\u001b[49m\u001b[43m)\u001b[49m\n\u001b[0;32m   2183\u001b[0m \u001b[38;5;28;01mreturn\u001b[39;00m klass(values, ndim\u001b[38;5;241m=\u001b[39mndim, placement\u001b[38;5;241m=\u001b[39mplacement)\n",
      "File \u001b[1;32m~\\anaconda3\\envs\\drone-dataset-tools38\\lib\\site-packages\\pandas\\core\\internals\\blocks.py:2108\u001b[0m, in \u001b[0;36mmaybe_coerce_values\u001b[1;34m(values)\u001b[0m\n\u001b[0;32m   2105\u001b[0m \u001b[38;5;66;03m# Caller is responsible for ensuring PandasArray is already extracted.\u001b[39;00m\n\u001b[0;32m   2107\u001b[0m \u001b[38;5;28;01mif\u001b[39;00m \u001b[38;5;28misinstance\u001b[39m(values, np\u001b[38;5;241m.\u001b[39mndarray):\n\u001b[1;32m-> 2108\u001b[0m     values \u001b[38;5;241m=\u001b[39m \u001b[43mensure_wrapped_if_datetimelike\u001b[49m\u001b[43m(\u001b[49m\u001b[43mvalues\u001b[49m\u001b[43m)\u001b[49m\n\u001b[0;32m   2110\u001b[0m     \u001b[38;5;28;01mif\u001b[39;00m \u001b[38;5;28missubclass\u001b[39m(values\u001b[38;5;241m.\u001b[39mdtype\u001b[38;5;241m.\u001b[39mtype, \u001b[38;5;28mstr\u001b[39m):\n\u001b[0;32m   2111\u001b[0m         values \u001b[38;5;241m=\u001b[39m np\u001b[38;5;241m.\u001b[39marray(values, dtype\u001b[38;5;241m=\u001b[39m\u001b[38;5;28mobject\u001b[39m)\n",
      "File \u001b[1;32m~\\anaconda3\\envs\\drone-dataset-tools38\\lib\\site-packages\\pandas\\core\\construction.py:466\u001b[0m, in \u001b[0;36mensure_wrapped_if_datetimelike\u001b[1;34m(arr)\u001b[0m\n\u001b[0;32m    462\u001b[0m \u001b[38;5;124;03m\"\"\"\u001b[39;00m\n\u001b[0;32m    463\u001b[0m \u001b[38;5;124;03mWrap datetime64 and timedelta64 ndarrays in DatetimeArray/TimedeltaArray.\u001b[39;00m\n\u001b[0;32m    464\u001b[0m \u001b[38;5;124;03m\"\"\"\u001b[39;00m\n\u001b[0;32m    465\u001b[0m \u001b[38;5;28;01mif\u001b[39;00m \u001b[38;5;28misinstance\u001b[39m(arr, np\u001b[38;5;241m.\u001b[39mndarray):\n\u001b[1;32m--> 466\u001b[0m     \u001b[38;5;28;01mif\u001b[39;00m \u001b[43marr\u001b[49m\u001b[38;5;241;43m.\u001b[39;49m\u001b[43mdtype\u001b[49m\u001b[38;5;241;43m.\u001b[39;49m\u001b[43mkind\u001b[49m \u001b[38;5;241m==\u001b[39m \u001b[38;5;124m\"\u001b[39m\u001b[38;5;124mM\u001b[39m\u001b[38;5;124m\"\u001b[39m:\n\u001b[0;32m    467\u001b[0m         \u001b[38;5;28;01mfrom\u001b[39;00m \u001b[38;5;21;01mpandas\u001b[39;00m\u001b[38;5;21;01m.\u001b[39;00m\u001b[38;5;21;01mcore\u001b[39;00m\u001b[38;5;21;01m.\u001b[39;00m\u001b[38;5;21;01marrays\u001b[39;00m \u001b[38;5;28;01mimport\u001b[39;00m DatetimeArray\n\u001b[0;32m    469\u001b[0m         \u001b[38;5;28;01mreturn\u001b[39;00m DatetimeArray\u001b[38;5;241m.\u001b[39m_from_sequence(arr)\n",
      "\u001b[1;31mKeyboardInterrupt\u001b[0m: "
     ]
    }
   ],
   "source": [
    "loc2data = loader.getLocationData(2, useSceneConfigToExtract=True)"
   ]
  },
  {
   "cell_type": "code",
   "execution_count": 7,
   "id": "abc465b5-bdd9-4833-b473-917c644c86fd",
   "metadata": {},
   "outputs": [
    {
     "name": "stderr",
     "output_type": "stream",
     "text": [
      "INFO:root:recordingIds: [18]\n",
      "INFO:root:Downsampling recording 18 from 25.0 to 2.5\n",
      "downsampling: 100%|███████████████████████████████████████████████████████████████████████████████████████████████████████████████████████████████████████████████████████████████████████████████████████████████████████████████| 625989/625989 [00:26<00:00, 23672.31it/s]\n"
     ]
    }
   ],
   "source": [
    "# loc2data = loader.getLocationData(2, useSceneConfigToExtract=True, precomputeSceneData=False)\n",
    "# sceneData = loc2data.getSceneData(10)"
   ]
  },
  {
   "cell_type": "code",
   "execution_count": 8,
   "id": "55ee7887-15b6-4e0d-9989-4a2546d53ba9",
   "metadata": {},
   "outputs": [
    {
     "data": {
      "text/plain": [
       "{'#original frameRate': 25.0,\n",
       " '#crossing trajectories': 1348,\n",
       " '#scene trajectories': 1607,\n",
       " 'scene#10': 613,\n",
       " 'scene#11': 10,\n",
       " 'scene#20': 177,\n",
       " 'scene#21': 62,\n",
       " 'scene#22': 55,\n",
       " 'scene#30': 471,\n",
       " 'scene#31': 23,\n",
       " 'scene#40': 196}"
      ]
     },
     "execution_count": 8,
     "metadata": {},
     "output_type": "execute_result"
    }
   ],
   "source": [
    "loc2data.summary()"
   ]
  },
  {
   "cell_type": "code",
   "execution_count": 13,
   "id": "bf2045b3-c22d-4c01-b769-1dce06f664e4",
   "metadata": {},
   "outputs": [
    {
     "data": {
      "text/plain": [
       "{'#original frameRate': 25.0,\n",
       " '#crossing trajectories': 1348,\n",
       " '#scene trajectories': 1607,\n",
       " 'scene#10': 613,\n",
       " 'scene#11': 10,\n",
       " 'scene#20': 177,\n",
       " 'scene#21': 62,\n",
       " 'scene#22': 55,\n",
       " 'scene#30': 471,\n",
       " 'scene#31': 23,\n",
       " 'scene#40': 196}"
      ]
     },
     "execution_count": 13,
     "metadata": {},
     "output_type": "execute_result"
    }
   ],
   "source": [
    "loc2data.summary()"
   ]
  },
  {
   "cell_type": "code",
   "execution_count": 9,
   "id": "3295bbd4-4465-49bb-98dc-7003ab1be94e",
   "metadata": {},
   "outputs": [],
   "source": [
    "crossingDf = loc2data.getCrossingDf()"
   ]
  },
  {
   "cell_type": "markdown",
   "id": "152d1c78-53bd-479c-baf5-9b1b4c4611e2",
   "metadata": {},
   "source": [
    "# Saving and Loading pre--processed Location data"
   ]
  },
  {
   "cell_type": "code",
   "execution_count": null,
   "id": "e562861f-62cd-4767-95ff-f8bf1e50782c",
   "metadata": {},
   "outputs": [],
   "source": [
    "loc2data.saveCrossingDf(\"../data\") # only crossing dataframes"
   ]
  },
  {
   "cell_type": "code",
   "execution_count": null,
   "id": "2bb4a9c8-d018-46a7-9611-841b2f8a9c06",
   "metadata": {},
   "outputs": [],
   "source": [
    "loc2data.save(\"../data\") # whole thing as a dill object"
   ]
  },
  {
   "cell_type": "code",
   "execution_count": null,
   "id": "32cec99d-9e42-4cf0-a1df-d5787ffe861e",
   "metadata": {},
   "outputs": [],
   "source": [
    "loc2data.saveSceneDataOnly(\"../data\")"
   ]
  },
  {
   "cell_type": "code",
   "execution_count": 12,
   "id": "8a50c99c-a312-4842-a1a7-421be889d161",
   "metadata": {},
   "outputs": [
    {
     "ename": "FileNotFoundError",
     "evalue": "[Errno 2] No such file or directory: '../data/location-2\\\\2022-11-12-all.dill'",
     "output_type": "error",
     "traceback": [
      "\u001b[1;31m---------------------------------------------------------------------------\u001b[0m",
      "\u001b[1;31mFileNotFoundError\u001b[0m                         Traceback (most recent call last)",
      "\u001b[1;32m<ipython-input-12-4d136128cf43>\u001b[0m in \u001b[0;36m<module>\u001b[1;34m\u001b[0m\n\u001b[0;32m      1\u001b[0m \u001b[1;32mfrom\u001b[0m \u001b[0mextractors\u001b[0m\u001b[1;33m.\u001b[0m\u001b[0mLocationData\u001b[0m \u001b[1;32mimport\u001b[0m \u001b[0mLocationData\u001b[0m\u001b[1;33m\u001b[0m\u001b[1;33m\u001b[0m\u001b[0m\n\u001b[1;32m----> 2\u001b[1;33m \u001b[0mloc2dataFromFile\u001b[0m \u001b[1;33m=\u001b[0m \u001b[0mLocationData\u001b[0m\u001b[1;33m.\u001b[0m\u001b[0mload\u001b[0m\u001b[1;33m(\u001b[0m\u001b[1;34m\"../data/location-2\"\u001b[0m\u001b[1;33m,\u001b[0m \u001b[1;34m\"2022-11-12-all.dill\"\u001b[0m\u001b[1;33m)\u001b[0m\u001b[1;33m\u001b[0m\u001b[1;33m\u001b[0m\u001b[0m\n\u001b[0m",
      "\u001b[1;32mE:\\AV\\DataSetExploration\\drone-dataset-tools\\src\\extractors\\LocationData.py\u001b[0m in \u001b[0;36mload\u001b[1;34m(locDir, fname)\u001b[0m\n\u001b[0;32m    428\u001b[0m         \u001b[0mfpath\u001b[0m \u001b[1;33m=\u001b[0m \u001b[0mos\u001b[0m\u001b[1;33m.\u001b[0m\u001b[0mpath\u001b[0m\u001b[1;33m.\u001b[0m\u001b[0mjoin\u001b[0m\u001b[1;33m(\u001b[0m\u001b[0mlocDir\u001b[0m\u001b[1;33m,\u001b[0m \u001b[0mfname\u001b[0m\u001b[1;33m)\u001b[0m\u001b[1;33m\u001b[0m\u001b[1;33m\u001b[0m\u001b[0m\n\u001b[0;32m    429\u001b[0m         \u001b[0mlogger\u001b[0m\u001b[1;33m.\u001b[0m\u001b[0minfo\u001b[0m\u001b[1;33m(\u001b[0m\u001b[1;34mf\"reading from {fpath}\"\u001b[0m\u001b[1;33m)\u001b[0m\u001b[1;33m\u001b[0m\u001b[1;33m\u001b[0m\u001b[0m\n\u001b[1;32m--> 430\u001b[1;33m         \u001b[1;32mwith\u001b[0m \u001b[0mopen\u001b[0m\u001b[1;33m(\u001b[0m\u001b[0mfpath\u001b[0m\u001b[1;33m,\u001b[0m \u001b[1;34m\"rb\"\u001b[0m\u001b[1;33m)\u001b[0m \u001b[1;32mas\u001b[0m \u001b[0mfp\u001b[0m\u001b[1;33m:\u001b[0m\u001b[1;33m\u001b[0m\u001b[1;33m\u001b[0m\u001b[0m\n\u001b[0m\u001b[0;32m    431\u001b[0m             \u001b[1;32mreturn\u001b[0m \u001b[0mload\u001b[0m\u001b[1;33m(\u001b[0m\u001b[0mfp\u001b[0m\u001b[1;33m)\u001b[0m\u001b[1;33m\u001b[0m\u001b[1;33m\u001b[0m\u001b[0m\n\u001b[0;32m    432\u001b[0m     \u001b[1;31m# endregion\u001b[0m\u001b[1;33m\u001b[0m\u001b[1;33m\u001b[0m\u001b[1;33m\u001b[0m\u001b[0m\n",
      "\u001b[1;31mFileNotFoundError\u001b[0m: [Errno 2] No such file or directory: '../data/location-2\\\\2022-11-12-all.dill'"
     ]
    }
   ],
   "source": [
    "from extractors.LocationData import LocationData\n",
    "loc2dataFromFile = LocationData.load(\"../data/location-2\", \"2022-11-12-all.dill\")"
   ]
  },
  {
   "cell_type": "markdown",
   "id": "d411d73a-cab9-4ce5-b65c-3e2e8d667f48",
   "metadata": {},
   "source": [
    "# Validate if there are trajectories not captured by the scene-based extractor"
   ]
  },
  {
   "cell_type": "code",
   "execution_count": null,
   "id": "8b1f350d-61b6-4da5-a067-331b46d41ec1",
   "metadata": {},
   "outputs": [],
   "source": [
    "from tools.TrajectoryUtils import TrajectoryUtils\n",
    "from tools.TrajectoryVisualizer import TrajectoryVisualizer\n",
    "import matplotlib.pyplot as plt\n",
    "import numpy as np\n",
    "visualizer = TrajectoryVisualizer(loader)"
   ]
  },
  {
   "cell_type": "code",
   "execution_count": null,
   "id": "2882b10d-be67-457a-8345-e8a3d60c0895",
   "metadata": {},
   "outputs": [],
   "source": [
    "# visualizer.showLocationCrossingTracks(loc2data)"
   ]
  },
  {
   "cell_type": "code",
   "execution_count": null,
   "id": "47205736-f6b3-4891-a4c6-aed93a23f2dc",
   "metadata": {},
   "outputs": [],
   "source": [
    "sceneData = loc2dataFromFile.getSceneData(10, 10, 5, refresh=False)\n",
    "# sceneData = loc2data.getSceneData(10, 10, 5, refresh=False)\n",
    "# dir(sceneData)\n",
    "# sceneData.pedData\n",
    "# sceneDf = loc2data.getSceneCrossingDf('10', 0, 0)"
   ]
  },
  {
   "cell_type": "code",
   "execution_count": null,
   "id": "cce4e2c2-c1ee-4392-82d9-07277fad0811",
   "metadata": {},
   "outputs": [],
   "source": [
    "visualizer.showLocationSceneData(sceneData)"
   ]
  },
  {
   "cell_type": "code",
   "execution_count": null,
   "id": "cd357aa1-943f-48a7-84e9-d99391926c34",
   "metadata": {},
   "outputs": [],
   "source": [
    "scene11Data = loc2data.getSceneData(11, 10, 6, refresh=False)\n",
    "visualizer.showLocationSceneData(scene11Data)"
   ]
  },
  {
   "cell_type": "code",
   "execution_count": null,
   "id": "a784fcf4-1577-426d-8883-97d6b9fa923a",
   "metadata": {},
   "outputs": [],
   "source": [
    "scene20Data = loc2data.getSceneData(20, 10, 6, refresh=False)\n",
    "visualizer.showLocationSceneData(scene20Data)\n",
    "\n",
    "scene21Data = loc2data.getSceneData(21, 20, 9, refresh=False)\n",
    "visualizer.showLocationSceneData(scene21Data, onlyClipped=False)\n",
    "\n",
    "scene22Data = loc2data.getSceneData(22, 10, 6, refresh=False)\n",
    "visualizer.showLocationSceneData(scene22Data)"
   ]
  },
  {
   "cell_type": "code",
   "execution_count": null,
   "id": "66d356c0-8a03-45ba-ad81-5dea15da7490",
   "metadata": {},
   "outputs": [],
   "source": [
    "scene30Data = loc2data.getSceneData(30, 10, 6, refresh=False)\n",
    "visualizer.showLocationSceneData(scene30Data)\n",
    "\n",
    "scene31Data = loc2data.getSceneData(31, 10, 6, refresh=False)\n",
    "visualizer.showLocationSceneData(scene31Data)"
   ]
  },
  {
   "cell_type": "code",
   "execution_count": null,
   "id": "d631aba1-4a18-4873-a481-e7054abd0188",
   "metadata": {},
   "outputs": [],
   "source": [
    "scene40Data = loc2data.getSceneData(40, 6, 6, refresh=False)\n",
    "visualizer.showLocationSceneData(scene40Data)"
   ]
  },
  {
   "cell_type": "code",
   "execution_count": null,
   "id": "cdfe7c0e-33f8-4cf5-a801-1a5d0b86c622",
   "metadata": {},
   "outputs": [],
   "source": []
  },
  {
   "cell_type": "code",
   "execution_count": null,
   "id": "5b0a432d-bad1-43a0-b20e-2912e79755b9",
   "metadata": {},
   "outputs": [],
   "source": []
  }
 ],
 "metadata": {
  "kernelspec": {
   "display_name": "Python 3 (ipykernel)",
   "language": "python",
   "name": "python3"
  },
  "language_info": {
   "codemirror_mode": {
    "name": "ipython",
    "version": 3
   },
   "file_extension": ".py",
   "mimetype": "text/x-python",
   "name": "python",
   "nbconvert_exporter": "python",
   "pygments_lexer": "ipython3",
   "version": "3.8.13"
  }
 },
 "nbformat": 4,
 "nbformat_minor": 5
}
