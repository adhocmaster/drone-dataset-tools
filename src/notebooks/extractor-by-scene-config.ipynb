{
 "cells": [
  {
   "cell_type": "markdown",
   "id": "aa8afcf3-71d3-4f5b-859f-4c2a8d073a4b",
   "metadata": {},
   "source": [
    "# TO RUN\n",
    "1. Make sure you installed all the dependencies\n",
    "2. open **'init_notebook.py'** and change the **projectFolder** to the src folder of the repository.\n",
    "3. In the following cell change the dataDir to the data directory of the InD dataset"
   ]
  },
  {
   "cell_type": "code",
   "execution_count": 1,
   "id": "e082d014-dbbd-4d84-bce5-375f9e61a048",
   "metadata": {},
   "outputs": [],
   "source": [
    "dataDir = \"/Users/zarifikram/Documents/Repos/drone-dataset-tools/data/ind\"\n",
    "# dataDir = \"E:/Datasets/inD-dataset-v1.0/data/\""
   ]
  },
  {
   "cell_type": "code",
   "execution_count": 2,
   "id": "1c24ee51-496d-4595-b4f7-c6be77173c92",
   "metadata": {},
   "outputs": [
    {
     "name": "stdout",
     "output_type": "stream",
     "text": [
      "current working dir/Users/zarifikram/Documents/Repos/drone-dataset-tools/src\n"
     ]
    }
   ],
   "source": [
    "exec(open('init_notebook.py').read())"
   ]
  },
  {
   "cell_type": "code",
   "execution_count": 3,
   "id": "207f4347-296b-4bff-85e8-204926f80b9c",
   "metadata": {},
   "outputs": [],
   "source": [
    "%load_ext autoreload\n",
    "%autoreload 2\n"
   ]
  },
  {
   "cell_type": "code",
   "execution_count": 4,
   "id": "a3213af8-def8-4be8-bf6d-28c87a5d3e7b",
   "metadata": {},
   "outputs": [],
   "source": [
    "import logging\n",
    "logging.basicConfig(level=logging.INFO)\n",
    "from loguru import logger\n",
    "logger.remove()\n",
    "logger.add(sys.stdout, format=\"{level} {message}\", filter=\"my_module\", level=\"INFO\")\n",
    "\n",
    "from extractors.loader import Loader"
   ]
  },
  {
   "cell_type": "code",
   "execution_count": 5,
   "id": "b6022f87-be2d-4f75-b4e4-db808efb3ea5",
   "metadata": {},
   "outputs": [],
   "source": [
    "loader = Loader(dataDir, 'inD')"
   ]
  },
  {
   "cell_type": "markdown",
   "id": "e051d20b-5ba7-4210-9571-d2d2ad527422",
   "metadata": {},
   "source": [
    "# LocationData - for aggregation\n",
    "\n",
    "**get all the unique crossing ids**\n",
    "```\n",
    "loc2data = loader.getLocationData(2)\n",
    "loc2data.getUniqueCrossingIds()\n",
    "```\n",
    "**get all the crossing data by scene config**\n",
    "```\n",
    "loc2data = loader.getLocationData(2, useSceneConfigToExtract=True)\n",
    "crossingDf = loc2data.getCrossingDf()\n",
    "```"
   ]
  },
  {
   "cell_type": "markdown",
   "id": "68507775-3518-4d32-994a-46d8aaac2deb",
   "metadata": {},
   "source": [
    "## First we start from scratch. "
   ]
  },
  {
   "cell_type": "code",
   "execution_count": null,
   "id": "964a7b5e-76b7-45d6-a2d8-04d8dc8f2c0d",
   "metadata": {},
   "outputs": [
    {
     "name": "stderr",
     "output_type": "stream",
     "text": [
      "INFO:root:recordingIds: [18]\n",
      "INFO:root:Downsampling recording 18 from 25.0 to 5\n",
      "downsampling: 100%|██████████████████████████████████████████████████████████████████████████████████████████████████████████████████████████████████████████████| 625989/625989 [00:13<00:00, 45572.65it/s]\n",
      "recording-18-scene10-car-Ids: 100%|███████████████████████████████████████████████████████████████████████████████████████████████████████████████████████████████████████| 181/181 [00:05<00:00, 35.00it/s]\n",
      "recording-18-scene10-bicycle-Ids: 100%|█████████████████████████████████████████████████████████████████████████████████████████████████████████████████████████████████████| 92/92 [00:01<00:00, 56.02it/s]\n",
      "recording-18-scene10-truck_bus-Ids: 0it [00:00, ?it/s]\n",
      "recording-18-scene11-car-Ids: 100%|███████████████████████████████████████████████████████████████████████████████████████████████████████████████████████████████████████| 181/181 [00:05<00:00, 35.17it/s]\n",
      "recording-18-scene11-bicycle-Ids: 100%|█████████████████████████████████████████████████████████████████████████████████████████████████████████████████████████████████████| 92/92 [00:01<00:00, 56.16it/s]\n",
      "recording-18-scene11-truck_bus-Ids: 0it [00:00, ?it/s]\n",
      "recording-18-scene20-car-Ids: 100%|███████████████████████████████████████████████████████████████████████████████████████████████████████████████████████████████████████| 181/181 [00:05<00:00, 35.01it/s]\n",
      "recording-18-scene20-bicycle-Ids: 100%|█████████████████████████████████████████████████████████████████████████████████████████████████████████████████████████████████████| 92/92 [00:01<00:00, 55.81it/s]\n",
      "recording-18-scene20-truck_bus-Ids: 0it [00:00, ?it/s]\n",
      "recording-18-scene21-car-Ids: 100%|███████████████████████████████████████████████████████████████████████████████████████████████████████████████████████████████████████| 181/181 [00:05<00:00, 34.99it/s]\n",
      "recording-18-scene21-bicycle-Ids: 100%|█████████████████████████████████████████████████████████████████████████████████████████████████████████████████████████████████████| 92/92 [00:01<00:00, 55.63it/s]\n",
      "recording-18-scene21-truck_bus-Ids: 0it [00:00, ?it/s]\n",
      "recording-18-scene22-car-Ids: 100%|███████████████████████████████████████████████████████████████████████████████████████████████████████████████████████████████████████| 181/181 [00:05<00:00, 34.91it/s]\n",
      "recording-18-scene22-bicycle-Ids: 100%|█████████████████████████████████████████████████████████████████████████████████████████████████████████████████████████████████████| 92/92 [00:01<00:00, 55.52it/s]\n",
      "recording-18-scene22-truck_bus-Ids: 0it [00:00, ?it/s]\n",
      "recording-18-scene30-car-Ids:   6%|████████▎                                                                                                                               | 11/181 [00:01<00:25,  6.69it/s]"
     ]
    }
   ],
   "source": [
    "loc2data = loader.getLocationData(2, useSceneConfigToExtract=True, recordingIds=[18])\n",
    "loc2data.save(\"../data\") # whole thing as a dill object\n",
    "\n",
    "loc2data.buildLocalInformationForScenes()\n",
    "\n"
   ]
  },
  {
   "cell_type": "markdown",
   "id": "4f41675f-e51b-42c2-b804-e6e5cb981a9e",
   "metadata": {},
   "source": [
    "# Saving and Loading pre--processed Location data"
   ]
  },
  {
   "cell_type": "code",
   "execution_count": null,
   "id": "52797310-2b41-4ae4-a86a-3b42a85cc45f",
   "metadata": {},
   "outputs": [],
   "source": [
    "# loc2data.saveSceneDataOnly(\"../data\")\n",
    "# loc2data.saveCrossingDf(\"../data\")\n",
    "# loc2data.save(\"../data\") # whole thing as a dill object\n",
    "# loc2data.summary()"
   ]
  },
  {
   "cell_type": "code",
   "execution_count": null,
   "id": "2a79ef8b-6b2a-4adc-a7a4-aa3bcfd81da2",
   "metadata": {},
   "outputs": [],
   "source": [
    "from extractors.LocationData import LocationData\n",
    "loc2dataFromFile = LocationData.load(\"../data/location-2/lab\", \"2022-12-03-fps-5-before-local.dill\")\n",
    "loc2dataFromFile.buildLocalInformationForScenes()"
   ]
  },
  {
   "cell_type": "code",
   "execution_count": 7,
   "id": "55ee7887-15b6-4e0d-9989-4a2546d53ba9",
   "metadata": {},
   "outputs": [
    {
     "data": {
      "text/plain": [
       "{'#original frameRate': 25.0,\n",
       " '#crossing trajectories': 1347,\n",
       " '#scene trajectories': 1469,\n",
       " 'scene#10 peds': 572,\n",
       " 'scene#10 others': 1668,\n",
       " 'scene#11 peds': 7,\n",
       " 'scene#11 others': 1212,\n",
       " 'scene#20 peds': 168,\n",
       " 'scene#20 others': 2003,\n",
       " 'scene#21 peds': 52,\n",
       " 'scene#21 others': 2302,\n",
       " 'scene#22 peds': 49,\n",
       " 'scene#22 others': 2221,\n",
       " 'scene#30 peds': 418,\n",
       " 'scene#30 others': 1467,\n",
       " 'scene#31 peds': 19,\n",
       " 'scene#31 others': 134,\n",
       " 'scene#40 peds': 184,\n",
       " 'scene#40 others': 1171}"
      ]
     },
     "execution_count": 7,
     "metadata": {},
     "output_type": "execute_result"
    }
   ],
   "source": [
    "loc2dataFromFile.saveCrossingDf(\"../data\")\n",
    "loc2dataFromFile.saveSceneDataOnly(\"../data\")\n",
    "loc2dataFromFile.save(\"../data\") # whole thing as a dill object\n",
    "loc2dataFromFile.summary()"
   ]
  },
  {
   "cell_type": "code",
   "execution_count": null,
   "id": "8a50c99c-a312-4842-a1a7-421be889d161",
   "metadata": {},
   "outputs": [],
   "source": [
    "from extractors.LocationData import LocationData\n",
    "loc2dataFromFile = LocationData.load(\"../data/location-2\", \"2022-11-12-all.dill\")"
   ]
  },
  {
   "cell_type": "markdown",
   "id": "d411d73a-cab9-4ce5-b65c-3e2e8d667f48",
   "metadata": {},
   "source": [
    "# Validate if there are trajectories not captured by the scene-based extractor"
   ]
  },
  {
   "cell_type": "code",
   "execution_count": null,
   "id": "8b1f350d-61b6-4da5-a067-331b46d41ec1",
   "metadata": {},
   "outputs": [],
   "source": [
    "from tools.TrajectoryUtils import TrajectoryUtils\n",
    "from tools.TrajectoryVisualizer import TrajectoryVisualizer\n",
    "import matplotlib.pyplot as plt\n",
    "import numpy as np\n",
    "visualizer = TrajectoryVisualizer(loader)"
   ]
  },
  {
   "cell_type": "code",
   "execution_count": null,
   "id": "2882b10d-be67-457a-8345-e8a3d60c0895",
   "metadata": {},
   "outputs": [],
   "source": [
    "# visualizer.showLocationCrossingTracks(loc2data)"
   ]
  },
  {
   "cell_type": "code",
   "execution_count": null,
   "id": "47205736-f6b3-4891-a4c6-aed93a23f2dc",
   "metadata": {},
   "outputs": [],
   "source": [
    "sceneData = loc2data.getSceneData(40, 10, 5, refresh=False)\n",
    "# sceneData = loc2data.getSceneData(10, 10, 5, refresh=False)\n",
    "# dir(sceneData)\n",
    "# sceneData.pedData\n",
    "# sceneDf = loc2data.getSceneCrossingDf('10', 0, 0)\n",
    "clippedPedDf = sceneData.getPedDataInSceneCoordinates()\n",
    "clippedPedDf.head()\n",
    "# sceneData.pedData.head()"
   ]
  },
  {
   "cell_type": "code",
   "execution_count": null,
   "id": "cce4e2c2-c1ee-4392-82d9-07277fad0811",
   "metadata": {},
   "outputs": [],
   "source": [
    "visualizer.showLocationSceneData(sceneData"
   ]
  },
  {
   "cell_type": "code",
   "execution_count": null,
   "id": "cd357aa1-943f-48a7-84e9-d99391926c34",
   "metadata": {},
   "outputs": [],
   "source": [
    "scene11Data = loc2data.getSceneData(11, 10, 6, refresh=False)\n",
    "visualizer.showLocationSceneData(scene11Data)"
   ]
  },
  {
   "cell_type": "code",
   "execution_count": null,
   "id": "a784fcf4-1577-426d-8883-97d6b9fa923a",
   "metadata": {},
   "outputs": [],
   "source": [
    "scene20Data = loc2data.getSceneData(20, 10, 6, refresh=False)\n",
    "visualizer.showLocationSceneData(scene20Data)\n",
    "\n",
    "scene21Data = loc2data.getSceneData(21, 20, 9, refresh=False)\n",
    "visualizer.showLocationSceneData(scene21Data, onlyClipped=False)\n",
    "\n",
    "scene22Data = loc2data.getSceneData(22, 10, 6, refresh=False)\n",
    "visualizer.showLocationSceneData(scene22Data)"
   ]
  },
  {
   "cell_type": "code",
   "execution_count": null,
   "id": "66d356c0-8a03-45ba-ad81-5dea15da7490",
   "metadata": {},
   "outputs": [],
   "source": [
    "scene30Data = loc2data.getSceneData(30, 10, 6, refresh=False)\n",
    "visualizer.showLocationSceneData(scene30Data)\n",
    "\n",
    "scene31Data = loc2data.getSceneData(31, 10, 6, refresh=False)\n",
    "visualizer.showLocationSceneData(scene31Data)"
   ]
  },
  {
   "cell_type": "code",
   "execution_count": null,
   "id": "d631aba1-4a18-4873-a481-e7054abd0188",
   "metadata": {},
   "outputs": [],
   "source": [
    "scene40Data = loc2data.getSceneData(40, 6, 6, refresh=False)\n",
    "visualizer.showLocationSceneData(scene40Data)"
   ]
  },
  {
   "cell_type": "code",
   "execution_count": null,
   "id": "cdfe7c0e-33f8-4cf5-a801-1a5d0b86c622",
   "metadata": {},
   "outputs": [],
   "source": []
  },
  {
   "cell_type": "code",
   "execution_count": null,
   "id": "5b0a432d-bad1-43a0-b20e-2912e79755b9",
   "metadata": {},
   "outputs": [],
   "source": []
  }
 ],
 "metadata": {
  "kernelspec": {
   "display_name": "Python 3 (ipykernel)",
   "language": "python",
   "name": "python3"
  },
  "language_info": {
   "codemirror_mode": {
    "name": "ipython",
    "version": 3
   },
   "file_extension": ".py",
   "mimetype": "text/x-python",
   "name": "python",
   "nbconvert_exporter": "python",
   "pygments_lexer": "ipython3",
   "version": "3.8.12"
  }
 },
 "nbformat": 4,
 "nbformat_minor": 5
}
