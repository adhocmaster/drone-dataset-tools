{
 "cells": [
  {
   "cell_type": "markdown",
   "id": "aa8afcf3-71d3-4f5b-859f-4c2a8d073a4b",
   "metadata": {},
   "source": [
    "# TO RUN\n",
    "1. Make sure you installed all the dependencies\n",
    "2. open **'init_notebook.py'** and change the **projectFolder** to the src folder of the repository.\n",
    "3. In the following cell change the dataDir to the data directory of the InD dataset"
   ]
  },
  {
   "cell_type": "code",
   "execution_count": 1,
   "id": "e082d014-dbbd-4d84-bce5-375f9e61a048",
   "metadata": {},
   "outputs": [],
   "source": [
    "dataDir = \"G:AV datasets/inD-dataset-v1.0/data/\"\n",
    "dataDir = \"E:/Datasets/inD-dataset-v1.0/data/\""
   ]
  },
  {
   "cell_type": "code",
   "execution_count": 2,
   "id": "1c24ee51-496d-4595-b4f7-c6be77173c92",
   "metadata": {},
   "outputs": [
    {
     "name": "stdout",
     "output_type": "stream",
     "text": [
      "current working dirD:\\AV\\DataSetExploration\\drone-dataset-tools\\src\n"
     ]
    }
   ],
   "source": [
    "exec(open('init_notebook.py').read())"
   ]
  },
  {
   "cell_type": "code",
   "execution_count": 3,
   "id": "207f4347-296b-4bff-85e8-204926f80b9c",
   "metadata": {},
   "outputs": [
    {
     "name": "stderr",
     "output_type": "stream",
     "text": [
      "No traceback available to show.\n"
     ]
    }
   ],
   "source": [
    "%load_ext autoreload\n",
    "%autoreload 2\n",
    "%tb"
   ]
  },
  {
   "cell_type": "code",
   "execution_count": 4,
   "id": "a3213af8-def8-4be8-bf6d-28c87a5d3e7b",
   "metadata": {},
   "outputs": [],
   "source": [
    "import logging\n",
    "logging.basicConfig(level=logging.INFO)\n",
    "from loguru import logger\n",
    "logger.remove()\n",
    "logger.add(sys.stdout, format=\"{level} {message}\", filter=\"my_module\", level=\"INFO\")\n",
    "\n",
    "from extractors.loader import Loader"
   ]
  },
  {
   "cell_type": "code",
   "execution_count": 5,
   "id": "b6022f87-be2d-4f75-b4e4-db808efb3ea5",
   "metadata": {},
   "outputs": [],
   "source": [
    "loader = Loader(dataDir, 'inD')"
   ]
  },
  {
   "cell_type": "markdown",
   "id": "e051d20b-5ba7-4210-9571-d2d2ad527422",
   "metadata": {},
   "source": [
    "# LocationData - for aggregation\n",
    "\n",
    "**get all the unique crossing ids**\n",
    "```\n",
    "loc2data = loader.getLocationData(2)\n",
    "loc2data.getUniqueCrossingIds()\n",
    "```\n",
    "**get all the crossing data by scene config**\n",
    "```\n",
    "loc2data = loader.getLocationData(2, useSceneConfigToExtract=True)\n",
    "crossingDf = loc2data.getCrossingDf()\n",
    "```"
   ]
  },
  {
   "cell_type": "code",
   "execution_count": null,
   "id": "964a7b5e-76b7-45d6-a2d8-04d8dc8f2c0d",
   "metadata": {},
   "outputs": [
    {
     "name": "stderr",
     "output_type": "stream",
     "text": [
      "INFO:root:Already transformed\n",
      "INFO:root:adding dynamics for scene 10\n",
      "clipping ped trajectories for scene # 10 with width offset 0.0:   9%|█▉                  | 59/628 [00:00<00:05, 111.86it/s]WARNING:root:19240 has no entry frame in POLYGON ((66.85466453288163 -29.39975105553252, 65.80059956415498 -24.512119007014206, 56.02533546711836 -26.620248944467495, 57.079400435845 -31.507880992985804, 66.85466453288163 -29.39975105553252))\n",
      "clipping ped trajectories for scene # 10 with width offset 0.0: 100%|███████████████████| 628/628 [00:05<00:00, 108.82it/s]\n"
     ]
    },
    {
     "name": "stdout",
     "output_type": "stream",
     "text": [
      "ped 18388: enters the scene 2 times\n",
      "ped 21102: Disregarding as the length 3.8566445110548906 is too short or rows too less (18)\n",
      "ped 21215: Disregarding as the length 3.603499308777766 is too short or rows too less (18)\n",
      "ped 24355: enters the scene 3 times\n",
      "ped 26167: enters the scene 2 times\n",
      "ped 26330: enters the scene 4 times\n",
      "ped 26361: enters the scene 2 times\n",
      "ped 27159: enters the scene 2 times\n",
      "ped 18045: enters the scene 4 times\n",
      "ped 19068: enters the scene 2 times\n",
      "ped 24163: enters the scene 2 times\n",
      "ped 26329: enters the scene 2 times\n",
      "ped 27541: enters the scene 4 times\n",
      "ped 18308: Disregarding as the length 2.139261015530061 is too short or rows too less (8)\n",
      "ped 18313: Disregarding as the length 3.213436122844209 is too short or rows too less (12)\n",
      "ped 19063: Disregarding as the length 3.1432451636683867 is too short or rows too less (6)\n",
      "ped 19240: Disregarding as the length 0.876950320257651 is too short or rows too less (3)\n",
      "ped 20028: Disregarding as the length 2.5402311642764226 is too short or rows too less (10)\n",
      "ped 18308: Disregarding as the length 1.5830185214835686 is too short or rows too less (6)\n",
      "ped 18313: Disregarding as the length 2.7146724252428434 is too short or rows too less (10)\n",
      "ped 19063: Disregarding as the length 1.86418012218989 is too short or rows too less (4)\n",
      "ped 19240: Disregarding as the length 0.0 is too short or rows too less (1)\n",
      "ped 20028: Disregarding as the length 2.014881845794931 is too short or rows too less (8)\n",
      "ped 21190: Disregarding as the length 2.7210411582393412 is too short or rows too less (10)\n",
      "ped 22233: Disregarding as the length 1.8336011968523107 is too short or rows too less (7)\n",
      "ped 22302: Disregarding as the length 1.5226654972731672 is too short or rows too less (11)\n",
      "ped 23010: Disregarding as the length 3.851975002452436 is too short or rows too less (15)\n",
      "ped 23032: Disregarding as the length 3.333809142455891 is too short or rows too less (12)\n",
      "ped 23035: Disregarding as the length 2.493522169376625 is too short or rows too less (9)\n",
      "ped 23118: Disregarding as the length 3.1084299682217185 is too short or rows too less (10)\n",
      "ped 24065: enters the scene 2 times\n",
      "ped 24334: Disregarding as the length 3.4767812159238645 is too short or rows too less (16)\n",
      "ped 25284: Disregarding as the length 0.8682341776674675 is too short or rows too less (4)\n",
      "ped 25471: Disregarding as the length 3.2377801290485366 is too short or rows too less (5)\n",
      "ped 26167: enters the scene 2 times\n",
      "ped 26268: Disregarding as the length 3.9159488975024015 is too short or rows too less (13)\n",
      "Trimming after dynamics lost 1 pedestrian tracks: {26403}\n",
      "ped 18156: Disregarding as the length 2.366633476350372 is too short or rows too less (5)\n",
      "ped 18308: Disregarding as the length 0.9663076309911125 is too short or rows too less (4)\n",
      "ped 18313: Disregarding as the length 2.0265244861338156 is too short or rows too less (8)\n",
      "ped 19049: Disregarding as the length 1.4030663931259948 is too short or rows too less (3)\n",
      "ped 19063: trajectory is too short (1) to be clipped\n",
      "ped 19240: ERROR: No clipped trajectory\n",
      "ped 19243: Disregarding as the length 3.475796238087099 is too short or rows too less (13)\n",
      "ped 20028: Disregarding as the length 1.450336430816976 is too short or rows too less (6)\n",
      "ped 20261: Disregarding as the length 3.9590129766985953 is too short or rows too less (14)\n",
      "ped 20471: Disregarding as the length 2.3796402729973294 is too short or rows too less (5)\n",
      "ped 21190: Disregarding as the length 2.0157696944752113 is too short or rows too less (8)\n",
      "ped 21304: Disregarding as the length 1.9058082634673341 is too short or rows too less (4)\n",
      "ped 22233: Disregarding as the length 1.2217335399198617 is too short or rows too less (5)\n",
      "ped 22302: Disregarding as the length 1.2510503264086812 is too short or rows too less (9)\n",
      "ped 22448: Disregarding as the length 3.0463386802680255 is too short or rows too less (6)\n",
      "ped 23010: Disregarding as the length 3.2668691380996675 is too short or rows too less (13)\n",
      "ped 23032: Disregarding as the length 2.6463916580986773 is too short or rows too less (10)\n",
      "ped 23035: Disregarding as the length 1.8705916645849563 is too short or rows too less (7)\n",
      "ped 23118: Disregarding as the length 2.4044987381096474 is too short or rows too less (8)\n",
      "ped 23300: Disregarding as the length 2.3513831777499234 is too short or rows too less (5)\n",
      "ped 23306: Disregarding as the length 3.6750976612344544 is too short or rows too less (14)\n",
      "ped 23477: Disregarding as the length 1.9801119657270863 is too short or rows too less (4)\n",
      "ped 23565: Disregarding as the length 1.9725812046208129 is too short or rows too less (4)\n",
      "ped 24065: enters the scene 2 times\n",
      "ped 24155: Disregarding as the length 3.718302659810783 is too short or rows too less (8)\n",
      "ped 24210: Disregarding as the length 3.705397854231756 is too short or rows too less (8)\n",
      "ped 24235: Disregarding as the length 3.3543830635396823 is too short or rows too less (7)\n",
      "ped 24334: Disregarding as the length 2.800293818191419 is too short or rows too less (14)\n",
      "ped 24376: Disregarding as the length 2.7929741751644817 is too short or rows too less (6)\n",
      "ped 25152: Disregarding as the length 3.967116305821867 is too short or rows too less (12)\n",
      "ped 25170: Disregarding as the length 3.8790543351872095 is too short or rows too less (13)\n",
      "ped 25284: Disregarding as the length 0.2994701162052705 is too short or rows too less (2)\n",
      "ped 25286: Disregarding as the length 3.8168938335655893 is too short or rows too less (7)\n",
      "ped 25471: trajectory is too short (1) to be clipped\n",
      "ped 26123: Disregarding as the length 3.7436322717511787 is too short or rows too less (14)\n",
      "ped 26167: enters the scene 2 times\n",
      "ped 26268: Disregarding as the length 3.2376721332682132 is too short or rows too less (11)\n",
      "ped 26279: Disregarding as the length 3.4652730462780315 is too short or rows too less (7)\n",
      "ped 26281: Disregarding as the length 2.4342005568803877 is too short or rows too less (5)\n",
      "ped 27003: Disregarding as the length 1.815093232941539 is too short or rows too less (8)\n",
      "ped 27115: Disregarding as the length 3.531461908983119 is too short or rows too less (11)\n",
      "ped 27117: Disregarding as the length 1.8683518977730862 is too short or rows too less (7)\n",
      "ped 27159: Disregarding as the length 0.30271258464094325 is too short or rows too less (2)\n",
      "ped 27418: Disregarding as the length 1.7412035508982173 is too short or rows too less (11)\n",
      "ped 27424: Disregarding as the length 3.1708963121341847 is too short or rows too less (14)\n",
      "ped 28115: Disregarding as the length 1.9326817207389397 is too short or rows too less (4)\n",
      "ped 28184: Disregarding as the length 1.6788747526931813 is too short or rows too less (7)\n",
      "ped 28347: Disregarding as the length 3.0359169420290595 is too short or rows too less (13)\n",
      "ped 28353: Disregarding as the length 3.570973534245698 is too short or rows too less (17)\n",
      "ped 29285: trajectory is too short (2) to be clipped\n",
      "ped 29287: Disregarding as the length 0.9689131505075156 is too short or rows too less (5)\n",
      "ped 29347: Disregarding as the length 3.424117917835529 is too short or rows too less (13)\n",
      "ped 29439: Disregarding as the length 3.274703604510562 is too short or rows too less (7)\n",
      "ped 29476: trajectory is too short (2) to be clipped\n",
      "ped 29575: Disregarding as the length 3.0640484667483157 is too short or rows too less (6)\n",
      "Clipping after trimming lost 53 pedestrian tracks: {23300, 18308, 29575, 18313, 23306, 26123, 23565, 24334, 24210, 27159, 25471, 28184, 27418, 26268, 22302, 27424, 29347, 29476, 20261, 26279, 19240, 26281, 19243, 24235, 22448, 27003, 23477, 21304, 24376, 28347, 20028, 25152, 28353, 25284, 21190, 25286, 23118, 25170, 28115, 20471, 22233, 24155, 23010, 29285, 29287, 19049, 27115, 18156, 27117, 19063, 23032, 23035, 29439}\n",
      "{'ped': {18308, 23300, 29575, 18313, 23306, 26123, 23565, 24334, 24210, 29439, 27159, 28184, 27418, 26268, 22302, 27424, 29347, 29476, 20261, 26279, 19240, 26281, 19243, 24235, 22448, 27003, 23477, 21304, 24376, 28347, 20028, 25152, 28353, 25284, 21190, 25286, 23118, 25170, 20471, 28115, 22233, 24155, 21215, 23010, 29285, 29287, 19049, 27115, 18156, 27117, 21102, 19063, 23032, 23035, 25471}, 'other': set()}\n"
     ]
    },
    {
     "name": "stderr",
     "output_type": "stream",
     "text": [
      "clipping ped trajectories for scene # 11 with width offset 4.0: 100%|██████████████████████| 10/10 [00:00<00:00, 67.71it/s]\n",
      "clipping other trajectories for scene # 11: 100%|██████████████████████████████████████| 1207/1207 [00:32<00:00, 37.35it/s]\n",
      "INFO:root:adding dynamics for scene 11\n",
      "clipping ped trajectories for scene # 11 with width offset 0.0: 100%|█████████████████████| 10/10 [00:00<00:00, 170.30it/s]\n"
     ]
    },
    {
     "name": "stdout",
     "output_type": "stream",
     "text": [
      "ped 26255: Disregarding as the length 3.5305260725290966 is too short or rows too less (14)\n",
      "ped 24163: enters the scene 2 times\n",
      "ped 26329: enters the scene 2 times\n",
      "ped 23118: Disregarding as the length 3.6605531110550342 is too short or rows too less (12)\n",
      "ped 27424: Disregarding as the length 3.268866830352664 is too short or rows too less (15)\n",
      "ped 27426: Disregarding as the length 2.7988473590173637 is too short or rows too less (7)\n",
      "ped 29476: Disregarding as the length 2.639907033789176 is too short or rows too less (5)\n",
      "Clipping after trimming lost 4 pedestrian tracks: {27424, 27426, 29476, 23118}\n",
      "{'ped': {27424, 27426, 29476, 23118, 26255}, 'other': set()}\n"
     ]
    },
    {
     "name": "stderr",
     "output_type": "stream",
     "text": [
      "clipping ped trajectories for scene # 20 with width offset 4.0: 100%|████████████████████| 180/180 [00:04<00:00, 38.34it/s]\n",
      "clipping other trajectories for scene # 20: 100%|██████████████████████████████████████| 1990/1990 [01:14<00:00, 26.79it/s]\n",
      "INFO:root:adding dynamics for scene 20\n"
     ]
    }
   ],
   "source": [
    "loc2data = loader.getLocationData(2, useSceneConfigToExtract=True)\n",
    "loc2data.buildLocalInformationForScenes()"
   ]
  },
  {
   "cell_type": "code",
   "execution_count": null,
   "id": "abc465b5-bdd9-4833-b473-917c644c86fd",
   "metadata": {},
   "outputs": [],
   "source": [
    "# loc2data = loader.getLocationData(2, useSceneConfigToExtract=True, precomputeSceneData=False)\n",
    "# sceneData = loc2data.getSceneData(11, boxWidth=6, boxHeight=6, refresh=True)"
   ]
  },
  {
   "cell_type": "code",
   "execution_count": null,
   "id": "55ee7887-15b6-4e0d-9989-4a2546d53ba9",
   "metadata": {},
   "outputs": [],
   "source": [
    "loc2data.summary()"
   ]
  },
  {
   "cell_type": "code",
   "execution_count": null,
   "id": "3295bbd4-4465-49bb-98dc-7003ab1be94e",
   "metadata": {},
   "outputs": [],
   "source": [
    "crossingDf = loc2data.getCrossingDf()"
   ]
  },
  {
   "cell_type": "markdown",
   "id": "152d1c78-53bd-479c-baf5-9b1b4c4611e2",
   "metadata": {},
   "source": [
    "# Saving and Loading pre--processed Location data"
   ]
  },
  {
   "cell_type": "code",
   "execution_count": null,
   "id": "e562861f-62cd-4767-95ff-f8bf1e50782c",
   "metadata": {},
   "outputs": [],
   "source": [
    "loc2data.saveCrossingDf(\"../data\") # only crossing dataframes"
   ]
  },
  {
   "cell_type": "code",
   "execution_count": null,
   "id": "2bb4a9c8-d018-46a7-9611-841b2f8a9c06",
   "metadata": {},
   "outputs": [],
   "source": [
    "loc2data.save(\"../data\") # whole thing as a dill object"
   ]
  },
  {
   "cell_type": "code",
   "execution_count": null,
   "id": "32cec99d-9e42-4cf0-a1df-d5787ffe861e",
   "metadata": {},
   "outputs": [],
   "source": [
    "loc2data.saveSceneDataOnly(\"../data\")"
   ]
  },
  {
   "cell_type": "code",
   "execution_count": null,
   "id": "8a50c99c-a312-4842-a1a7-421be889d161",
   "metadata": {},
   "outputs": [],
   "source": [
    "from extractors.LocationData import LocationData\n",
    "loc2dataFromFile = LocationData.load(\"../data/location-2\", \"2022-11-12-all.dill\")"
   ]
  },
  {
   "cell_type": "markdown",
   "id": "d411d73a-cab9-4ce5-b65c-3e2e8d667f48",
   "metadata": {},
   "source": [
    "# Validate if there are trajectories not captured by the scene-based extractor"
   ]
  },
  {
   "cell_type": "code",
   "execution_count": null,
   "id": "8b1f350d-61b6-4da5-a067-331b46d41ec1",
   "metadata": {},
   "outputs": [],
   "source": [
    "from tools.TrajectoryUtils import TrajectoryUtils\n",
    "from tools.TrajectoryVisualizer import TrajectoryVisualizer\n",
    "import matplotlib.pyplot as plt\n",
    "import numpy as np\n",
    "visualizer = TrajectoryVisualizer(loader)"
   ]
  },
  {
   "cell_type": "code",
   "execution_count": null,
   "id": "2882b10d-be67-457a-8345-e8a3d60c0895",
   "metadata": {},
   "outputs": [],
   "source": [
    "# visualizer.showLocationCrossingTracks(loc2data)"
   ]
  },
  {
   "cell_type": "code",
   "execution_count": null,
   "id": "47205736-f6b3-4891-a4c6-aed93a23f2dc",
   "metadata": {},
   "outputs": [],
   "source": [
    "sceneData = loc2dataFromFile.getSceneData(10, 10, 5, refresh=False)\n",
    "# sceneData = loc2data.getSceneData(10, 10, 5, refresh=False)\n",
    "# dir(sceneData)\n",
    "# sceneData.pedData\n",
    "# sceneDf = loc2data.getSceneCrossingDf('10', 0, 0)"
   ]
  },
  {
   "cell_type": "code",
   "execution_count": null,
   "id": "cce4e2c2-c1ee-4392-82d9-07277fad0811",
   "metadata": {},
   "outputs": [],
   "source": [
    "visualizer.showLocationSceneData(sceneData)"
   ]
  },
  {
   "cell_type": "code",
   "execution_count": null,
   "id": "cd357aa1-943f-48a7-84e9-d99391926c34",
   "metadata": {},
   "outputs": [],
   "source": [
    "scene11Data = loc2data.getSceneData(11, 10, 6, refresh=False)\n",
    "visualizer.showLocationSceneData(scene11Data)"
   ]
  },
  {
   "cell_type": "code",
   "execution_count": null,
   "id": "a784fcf4-1577-426d-8883-97d6b9fa923a",
   "metadata": {},
   "outputs": [],
   "source": [
    "scene20Data = loc2data.getSceneData(20, 10, 6, refresh=False)\n",
    "visualizer.showLocationSceneData(scene20Data)\n",
    "\n",
    "scene21Data = loc2data.getSceneData(21, 20, 9, refresh=False)\n",
    "visualizer.showLocationSceneData(scene21Data, onlyClipped=False)\n",
    "\n",
    "scene22Data = loc2data.getSceneData(22, 10, 6, refresh=False)\n",
    "visualizer.showLocationSceneData(scene22Data)"
   ]
  },
  {
   "cell_type": "code",
   "execution_count": null,
   "id": "66d356c0-8a03-45ba-ad81-5dea15da7490",
   "metadata": {},
   "outputs": [],
   "source": [
    "scene30Data = loc2data.getSceneData(30, 10, 6, refresh=False)\n",
    "visualizer.showLocationSceneData(scene30Data)\n",
    "\n",
    "scene31Data = loc2data.getSceneData(31, 10, 6, refresh=False)\n",
    "visualizer.showLocationSceneData(scene31Data)"
   ]
  },
  {
   "cell_type": "code",
   "execution_count": null,
   "id": "d631aba1-4a18-4873-a481-e7054abd0188",
   "metadata": {},
   "outputs": [],
   "source": [
    "scene40Data = loc2data.getSceneData(40, 6, 6, refresh=False)\n",
    "visualizer.showLocationSceneData(scene40Data)"
   ]
  },
  {
   "cell_type": "code",
   "execution_count": null,
   "id": "cdfe7c0e-33f8-4cf5-a801-1a5d0b86c622",
   "metadata": {},
   "outputs": [],
   "source": []
  },
  {
   "cell_type": "code",
   "execution_count": null,
   "id": "5b0a432d-bad1-43a0-b20e-2912e79755b9",
   "metadata": {},
   "outputs": [],
   "source": []
  }
 ],
 "metadata": {
  "kernelspec": {
   "display_name": "Python 3 (ipykernel)",
   "language": "python",
   "name": "python3"
  },
  "language_info": {
   "codemirror_mode": {
    "name": "ipython",
    "version": 3
   },
   "file_extension": ".py",
   "mimetype": "text/x-python",
   "name": "python",
   "nbconvert_exporter": "python",
   "pygments_lexer": "ipython3",
   "version": "3.8.13"
  }
 },
 "nbformat": 4,
 "nbformat_minor": 5
}
