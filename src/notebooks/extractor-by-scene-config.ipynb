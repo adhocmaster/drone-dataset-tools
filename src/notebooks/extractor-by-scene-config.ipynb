{
 "cells": [
  {
   "cell_type": "markdown",
   "id": "aa8afcf3-71d3-4f5b-859f-4c2a8d073a4b",
   "metadata": {},
   "source": [
    "# TO RUN\n",
    "1. Make sure you installed all the dependencies\n",
    "2. open **'init_notebook.py'** and change the **projectFolder** to the src folder of the repository.\n",
    "3. In the following cell change the dataDir to the data directory of the InD dataset"
   ]
  },
  {
   "cell_type": "code",
   "execution_count": 1,
   "id": "e082d014-dbbd-4d84-bce5-375f9e61a048",
   "metadata": {},
   "outputs": [],
   "source": [
    "dataDir = \"G:AV datasets/inD-dataset-v1.0/data/\"\n",
    "dataDir = \"E:/Datasets/inD-dataset-v1.0/data/\""
   ]
  },
  {
   "cell_type": "code",
   "execution_count": 2,
   "id": "1c24ee51-496d-4595-b4f7-c6be77173c92",
   "metadata": {},
   "outputs": [
    {
     "name": "stdout",
     "output_type": "stream",
     "text": [
      "current working dirD:\\AV\\DataSetExploration\\drone-dataset-tools\\src\n"
     ]
    }
   ],
   "source": [
    "exec(open('init_notebook.py').read())"
   ]
  },
  {
   "cell_type": "code",
   "execution_count": 3,
   "id": "207f4347-296b-4bff-85e8-204926f80b9c",
   "metadata": {},
   "outputs": [
    {
     "name": "stderr",
     "output_type": "stream",
     "text": [
      "No traceback available to show.\n"
     ]
    }
   ],
   "source": [
    "%load_ext autoreload\n",
    "%autoreload 2\n",
    "%tb"
   ]
  },
  {
   "cell_type": "code",
   "execution_count": 4,
   "id": "a3213af8-def8-4be8-bf6d-28c87a5d3e7b",
   "metadata": {},
   "outputs": [],
   "source": [
    "import logging\n",
    "logging.basicConfig(level=logging.INFO)\n",
    "from loguru import logger\n",
    "logger.remove()\n",
    "logger.add(sys.stdout, format=\"{level} {message}\", filter=\"my_module\", level=\"INFO\")\n",
    "\n",
    "from extractors.loader import Loader"
   ]
  },
  {
   "cell_type": "code",
   "execution_count": 5,
   "id": "b6022f87-be2d-4f75-b4e4-db808efb3ea5",
   "metadata": {},
   "outputs": [],
   "source": [
    "loader = Loader(dataDir, 'inD')"
   ]
  },
  {
   "cell_type": "markdown",
   "id": "e051d20b-5ba7-4210-9571-d2d2ad527422",
   "metadata": {},
   "source": [
    "# LocationData - for aggregation\n",
    "\n",
    "**get all the unique crossing ids**\n",
    "```\n",
    "loc2data = loader.getLocationData(2)\n",
    "loc2data.getUniqueCrossingIds()\n",
    "```\n",
    "**get all the crossing data by scene config**\n",
    "```\n",
    "loc2data = loader.getLocationData(2, useSceneConfigToExtract=True)\n",
    "crossingDf = loc2data.getCrossingDf()\n",
    "```"
   ]
  },
  {
   "cell_type": "code",
   "execution_count": null,
   "id": "964a7b5e-76b7-45d6-a2d8-04d8dc8f2c0d",
   "metadata": {},
   "outputs": [
    {
     "name": "stderr",
     "output_type": "stream",
     "text": [
      "INFO:root:recordingIds: [18, 19, 20, 21, 22, 23, 24, 25, 26, 27, 28, 29]\n",
      "INFO:root:Downsampling recording 18 from 25.0 to 2.5\n",
      "downsampling: 100%|███████████████████████████████████████████████████████████████████████████████████████████████████████████████████████████████████████████████████████████████████████████████████████████████████████████████| 625989/625989 [00:27<00:00, 22367.74it/s]\n",
      "INFO:root:Downsampling recording 19 from 25.0 to 2.5\n",
      "downsampling:  53%|████████████████████████████████████████████████████████████████████████████████████████████████████████████▉                                                                                                  | 258906/492008 [00:11<00:10, 22978.23it/s]"
     ]
    }
   ],
   "source": [
    "loc2data = loader.getLocationData(2, useSceneConfigToExtract=True)"
   ]
  },
  {
   "cell_type": "code",
   "execution_count": 7,
   "id": "9b30614e-e44e-406a-8fec-7a5c0313f372",
   "metadata": {},
   "outputs": [
    {
     "name": "stderr",
     "output_type": "stream",
     "text": [
      "No traceback available to show.\n"
     ]
    }
   ],
   "source": [
    "%tb"
   ]
  },
  {
   "cell_type": "code",
   "execution_count": 8,
   "id": "55ee7887-15b6-4e0d-9989-4a2546d53ba9",
   "metadata": {},
   "outputs": [
    {
     "data": {
      "text/plain": [
       "{'#original frameRate': 25.0,\n",
       " '#crossing trajectories': 1348,\n",
       " '#scene trajectories': 1607,\n",
       " 'scene#10': 613,\n",
       " 'scene#11': 10,\n",
       " 'scene#20': 177,\n",
       " 'scene#21': 62,\n",
       " 'scene#22': 55,\n",
       " 'scene#30': 471,\n",
       " 'scene#31': 23,\n",
       " 'scene#40': 196}"
      ]
     },
     "execution_count": 8,
     "metadata": {},
     "output_type": "execute_result"
    }
   ],
   "source": [
    "loc2data.summary()"
   ]
  },
  {
   "cell_type": "code",
   "execution_count": 13,
   "id": "bf2045b3-c22d-4c01-b769-1dce06f664e4",
   "metadata": {},
   "outputs": [
    {
     "data": {
      "text/plain": [
       "{'#original frameRate': 25.0,\n",
       " '#crossing trajectories': 1348,\n",
       " '#scene trajectories': 1607,\n",
       " 'scene#10': 613,\n",
       " 'scene#11': 10,\n",
       " 'scene#20': 177,\n",
       " 'scene#21': 62,\n",
       " 'scene#22': 55,\n",
       " 'scene#30': 471,\n",
       " 'scene#31': 23,\n",
       " 'scene#40': 196}"
      ]
     },
     "execution_count": 13,
     "metadata": {},
     "output_type": "execute_result"
    }
   ],
   "source": [
    "loc2data.summary()"
   ]
  },
  {
   "cell_type": "code",
   "execution_count": 9,
   "id": "3295bbd4-4465-49bb-98dc-7003ab1be94e",
   "metadata": {},
   "outputs": [],
   "source": [
    "crossingDf = loc2data.getCrossingDf()"
   ]
  },
  {
   "cell_type": "markdown",
   "id": "152d1c78-53bd-479c-baf5-9b1b4c4611e2",
   "metadata": {},
   "source": [
    "# Saving and Loading pre--processed Location data"
   ]
  },
  {
   "cell_type": "code",
   "execution_count": null,
   "id": "e562861f-62cd-4767-95ff-f8bf1e50782c",
   "metadata": {},
   "outputs": [],
   "source": [
    "loc2data.saveCrossingDf(\"../data\") # only crossing dataframes"
   ]
  },
  {
   "cell_type": "code",
   "execution_count": null,
   "id": "2bb4a9c8-d018-46a7-9611-841b2f8a9c06",
   "metadata": {},
   "outputs": [],
   "source": [
    "loc2data.save(\"../data\") # whole thing as a dill object"
   ]
  },
  {
   "cell_type": "code",
   "execution_count": null,
   "id": "32cec99d-9e42-4cf0-a1df-d5787ffe861e",
   "metadata": {},
   "outputs": [],
   "source": [
    "loc2data.saveSceneDataOnly(\"../data\")"
   ]
  },
  {
   "cell_type": "code",
   "execution_count": 12,
   "id": "8a50c99c-a312-4842-a1a7-421be889d161",
   "metadata": {},
   "outputs": [
    {
     "ename": "FileNotFoundError",
     "evalue": "[Errno 2] No such file or directory: '../data/location-2\\\\2022-11-12-all.dill'",
     "output_type": "error",
     "traceback": [
      "\u001b[1;31m---------------------------------------------------------------------------\u001b[0m",
      "\u001b[1;31mFileNotFoundError\u001b[0m                         Traceback (most recent call last)",
      "\u001b[1;32m<ipython-input-12-4d136128cf43>\u001b[0m in \u001b[0;36m<module>\u001b[1;34m\u001b[0m\n\u001b[0;32m      1\u001b[0m \u001b[1;32mfrom\u001b[0m \u001b[0mextractors\u001b[0m\u001b[1;33m.\u001b[0m\u001b[0mLocationData\u001b[0m \u001b[1;32mimport\u001b[0m \u001b[0mLocationData\u001b[0m\u001b[1;33m\u001b[0m\u001b[1;33m\u001b[0m\u001b[0m\n\u001b[1;32m----> 2\u001b[1;33m \u001b[0mloc2dataFromFile\u001b[0m \u001b[1;33m=\u001b[0m \u001b[0mLocationData\u001b[0m\u001b[1;33m.\u001b[0m\u001b[0mload\u001b[0m\u001b[1;33m(\u001b[0m\u001b[1;34m\"../data/location-2\"\u001b[0m\u001b[1;33m,\u001b[0m \u001b[1;34m\"2022-11-12-all.dill\"\u001b[0m\u001b[1;33m)\u001b[0m\u001b[1;33m\u001b[0m\u001b[1;33m\u001b[0m\u001b[0m\n\u001b[0m",
      "\u001b[1;32mE:\\AV\\DataSetExploration\\drone-dataset-tools\\src\\extractors\\LocationData.py\u001b[0m in \u001b[0;36mload\u001b[1;34m(locDir, fname)\u001b[0m\n\u001b[0;32m    428\u001b[0m         \u001b[0mfpath\u001b[0m \u001b[1;33m=\u001b[0m \u001b[0mos\u001b[0m\u001b[1;33m.\u001b[0m\u001b[0mpath\u001b[0m\u001b[1;33m.\u001b[0m\u001b[0mjoin\u001b[0m\u001b[1;33m(\u001b[0m\u001b[0mlocDir\u001b[0m\u001b[1;33m,\u001b[0m \u001b[0mfname\u001b[0m\u001b[1;33m)\u001b[0m\u001b[1;33m\u001b[0m\u001b[1;33m\u001b[0m\u001b[0m\n\u001b[0;32m    429\u001b[0m         \u001b[0mlogger\u001b[0m\u001b[1;33m.\u001b[0m\u001b[0minfo\u001b[0m\u001b[1;33m(\u001b[0m\u001b[1;34mf\"reading from {fpath}\"\u001b[0m\u001b[1;33m)\u001b[0m\u001b[1;33m\u001b[0m\u001b[1;33m\u001b[0m\u001b[0m\n\u001b[1;32m--> 430\u001b[1;33m         \u001b[1;32mwith\u001b[0m \u001b[0mopen\u001b[0m\u001b[1;33m(\u001b[0m\u001b[0mfpath\u001b[0m\u001b[1;33m,\u001b[0m \u001b[1;34m\"rb\"\u001b[0m\u001b[1;33m)\u001b[0m \u001b[1;32mas\u001b[0m \u001b[0mfp\u001b[0m\u001b[1;33m:\u001b[0m\u001b[1;33m\u001b[0m\u001b[1;33m\u001b[0m\u001b[0m\n\u001b[0m\u001b[0;32m    431\u001b[0m             \u001b[1;32mreturn\u001b[0m \u001b[0mload\u001b[0m\u001b[1;33m(\u001b[0m\u001b[0mfp\u001b[0m\u001b[1;33m)\u001b[0m\u001b[1;33m\u001b[0m\u001b[1;33m\u001b[0m\u001b[0m\n\u001b[0;32m    432\u001b[0m     \u001b[1;31m# endregion\u001b[0m\u001b[1;33m\u001b[0m\u001b[1;33m\u001b[0m\u001b[1;33m\u001b[0m\u001b[0m\n",
      "\u001b[1;31mFileNotFoundError\u001b[0m: [Errno 2] No such file or directory: '../data/location-2\\\\2022-11-12-all.dill'"
     ]
    }
   ],
   "source": [
    "from extractors.LocationData import LocationData\n",
    "loc2dataFromFile = LocationData.load(\"../data/location-2\", \"2022-11-12-all.dill\")"
   ]
  },
  {
   "cell_type": "markdown",
   "id": "d411d73a-cab9-4ce5-b65c-3e2e8d667f48",
   "metadata": {},
   "source": [
    "# Validate if there are trajectories not captured by the scene-based extractor"
   ]
  },
  {
   "cell_type": "code",
   "execution_count": null,
   "id": "8b1f350d-61b6-4da5-a067-331b46d41ec1",
   "metadata": {},
   "outputs": [],
   "source": [
    "from tools.TrajectoryUtils import TrajectoryUtils\n",
    "from tools.TrajectoryVisualizer import TrajectoryVisualizer\n",
    "import matplotlib.pyplot as plt\n",
    "import numpy as np\n",
    "visualizer = TrajectoryVisualizer(loader)"
   ]
  },
  {
   "cell_type": "code",
   "execution_count": null,
   "id": "2882b10d-be67-457a-8345-e8a3d60c0895",
   "metadata": {},
   "outputs": [],
   "source": [
    "# visualizer.showLocationCrossingTracks(loc2data)"
   ]
  },
  {
   "cell_type": "code",
   "execution_count": null,
   "id": "47205736-f6b3-4891-a4c6-aed93a23f2dc",
   "metadata": {},
   "outputs": [],
   "source": [
    "sceneData = loc2dataFromFile.getSceneData(10, 10, 5, refresh=False)\n",
    "# sceneData = loc2data.getSceneData(10, 10, 5, refresh=False)\n",
    "# dir(sceneData)\n",
    "# sceneData.pedData\n",
    "# sceneDf = loc2data.getSceneCrossingDf('10', 0, 0)"
   ]
  },
  {
   "cell_type": "code",
   "execution_count": null,
   "id": "cce4e2c2-c1ee-4392-82d9-07277fad0811",
   "metadata": {},
   "outputs": [],
   "source": [
    "visualizer.showLocationSceneData(sceneData)"
   ]
  },
  {
   "cell_type": "code",
   "execution_count": null,
   "id": "cd357aa1-943f-48a7-84e9-d99391926c34",
   "metadata": {},
   "outputs": [],
   "source": [
    "scene11Data = loc2data.getSceneData(11, 10, 6, refresh=False)\n",
    "visualizer.showLocationSceneData(scene11Data)"
   ]
  },
  {
   "cell_type": "code",
   "execution_count": null,
   "id": "a784fcf4-1577-426d-8883-97d6b9fa923a",
   "metadata": {},
   "outputs": [],
   "source": [
    "scene20Data = loc2data.getSceneData(20, 10, 6, refresh=False)\n",
    "visualizer.showLocationSceneData(scene20Data)\n",
    "\n",
    "scene21Data = loc2data.getSceneData(21, 20, 9, refresh=False)\n",
    "visualizer.showLocationSceneData(scene21Data, onlyClipped=False)\n",
    "\n",
    "scene22Data = loc2data.getSceneData(22, 10, 6, refresh=False)\n",
    "visualizer.showLocationSceneData(scene22Data)"
   ]
  },
  {
   "cell_type": "code",
   "execution_count": null,
   "id": "66d356c0-8a03-45ba-ad81-5dea15da7490",
   "metadata": {},
   "outputs": [],
   "source": [
    "scene30Data = loc2data.getSceneData(30, 10, 6, refresh=False)\n",
    "visualizer.showLocationSceneData(scene30Data)\n",
    "\n",
    "scene31Data = loc2data.getSceneData(31, 10, 6, refresh=False)\n",
    "visualizer.showLocationSceneData(scene31Data)"
   ]
  },
  {
   "cell_type": "code",
   "execution_count": null,
   "id": "d631aba1-4a18-4873-a481-e7054abd0188",
   "metadata": {},
   "outputs": [],
   "source": [
    "scene40Data = loc2data.getSceneData(40, 6, 6, refresh=False)\n",
    "visualizer.showLocationSceneData(scene40Data)"
   ]
  },
  {
   "cell_type": "code",
   "execution_count": null,
   "id": "cdfe7c0e-33f8-4cf5-a801-1a5d0b86c622",
   "metadata": {},
   "outputs": [],
   "source": []
  },
  {
   "cell_type": "code",
   "execution_count": null,
   "id": "5b0a432d-bad1-43a0-b20e-2912e79755b9",
   "metadata": {},
   "outputs": [],
   "source": []
  }
 ],
 "metadata": {
  "kernelspec": {
   "display_name": "Python 3 (ipykernel)",
   "language": "python",
   "name": "python3"
  },
  "language_info": {
   "codemirror_mode": {
    "name": "ipython",
    "version": 3
   },
   "file_extension": ".py",
   "mimetype": "text/x-python",
   "name": "python",
   "nbconvert_exporter": "python",
   "pygments_lexer": "ipython3",
   "version": "3.8.13"
  }
 },
 "nbformat": 4,
 "nbformat_minor": 5
}
