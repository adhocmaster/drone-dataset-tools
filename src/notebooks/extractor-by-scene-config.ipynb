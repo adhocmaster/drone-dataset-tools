{
 "cells": [
  {
   "cell_type": "markdown",
   "id": "aa8afcf3-71d3-4f5b-859f-4c2a8d073a4b",
   "metadata": {},
   "source": [
    "# TO RUN\n",
    "1. Make sure you installed all the dependencies\n",
    "2. open **'init_notebook.py'** and change the **projectFolder** to the src folder of the repository.\n",
    "3. In the following cell change the dataDir to the data directory of the InD dataset"
   ]
  },
  {
   "cell_type": "code",
   "execution_count": 1,
   "id": "e082d014-dbbd-4d84-bce5-375f9e61a048",
   "metadata": {},
   "outputs": [],
   "source": [
    "dataDir = \"G:AV datasets/inD-dataset-v1.0/data/\"\n",
    "dataDir = \"E:/Datasets/inD-dataset-v1.0/data/\""
   ]
  },
  {
   "cell_type": "code",
   "execution_count": 2,
   "id": "1c24ee51-496d-4595-b4f7-c6be77173c92",
   "metadata": {},
   "outputs": [
    {
     "name": "stdout",
     "output_type": "stream",
     "text": [
      "current working dirD:\\AV\\DataSetExploration\\drone-dataset-tools\\src\n"
     ]
    }
   ],
   "source": [
    "exec(open('init_notebook.py').read())"
   ]
  },
  {
   "cell_type": "code",
   "execution_count": 3,
   "id": "207f4347-296b-4bff-85e8-204926f80b9c",
   "metadata": {},
   "outputs": [],
   "source": [
    "%load_ext autoreload\n",
    "%autoreload 2\n"
   ]
  },
  {
   "cell_type": "code",
   "execution_count": 4,
   "id": "a3213af8-def8-4be8-bf6d-28c87a5d3e7b",
   "metadata": {},
   "outputs": [
    {
     "name": "stderr",
     "output_type": "stream",
     "text": [
      "INFO:numexpr.utils:NumExpr defaulting to 8 threads.\n"
     ]
    }
   ],
   "source": [
    "import logging\n",
    "logging.basicConfig(level=logging.INFO)\n",
    "from loguru import logger\n",
    "logger.remove()\n",
    "logger.add(sys.stdout, format=\"{level} {message}\", filter=\"my_module\", level=\"INFO\")\n",
    "\n",
    "from extractors.loader import Loader"
   ]
  },
  {
   "cell_type": "code",
   "execution_count": 5,
   "id": "b6022f87-be2d-4f75-b4e4-db808efb3ea5",
   "metadata": {},
   "outputs": [],
   "source": [
    "loader = Loader(dataDir, 'inD')"
   ]
  },
  {
   "cell_type": "markdown",
   "id": "e051d20b-5ba7-4210-9571-d2d2ad527422",
   "metadata": {},
   "source": [
    "# LocationData - for aggregation\n",
    "\n",
    "**get all the unique crossing ids**\n",
    "```\n",
    "loc2data = loader.getLocationData(2)\n",
    "loc2data.getUniqueCrossingIds()\n",
    "```\n",
    "**get all the crossing data by scene config**\n",
    "```\n",
    "loc2data = loader.getLocationData(2, useSceneConfigToExtract=True)\n",
    "crossingDf = loc2data.getCrossingDf()\n",
    "```"
   ]
  },
  {
   "cell_type": "code",
   "execution_count": 6,
   "id": "964a7b5e-76b7-45d6-a2d8-04d8dc8f2c0d",
   "metadata": {},
   "outputs": [
    {
     "name": "stderr",
     "output_type": "stream",
     "text": [
      "INFO:root:SceneData 10: moving outlier peds to others. We should only find outliers in the clipped trajectories?\n"
     ]
    },
    {
     "name": "stdout",
     "output_type": "stream",
     "text": [
      "using range (0.0, 3.0)\n"
     ]
    },
    {
     "name": "stderr",
     "output_type": "stream",
     "text": [
      "INFO:root:Scene 10: clipping original data\n",
      "clipping ped trajectories for scene # 10 with width offset 4.0: 100%|████████████████| 576/576 [00:19<00:00, 29.41it/s]\n",
      "clipping other trajectories for scene # 10: 100%|██████████████████████████████████| 1656/1656 [00:58<00:00, 28.23it/s]\n",
      "INFO:root:Scene 10: transforming trajectories to scene coordinates\n",
      "INFO:root:Scene 10: adding dynamics\n",
      "INFO:root:Scene 10: trimming head and tail\n",
      "INFO:root:Scene 10: clipping trimmed data\n",
      "clipping ped trajectories for scene # 10 with width offset 0.0: 100%|████████████████| 576/576 [00:06<00:00, 92.61it/s]\n",
      "INFO:root:Scene 10: building clipped track meta\n",
      "INFO:root:SceneData 11: moving outlier peds to others. We should only find outliers in the clipped trajectories?\n",
      "INFO:root:Scene 11: clipping original data\n"
     ]
    },
    {
     "name": "stdout",
     "output_type": "stream",
     "text": [
      "fast_pedestrian 18156: moving 18156 to others as speed is unrealistic\n",
      "fast_pedestrian 18319: moving 18319 to others as speed is unrealistic\n",
      "fast_pedestrian 18322: moving 18322 to others as speed is unrealistic\n",
      "fast_pedestrian 18396: moving 18396 to others as speed is unrealistic\n",
      "fast_pedestrian 18408: moving 18408 to others as speed is unrealistic\n",
      "fast_pedestrian 19040: moving 19040 to others as speed is unrealistic\n",
      "fast_pedestrian 19049: moving 19049 to others as speed is unrealistic\n",
      "fast_pedestrian 19063: moving 19063 to others as speed is unrealistic\n",
      "fast_pedestrian 19147: moving 19147 to others as speed is unrealistic\n",
      "fast_pedestrian 19149: moving 19149 to others as speed is unrealistic\n",
      "fast_pedestrian 20089: moving 20089 to others as speed is unrealistic\n",
      "fast_pedestrian 20281: moving 20281 to others as speed is unrealistic\n",
      "fast_pedestrian 20295: moving 20295 to others as speed is unrealistic\n",
      "fast_pedestrian 20346: moving 20346 to others as speed is unrealistic\n",
      "fast_pedestrian 20361: moving 20361 to others as speed is unrealistic\n",
      "fast_pedestrian 20398: moving 20398 to others as speed is unrealistic\n",
      "fast_pedestrian 20461: moving 20461 to others as speed is unrealistic\n",
      "fast_pedestrian 20471: moving 20471 to others as speed is unrealistic\n",
      "fast_pedestrian 21070: moving 21070 to others as speed is unrealistic\n",
      "fast_pedestrian 21297: moving 21297 to others as speed is unrealistic\n",
      "fast_pedestrian 21304: moving 21304 to others as speed is unrealistic\n",
      "fast_pedestrian 22146: moving 22146 to others as speed is unrealistic\n",
      "fast_pedestrian 22293: moving 22293 to others as speed is unrealistic\n",
      "fast_pedestrian 22448: moving 22448 to others as speed is unrealistic\n",
      "fast_pedestrian 22554: moving 22554 to others as speed is unrealistic\n",
      "fast_pedestrian 23240: moving 23240 to others as speed is unrealistic\n",
      "fast_pedestrian 23241: moving 23241 to others as speed is unrealistic\n",
      "fast_pedestrian 23300: moving 23300 to others as speed is unrealistic\n",
      "fast_pedestrian 23305: moving 23305 to others as speed is unrealistic\n",
      "fast_pedestrian 23477: moving 23477 to others as speed is unrealistic\n",
      "fast_pedestrian 23565: moving 23565 to others as speed is unrealistic\n",
      "fast_pedestrian 24155: moving 24155 to others as speed is unrealistic\n",
      "fast_pedestrian 24210: moving 24210 to others as speed is unrealistic\n",
      "fast_pedestrian 24376: moving 24376 to others as speed is unrealistic\n",
      "fast_pedestrian 25152: moving 25152 to others as speed is unrealistic\n",
      "fast_pedestrian 25183: moving 25183 to others as speed is unrealistic\n",
      "fast_pedestrian 25286: moving 25286 to others as speed is unrealistic\n",
      "fast_pedestrian 25292: moving 25292 to others as speed is unrealistic\n",
      "fast_pedestrian 25471: moving 25471 to others as speed is unrealistic\n",
      "fast_pedestrian 26123: moving 26123 to others as speed is unrealistic\n",
      "fast_pedestrian 26279: moving 26279 to others as speed is unrealistic\n",
      "fast_pedestrian 26281: moving 26281 to others as speed is unrealistic\n",
      "fast_pedestrian 26292: moving 26292 to others as speed is unrealistic\n",
      "fast_pedestrian 26403: moving 26403 to others as speed is unrealistic\n",
      "fast_pedestrian 27252: moving 27252 to others as speed is unrealistic\n",
      "fast_pedestrian 27363: moving 27363 to others as speed is unrealistic\n",
      "fast_pedestrian 27572: moving 27572 to others as speed is unrealistic\n",
      "fast_pedestrian 28115: moving 28115 to others as speed is unrealistic\n",
      "fast_pedestrian 29285: moving 29285 to others as speed is unrealistic\n",
      "fast_pedestrian 29476: moving 29476 to others as speed is unrealistic\n",
      "fast_pedestrian 29513: moving 29513 to others as speed is unrealistic\n",
      "fast_pedestrian 29575: moving 29575 to others as speed is unrealistic\n",
      "pedestrian 18388: enters the scene 2 times\n",
      "pedestrian 24355: enters the scene 3 times\n",
      "pedestrian 26167: enters the scene 2 times\n",
      "pedestrian 26330: enters the scene 4 times\n",
      "pedestrian 26330: Disregarding as the length 0.024125127978929788 is too short or rows too less (31)\n",
      "pedestrian 26330: Disregarding as the length 0.0030541283535565145 is too short or rows too less (9)\n",
      "pedestrian 26330: Disregarding as the length 0.026336472808637896 is too short or rows too less (4)\n",
      "pedestrian 26361: enters the scene 2 times\n",
      "pedestrian 27159: enters the scene 2 times\n",
      "bicycle 18045: enters the scene 4 times\n",
      "bicycle 18045: Disregarding as the length 0.10516475122397448 is too short or rows too less (26)\n",
      "bicycle 18045: Disregarding as the length 0.09814129660851399 is too short or rows too less (30)\n",
      "bicycle 18045: Disregarding as the length 0.08265402107580888 is too short or rows too less (3)\n",
      "bicycle 19068: enters the scene 2 times\n",
      "car 24163: enters the scene 2 times\n",
      "car 26329: enters the scene 2 times\n",
      "bicycle 27541: enters the scene 4 times\n",
      "fast_pedestrian 18408: enters the scene 3 times\n",
      "fast_pedestrian 20398: enters the scene 2 times\n",
      "fast_pedestrian 22146: enters the scene 2 times\n",
      "fast_pedestrian 25152: enters the scene 2 times\n",
      "fast_pedestrian 26292: enters the scene 2 times\n",
      "pedestrian 24065: enters the scene 2 times\n",
      "Clipping after trimming lost 12 pedestrian tracks: {24065, 2636100, 2636101, 2435500, 2435501, 2435502, 2616701, 1838800, 1838801, 2616700, 2715900, 2715901}\n",
      "problematic tracks: defaultdict(<function SceneData.buildLocalInformation.<locals>.<lambda> at 0x00000295887DEF70>, {'fast_pedestrian': {22146, 23300, 29575, 20361, 23305, 26123, 23565, 18319, 18322, 24210, 22293, 22554, 26403, 29476, 19063, 26279, 26281, 20398, 22448, 21297, 26292, 23477, 27572, 21304, 20281, 24376, 25152, 25286, 20295, 23240, 23241, 29513, 19147, 25292, 19149, 21070, 28115, 24155, 18396, 25183, 19040, 27363, 29285, 18408, 19049, 18156, 20461, 27252, 20471, 20089, 20346, 25471}})\n",
      "using range (0.0, 3.0)\n"
     ]
    },
    {
     "name": "stderr",
     "output_type": "stream",
     "text": [
      "clipping ped trajectories for scene # 11 with width offset 4.0: 100%|████████████████████| 7/7 [00:00<00:00, 60.36it/s]\n",
      "clipping other trajectories for scene # 11: 100%|██████████████████████████████████| 1210/1210 [00:32<00:00, 37.20it/s]\n",
      "INFO:root:Scene 11: transforming trajectories to scene coordinates\n",
      "INFO:root:Scene 11: adding dynamics\n",
      "INFO:root:Scene 11: trimming head and tail\n",
      "INFO:root:Scene 11: clipping trimmed data\n",
      "clipping ped trajectories for scene # 11 with width offset 0.0: 100%|███████████████████| 7/7 [00:00<00:00, 139.92it/s]\n",
      "INFO:root:Scene 11: building clipped track meta\n",
      "INFO:root:SceneData 20: moving outlier peds to others. We should only find outliers in the clipped trajectories?\n"
     ]
    },
    {
     "name": "stdout",
     "output_type": "stream",
     "text": [
      "fast_pedestrian 26403: moving 26403 to others as speed is unrealistic\n",
      "fast_pedestrian 27426: moving 27426 to others as speed is unrealistic\n",
      "fast_pedestrian 29476: moving 29476 to others as speed is unrealistic\n",
      "car 24163: enters the scene 2 times\n",
      "car 26329: enters the scene 2 times\n",
      "problematic tracks: defaultdict(<function SceneData.buildLocalInformation.<locals>.<lambda> at 0x000002958AF2CF70>, {'fast_pedestrian': {27426, 26403, 29476}})\n"
     ]
    },
    {
     "name": "stderr",
     "output_type": "stream",
     "text": [
      "INFO:root:Scene 20: clipping original data\n"
     ]
    },
    {
     "name": "stdout",
     "output_type": "stream",
     "text": [
      "using range (0.0, 3.0)\n"
     ]
    },
    {
     "name": "stderr",
     "output_type": "stream",
     "text": [
      "clipping ped trajectories for scene # 20 with width offset 4.0: 100%|████████████████| 168/168 [00:04<00:00, 38.99it/s]\n",
      "clipping other trajectories for scene # 20: 100%|██████████████████████████████████| 2002/2002 [01:14<00:00, 26.70it/s]\n",
      "INFO:root:Scene 20: transforming trajectories to scene coordinates\n",
      "INFO:root:Scene 20: adding dynamics\n",
      "INFO:root:Scene 20: trimming head and tail\n",
      "INFO:root:Scene 20: clipping trimmed data\n",
      "clipping ped trajectories for scene # 20 with width offset 0.0: 100%|████████████████| 168/168 [00:01<00:00, 92.45it/s]\n",
      "INFO:root:Scene 20: building clipped track meta\n",
      "INFO:root:SceneData 21: moving outlier peds to others. We should only find outliers in the clipped trajectories?\n",
      "INFO:root:Scene 21: clipping original data\n"
     ]
    },
    {
     "name": "stdout",
     "output_type": "stream",
     "text": [
      "fast_pedestrian 20404: moving 20404 to others as speed is unrealistic\n",
      "fast_pedestrian 20456: moving 20456 to others as speed is unrealistic\n",
      "fast_pedestrian 21252: moving 21252 to others as speed is unrealistic\n",
      "fast_pedestrian 21549: moving 21549 to others as speed is unrealistic\n",
      "fast_pedestrian 23066: moving 23066 to others as speed is unrealistic\n",
      "fast_pedestrian 23378: moving 23378 to others as speed is unrealistic\n",
      "fast_pedestrian 24331: moving 24331 to others as speed is unrealistic\n",
      "fast_pedestrian 28230: moving 28230 to others as speed is unrealistic\n",
      "fast_pedestrian 28252: moving 28252 to others as speed is unrealistic\n",
      "fast_pedestrian 29106: moving 29106 to others as speed is unrealistic\n",
      "fast_pedestrian 29238: moving 29238 to others as speed is unrealistic\n",
      "fast_pedestrian 29240: moving 29240 to others as speed is unrealistic\n",
      "pedestrian 22316: enters the scene 2 times\n",
      "pedestrian 27294: enters the scene 2 times\n",
      "pedestrian 27294: Disregarding as the length 0.0715449690753995 is too short or rows too less (8)\n",
      "pedestrian 29587: enters the scene 2 times\n",
      "bicycle 25368: enters the scene 2 times\n",
      "pedestrian 26039: enters the scene 2 times\n",
      "pedestrian 27346: enters the scene 2 times\n",
      "Clipping after trimming lost 6 pedestrian tracks: {2958700, 2958701, 2231600, 2231601, 27346, 26039}\n",
      "problematic tracks: defaultdict(<function SceneData.buildLocalInformation.<locals>.<lambda> at 0x00000295AFE9B1F0>, {'fast_pedestrian': {21252, 28230, 20456, 24331, 21549, 23378, 29106, 20404, 29238, 29240, 23066, 28252}})\n",
      "using range (0.0, 3.0)\n"
     ]
    },
    {
     "name": "stderr",
     "output_type": "stream",
     "text": [
      "clipping ped trajectories for scene # 21 with width offset 4.0: 100%|██████████████████| 60/60 [00:01<00:00, 41.66it/s]\n",
      "clipping other trajectories for scene # 21: 100%|██████████████████████████████████| 2297/2297 [01:32<00:00, 24.81it/s]\n",
      "INFO:root:Scene 21: transforming trajectories to scene coordinates\n",
      "INFO:root:Scene 21: adding dynamics\n",
      "INFO:root:Scene 21: trimming head and tail\n",
      "INFO:root:Scene 21: clipping trimmed data\n",
      "clipping ped trajectories for scene # 21 with width offset 0.0: 100%|█████████████████| 60/60 [00:00<00:00, 109.28it/s]\n",
      "INFO:root:Scene 21: building clipped track meta\n",
      "INFO:root:SceneData 22: moving outlier peds to others. We should only find outliers in the clipped trajectories?\n",
      "INFO:root:Scene 22: clipping original data\n"
     ]
    },
    {
     "name": "stdout",
     "output_type": "stream",
     "text": [
      "fast_pedestrian 18379: moving 18379 to others as speed is unrealistic\n",
      "fast_pedestrian 21034: moving 21034 to others as speed is unrealistic\n",
      "fast_pedestrian 21252: moving 21252 to others as speed is unrealistic\n",
      "fast_pedestrian 21426: moving 21426 to others as speed is unrealistic\n",
      "fast_pedestrian 21549: moving 21549 to others as speed is unrealistic\n",
      "fast_pedestrian 27560: moving 27560 to others as speed is unrealistic\n",
      "fast_pedestrian 28230: moving 28230 to others as speed is unrealistic\n",
      "fast_pedestrian 29106: moving 29106 to others as speed is unrealistic\n",
      "fast_pedestrian 29238: moving 29238 to others as speed is unrealistic\n",
      "fast_pedestrian 29240: moving 29240 to others as speed is unrealistic\n",
      "pedestrian 18074: enters the scene 2 times\n",
      "pedestrian 18116: enters the scene 2 times\n",
      "pedestrian 22531: enters the scene 2 times\n",
      "pedestrian 25117: enters the scene 2 times\n",
      "pedestrian 27294: enters the scene 2 times\n",
      "pedestrian 27346: enters the scene 2 times\n",
      "pedestrian 29529: enters the scene 2 times\n",
      "pedestrian 29586: enters the scene 2 times\n",
      "bicycle 20107: enters the scene 2 times\n",
      "bicycle 20112: enters the scene 2 times\n",
      "bicycle 20300: enters the scene 2 times\n",
      "bicycle 25368: enters the scene 2 times\n",
      "fast_pedestrian 21426: enters the scene 2 times\n",
      "Clipping after trimming lost 16 pedestrian tracks: {2952900, 2952901, 2734600, 2734601, 2958601, 1807400, 1807401, 2253100, 2253101, 2958600, 1811600, 1811601, 2511700, 2511701, 2729400, 2729401}\n",
      "problematic tracks: defaultdict(<function SceneData.buildLocalInformation.<locals>.<lambda> at 0x00000295CC6EFE50>, {'fast_pedestrian': {21252, 28230, 27560, 21034, 18379, 21549, 21426, 29106, 29238, 29240}})\n",
      "using range (0.0, 3.0)\n"
     ]
    },
    {
     "name": "stderr",
     "output_type": "stream",
     "text": [
      "clipping ped trajectories for scene # 22 with width offset 4.0: 100%|██████████████████| 49/49 [00:00<00:00, 50.20it/s]\n",
      "clipping other trajectories for scene # 22: 100%|██████████████████████████████████| 2218/2218 [01:25<00:00, 25.83it/s]\n",
      "INFO:root:Scene 22: transforming trajectories to scene coordinates\n",
      "INFO:root:Scene 22: adding dynamics\n",
      "INFO:root:Scene 22: trimming head and tail\n",
      "INFO:root:Scene 22: clipping trimmed data\n",
      "clipping ped trajectories for scene # 22 with width offset 0.0: 100%|██████████████████| 49/49 [00:00<00:00, 90.07it/s]\n",
      "INFO:root:Scene 22: building clipped track meta\n",
      "INFO:root:SceneData 30: moving outlier peds to others. We should only find outliers in the clipped trajectories?\n"
     ]
    },
    {
     "name": "stdout",
     "output_type": "stream",
     "text": [
      "fast_pedestrian 21034: moving 21034 to others as speed is unrealistic\n",
      "fast_pedestrian 21426: moving 21426 to others as speed is unrealistic\n",
      "fast_pedestrian 21549: moving 21549 to others as speed is unrealistic\n",
      "fast_pedestrian 23528: moving 23528 to others as speed is unrealistic\n",
      "fast_pedestrian 27560: moving 27560 to others as speed is unrealistic\n",
      "fast_pedestrian 28230: moving 28230 to others as speed is unrealistic\n",
      "fast_pedestrian 29106: moving 29106 to others as speed is unrealistic\n",
      "fast_pedestrian 29186: moving 29186 to others as speed is unrealistic\n",
      "fast_pedestrian 29238: moving 29238 to others as speed is unrealistic\n",
      "fast_pedestrian 29240: moving 29240 to others as speed is unrealistic\n",
      "bicycle 23386: enters the scene 2 times\n",
      "bicycle 27461: enters the scene 2 times\n",
      "bicycle 29571: enters the scene 2 times\n",
      "problematic tracks: defaultdict(<function SceneData.buildLocalInformation.<locals>.<lambda> at 0x00000295AFE9B940>, {'fast_pedestrian': {29186, 28230, 27560, 23528, 21034, 21549, 21426, 29106, 29238, 29240}})\n",
      "using range (0.0, 3.0)\n"
     ]
    },
    {
     "name": "stderr",
     "output_type": "stream",
     "text": [
      "INFO:root:Scene 30: clipping original data\n",
      "clipping ped trajectories for scene # 30 with width offset 4.0: 100%|████████████████| 421/421 [00:14<00:00, 28.37it/s]\n",
      "clipping other trajectories for scene # 30: 100%|██████████████████████████████████| 1451/1451 [00:45<00:00, 32.24it/s]\n",
      "INFO:root:Scene 30: transforming trajectories to scene coordinates\n",
      "INFO:root:Scene 30: adding dynamics\n",
      "INFO:root:Scene 30: trimming head and tail\n",
      "INFO:root:Scene 30: clipping trimmed data\n",
      "clipping ped trajectories for scene # 30 with width offset 0.0: 100%|████████████████| 421/421 [00:04<00:00, 91.71it/s]\n",
      "INFO:root:Scene 30: building clipped track meta\n",
      "INFO:root:SceneData 31: moving outlier peds to others. We should only find outliers in the clipped trajectories?\n",
      "INFO:root:Scene 31: clipping original data\n"
     ]
    },
    {
     "name": "stdout",
     "output_type": "stream",
     "text": [
      "fast_pedestrian 18020: moving 18020 to others as speed is unrealistic\n",
      "fast_pedestrian 18026: moving 18026 to others as speed is unrealistic\n",
      "fast_pedestrian 18072: moving 18072 to others as speed is unrealistic\n",
      "fast_pedestrian 18100: moving 18100 to others as speed is unrealistic\n",
      "fast_pedestrian 18148: moving 18148 to others as speed is unrealistic\n",
      "fast_pedestrian 18353: moving 18353 to others as speed is unrealistic\n",
      "fast_pedestrian 18396: moving 18396 to others as speed is unrealistic\n",
      "fast_pedestrian 18408: moving 18408 to others as speed is unrealistic\n",
      "fast_pedestrian 18409: moving 18409 to others as speed is unrealistic\n",
      "fast_pedestrian 20116: moving 20116 to others as speed is unrealistic\n",
      "fast_pedestrian 20193: moving 20193 to others as speed is unrealistic\n",
      "fast_pedestrian 20264: moving 20264 to others as speed is unrealistic\n",
      "fast_pedestrian 20281: moving 20281 to others as speed is unrealistic\n",
      "fast_pedestrian 20346: moving 20346 to others as speed is unrealistic\n",
      "fast_pedestrian 20404: moving 20404 to others as speed is unrealistic\n",
      "fast_pedestrian 20461: moving 20461 to others as speed is unrealistic\n",
      "fast_pedestrian 21276: moving 21276 to others as speed is unrealistic\n",
      "fast_pedestrian 21426: moving 21426 to others as speed is unrealistic\n",
      "fast_pedestrian 21549: moving 21549 to others as speed is unrealistic\n",
      "fast_pedestrian 22059: moving 22059 to others as speed is unrealistic\n",
      "fast_pedestrian 22194: moving 22194 to others as speed is unrealistic\n",
      "fast_pedestrian 22554: moving 22554 to others as speed is unrealistic\n",
      "fast_pedestrian 23115: moving 23115 to others as speed is unrealistic\n",
      "fast_pedestrian 23240: moving 23240 to others as speed is unrealistic\n",
      "fast_pedestrian 23241: moving 23241 to others as speed is unrealistic\n",
      "fast_pedestrian 23305: moving 23305 to others as speed is unrealistic\n",
      "fast_pedestrian 23365: moving 23365 to others as speed is unrealistic\n",
      "fast_pedestrian 23387: moving 23387 to others as speed is unrealistic\n",
      "fast_pedestrian 23389: moving 23389 to others as speed is unrealistic\n",
      "fast_pedestrian 23413: moving 23413 to others as speed is unrealistic\n",
      "fast_pedestrian 23452: moving 23452 to others as speed is unrealistic\n",
      "fast_pedestrian 23482: moving 23482 to others as speed is unrealistic\n",
      "fast_pedestrian 23488: moving 23488 to others as speed is unrealistic\n",
      "fast_pedestrian 24128: moving 24128 to others as speed is unrealistic\n",
      "fast_pedestrian 24198: moving 24198 to others as speed is unrealistic\n",
      "fast_pedestrian 24228: moving 24228 to others as speed is unrealistic\n",
      "fast_pedestrian 24331: moving 24331 to others as speed is unrealistic\n",
      "fast_pedestrian 25152: moving 25152 to others as speed is unrealistic\n",
      "fast_pedestrian 25168: moving 25168 to others as speed is unrealistic\n",
      "fast_pedestrian 25183: moving 25183 to others as speed is unrealistic\n",
      "fast_pedestrian 25292: moving 25292 to others as speed is unrealistic\n",
      "fast_pedestrian 25311: moving 25311 to others as speed is unrealistic\n",
      "fast_pedestrian 26110: moving 26110 to others as speed is unrealistic\n",
      "fast_pedestrian 26265: moving 26265 to others as speed is unrealistic\n",
      "fast_pedestrian 26269: moving 26269 to others as speed is unrealistic\n",
      "fast_pedestrian 26292: moving 26292 to others as speed is unrealistic\n",
      "fast_pedestrian 27114: moving 27114 to others as speed is unrealistic\n",
      "fast_pedestrian 27324: moving 27324 to others as speed is unrealistic\n",
      "fast_pedestrian 28230: moving 28230 to others as speed is unrealistic\n",
      "fast_pedestrian 28233: moving 28233 to others as speed is unrealistic\n",
      "fast_pedestrian 28252: moving 28252 to others as speed is unrealistic\n",
      "fast_pedestrian 28367: moving 28367 to others as speed is unrealistic\n",
      "fast_pedestrian 28368: moving 28368 to others as speed is unrealistic\n",
      "fast_pedestrian 29081: moving 29081 to others as speed is unrealistic\n",
      "fast_pedestrian 29106: moving 29106 to others as speed is unrealistic\n",
      "fast_pedestrian 29115: moving 29115 to others as speed is unrealistic\n",
      "fast_pedestrian 29116: moving 29116 to others as speed is unrealistic\n",
      "fast_pedestrian 29174: moving 29174 to others as speed is unrealistic\n",
      "fast_pedestrian 29175: moving 29175 to others as speed is unrealistic\n",
      "fast_pedestrian 29208: moving 29208 to others as speed is unrealistic\n",
      "fast_pedestrian 29442: moving 29442 to others as speed is unrealistic\n",
      "fast_pedestrian 29486: moving 29486 to others as speed is unrealistic\n",
      "pedestrian 24171: enters the scene 2 times\n",
      "pedestrian 25295: enters the scene 2 times\n",
      "pedestrian 25296: enters the scene 2 times\n",
      "pedestrian 26118: enters the scene 2 times\n",
      "bicycle 18358: enters the scene 2 times\n",
      "bicycle 19109: enters the scene 2 times\n",
      "bicycle 20433: enters the scene 2 times\n",
      "bicycle 20433: Disregarding as the length 0.5397743760127954 is too short or rows too less (2)\n",
      "bicycle 21282: enters the scene 2 times\n",
      "car 26457: enters the scene 3 times\n",
      "car 26457: Disregarding as the length 0.018219621291342983 is too short or rows too less (17)\n",
      "car 26457: Disregarding as the length 0.004455670544376513 is too short or rows too less (6)\n",
      "bicycle 27143: enters the scene 2 times\n",
      "bicycle 27151: enters the scene 2 times\n",
      "bicycle 27461: enters the scene 2 times\n",
      "bicycle 27472: enters the scene 2 times\n",
      "bicycle 29282: enters the scene 2 times\n",
      "bicycle 29284: enters the scene 2 times\n",
      "bicycle 29502: enters the scene 2 times\n",
      "fast_pedestrian 18396: enters the scene 2 times\n",
      "fast_pedestrian 23240: enters the scene 2 times\n",
      "fast_pedestrian 23241: enters the scene 2 times\n",
      "fast_pedestrian 25152: enters the scene 2 times\n",
      "fast_pedestrian 25152: Disregarding as the length 0.7020245873899262 is too short or rows too less (2)\n",
      "fast_pedestrian 25183: enters the scene 2 times\n",
      "fast_pedestrian 25292: enters the scene 2 times\n",
      "fast_pedestrian 26292: enters the scene 2 times\n",
      "pedestrian 22190: enters the scene 2 times\n",
      "Clipping after trimming lost 9 pedestrian tracks: {2529600, 2529601, 2417100, 2417101, 22190, 2611800, 2611801, 2529500, 2529501}\n",
      "problematic tracks: defaultdict(<function SceneData.buildLocalInformation.<locals>.<lambda> at 0x00000295AFE9B4C0>, {'fast_pedestrian': {29442, 24198, 23305, 24331, 20116, 18072, 26265, 22554, 29081, 21276, 23452, 26269, 29208, 24228, 20264, 22059, 21549, 29486, 18353, 21426, 22194, 18100, 20404, 26292, 29106, 20281, 23482, 29115, 27324, 29116, 23488, 24128, 25152, 23365, 28230, 23240, 23241, 28233, 23115, 25292, 28367, 25168, 28368, 23387, 18396, 23389, 28252, 25183, 25311, 20193, 18020, 18148, 18408, 18409, 18026, 27114, 20461, 23413, 29174, 29175, 20346, 26110}})\n",
      "using range (0.0, 3.0)\n"
     ]
    },
    {
     "name": "stderr",
     "output_type": "stream",
     "text": [
      "clipping ped trajectories for scene # 31 with width offset 4.0: 100%|██████████████████| 21/21 [00:00<00:00, 52.11it/s]\n",
      "clipping other trajectories for scene # 31: 100%|████████████████████████████████████| 132/132 [00:02<00:00, 55.35it/s]\n",
      "INFO:root:Scene 31: transforming trajectories to scene coordinates\n",
      "INFO:root:Scene 31: adding dynamics\n",
      "INFO:root:Scene 31: trimming head and tail\n",
      "INFO:root:Scene 31: clipping trimmed data\n",
      "clipping ped trajectories for scene # 31 with width offset 0.0: 100%|█████████████████| 21/21 [00:00<00:00, 125.75it/s]\n",
      "INFO:root:Scene 31: building clipped track meta\n",
      "INFO:root:SceneData 40: moving outlier peds to others. We should only find outliers in the clipped trajectories?\n"
     ]
    },
    {
     "name": "stdout",
     "output_type": "stream",
     "text": [
      "fast_pedestrian 24128: moving 24128 to others as speed is unrealistic\n",
      "fast_pedestrian 29174: moving 29174 to others as speed is unrealistic\n",
      "pedestrian 24171: enters the scene 2 times\n",
      "bicycle 21282: enters the scene 2 times\n",
      "bicycle 27472: enters the scene 2 times\n",
      "pedestrian 29173: trajectory is too short (1) to be clipped\n",
      "pedestrian 29173: ERROR: No valid clipped trajectory\n",
      "Clipping after trimming lost 3 pedestrian tracks: {29173, 2417100, 2417101}\n",
      "problematic tracks: defaultdict(<function SceneData.buildLocalInformation.<locals>.<lambda> at 0x00000295AFE9B0D0>, {'fast_pedestrian': {24128, 29174}, 'pedestrian': {29173}})\n"
     ]
    },
    {
     "name": "stderr",
     "output_type": "stream",
     "text": [
      "INFO:root:Scene 40: clipping original data\n"
     ]
    },
    {
     "name": "stdout",
     "output_type": "stream",
     "text": [
      "using range (0.0, 3.0)\n"
     ]
    },
    {
     "name": "stderr",
     "output_type": "stream",
     "text": [
      "clipping ped trajectories for scene # 40 with width offset 4.0: 100%|████████████████| 185/185 [00:05<00:00, 31.44it/s]\n",
      "clipping other trajectories for scene # 40: 100%|██████████████████████████████████| 1164/1164 [00:30<00:00, 37.98it/s]\n",
      "INFO:root:Scene 40: transforming trajectories to scene coordinates\n",
      "INFO:root:Scene 40: adding dynamics\n",
      "INFO:root:Scene 40: trimming head and tail\n",
      "INFO:root:Scene 40: clipping trimmed data\n",
      "clipping ped trajectories for scene # 40 with width offset 0.0: 100%|███████████████| 185/185 [00:01<00:00, 105.34it/s]\n",
      "INFO:root:Scene 40: building clipped track meta\n"
     ]
    },
    {
     "name": "stdout",
     "output_type": "stream",
     "text": [
      "fast_pedestrian 19026: moving 19026 to others as speed is unrealistic\n",
      "fast_pedestrian 19039: moving 19039 to others as speed is unrealistic\n",
      "fast_pedestrian 19040: moving 19040 to others as speed is unrealistic\n",
      "fast_pedestrian 19049: moving 19049 to others as speed is unrealistic\n",
      "fast_pedestrian 19063: moving 19063 to others as speed is unrealistic\n",
      "fast_pedestrian 19288: moving 19288 to others as speed is unrealistic\n",
      "fast_pedestrian 20295: moving 20295 to others as speed is unrealistic\n",
      "fast_pedestrian 21225: moving 21225 to others as speed is unrealistic\n",
      "fast_pedestrian 22227: moving 22227 to others as speed is unrealistic\n",
      "fast_pedestrian 23300: moving 23300 to others as speed is unrealistic\n",
      "fast_pedestrian 25420: moving 25420 to others as speed is unrealistic\n",
      "fast_pedestrian 25471: moving 25471 to others as speed is unrealistic\n",
      "fast_pedestrian 26123: moving 26123 to others as speed is unrealistic\n",
      "fast_pedestrian 26323: moving 26323 to others as speed is unrealistic\n",
      "fast_pedestrian 27252: moving 27252 to others as speed is unrealistic\n",
      "fast_pedestrian 27363: moving 27363 to others as speed is unrealistic\n",
      "fast_pedestrian 27572: moving 27572 to others as speed is unrealistic\n",
      "fast_pedestrian 29238: moving 29238 to others as speed is unrealistic\n",
      "fast_pedestrian 29240: moving 29240 to others as speed is unrealistic\n",
      "fast_pedestrian 29285: moving 29285 to others as speed is unrealistic\n",
      "fast_pedestrian 29513: moving 29513 to others as speed is unrealistic\n",
      "fast_pedestrian 29575: moving 29575 to others as speed is unrealistic\n",
      "pedestrian 27530: enters the scene 2 times\n",
      "bicycle 20226: enters the scene 2 times\n",
      "bicycle 21221: enters the scene 2 times\n",
      "car 23148: enters the scene 2 times\n",
      "car 23282: enters the scene 3 times\n",
      "bicycle 28471: enters the scene 2 times\n",
      "bicycle 28481: enters the scene 2 times\n",
      "pedestrian 21250: enters the scene 2 times\n",
      "pedestrian 21250: Disregarding as the length 0.03677998640565195 is too short or rows too less (4)\n",
      "Clipping after trimming lost 2 pedestrian tracks: {2753000, 2753001}\n",
      "problematic tracks: defaultdict(<function SceneData.buildLocalInformation.<locals>.<lambda> at 0x00000295AFE9B670>, {'fast_pedestrian': {23300, 29575, 26123, 27572, 29238, 29240, 20295, 29513, 25420, 19026, 22227, 26323, 19288, 19039, 19040, 27363, 29285, 19049, 21225, 27252, 19063, 25471}})\n"
     ]
    }
   ],
   "source": [
    "# loc2data = loader.getLocationData(2, useSceneConfigToExtract=True)\n",
    "# loc2data.save(\"../data\") # whole thing as a dill object\n",
    "\n",
    "# loc2data.buildLocalInformationForScenes()\n",
    "\n",
    "from extractors.LocationData import LocationData\n",
    "loc2dataFromFile = LocationData.load(\"../data/location-2/lab\", \"2022-12-03-fps-5-before-local.dill\")\n",
    "loc2dataFromFile.buildLocalInformationForScenes()"
   ]
  },
  {
   "cell_type": "markdown",
   "id": "4f41675f-e51b-42c2-b804-e6e5cb981a9e",
   "metadata": {},
   "source": [
    "# Saving and Loading pre--processed Location data"
   ]
  },
  {
   "cell_type": "code",
   "execution_count": null,
   "id": "52797310-2b41-4ae4-a86a-3b42a85cc45f",
   "metadata": {},
   "outputs": [],
   "source": [
    "# loc2data.saveSceneDataOnly(\"../data\")\n",
    "# loc2data.saveCrossingDf(\"../data\")\n",
    "# loc2data.save(\"../data\") # whole thing as a dill object\n",
    "# loc2data.summary()"
   ]
  },
  {
   "cell_type": "code",
   "execution_count": 7,
   "id": "55ee7887-15b6-4e0d-9989-4a2546d53ba9",
   "metadata": {},
   "outputs": [
    {
     "data": {
      "text/plain": [
       "{'#original frameRate': 25.0,\n",
       " '#crossing trajectories': 1347,\n",
       " '#scene trajectories': 1469,\n",
       " 'scene#10 peds': 572,\n",
       " 'scene#10 others': 1668,\n",
       " 'scene#11 peds': 7,\n",
       " 'scene#11 others': 1212,\n",
       " 'scene#20 peds': 168,\n",
       " 'scene#20 others': 2003,\n",
       " 'scene#21 peds': 52,\n",
       " 'scene#21 others': 2302,\n",
       " 'scene#22 peds': 49,\n",
       " 'scene#22 others': 2221,\n",
       " 'scene#30 peds': 418,\n",
       " 'scene#30 others': 1467,\n",
       " 'scene#31 peds': 19,\n",
       " 'scene#31 others': 134,\n",
       " 'scene#40 peds': 184,\n",
       " 'scene#40 others': 1171}"
      ]
     },
     "execution_count": 7,
     "metadata": {},
     "output_type": "execute_result"
    }
   ],
   "source": [
    "loc2dataFromFile.saveCrossingDf(\"../data\")\n",
    "loc2dataFromFile.saveSceneDataOnly(\"../data\")\n",
    "loc2dataFromFile.save(\"../data\") # whole thing as a dill object\n",
    "loc2dataFromFile.summary()"
   ]
  },
  {
   "cell_type": "code",
   "execution_count": null,
   "id": "8a50c99c-a312-4842-a1a7-421be889d161",
   "metadata": {},
   "outputs": [],
   "source": [
    "from extractors.LocationData import LocationData\n",
    "loc2dataFromFile = LocationData.load(\"../data/location-2\", \"2022-11-12-all.dill\")"
   ]
  },
  {
   "cell_type": "markdown",
   "id": "d411d73a-cab9-4ce5-b65c-3e2e8d667f48",
   "metadata": {},
   "source": [
    "# Validate if there are trajectories not captured by the scene-based extractor"
   ]
  },
  {
   "cell_type": "code",
   "execution_count": null,
   "id": "8b1f350d-61b6-4da5-a067-331b46d41ec1",
   "metadata": {},
   "outputs": [],
   "source": [
    "from tools.TrajectoryUtils import TrajectoryUtils\n",
    "from tools.TrajectoryVisualizer import TrajectoryVisualizer\n",
    "import matplotlib.pyplot as plt\n",
    "import numpy as np\n",
    "visualizer = TrajectoryVisualizer(loader)"
   ]
  },
  {
   "cell_type": "code",
   "execution_count": null,
   "id": "2882b10d-be67-457a-8345-e8a3d60c0895",
   "metadata": {},
   "outputs": [],
   "source": [
    "# visualizer.showLocationCrossingTracks(loc2data)"
   ]
  },
  {
   "cell_type": "code",
   "execution_count": null,
   "id": "47205736-f6b3-4891-a4c6-aed93a23f2dc",
   "metadata": {},
   "outputs": [],
   "source": [
    "sceneData = loc2data.getSceneData(40, 10, 5, refresh=False)\n",
    "# sceneData = loc2data.getSceneData(10, 10, 5, refresh=False)\n",
    "# dir(sceneData)\n",
    "# sceneData.pedData\n",
    "# sceneDf = loc2data.getSceneCrossingDf('10', 0, 0)\n",
    "clippedPedDf = sceneData.getPedDataInSceneCoordinates()\n",
    "clippedPedDf.head()\n",
    "# sceneData.pedData.head()"
   ]
  },
  {
   "cell_type": "code",
   "execution_count": null,
   "id": "cce4e2c2-c1ee-4392-82d9-07277fad0811",
   "metadata": {},
   "outputs": [],
   "source": [
    "visualizer.showLocationSceneData(sceneData"
   ]
  },
  {
   "cell_type": "code",
   "execution_count": null,
   "id": "cd357aa1-943f-48a7-84e9-d99391926c34",
   "metadata": {},
   "outputs": [],
   "source": [
    "scene11Data = loc2data.getSceneData(11, 10, 6, refresh=False)\n",
    "visualizer.showLocationSceneData(scene11Data)"
   ]
  },
  {
   "cell_type": "code",
   "execution_count": null,
   "id": "a784fcf4-1577-426d-8883-97d6b9fa923a",
   "metadata": {},
   "outputs": [],
   "source": [
    "scene20Data = loc2data.getSceneData(20, 10, 6, refresh=False)\n",
    "visualizer.showLocationSceneData(scene20Data)\n",
    "\n",
    "scene21Data = loc2data.getSceneData(21, 20, 9, refresh=False)\n",
    "visualizer.showLocationSceneData(scene21Data, onlyClipped=False)\n",
    "\n",
    "scene22Data = loc2data.getSceneData(22, 10, 6, refresh=False)\n",
    "visualizer.showLocationSceneData(scene22Data)"
   ]
  },
  {
   "cell_type": "code",
   "execution_count": null,
   "id": "66d356c0-8a03-45ba-ad81-5dea15da7490",
   "metadata": {},
   "outputs": [],
   "source": [
    "scene30Data = loc2data.getSceneData(30, 10, 6, refresh=False)\n",
    "visualizer.showLocationSceneData(scene30Data)\n",
    "\n",
    "scene31Data = loc2data.getSceneData(31, 10, 6, refresh=False)\n",
    "visualizer.showLocationSceneData(scene31Data)"
   ]
  },
  {
   "cell_type": "code",
   "execution_count": null,
   "id": "d631aba1-4a18-4873-a481-e7054abd0188",
   "metadata": {},
   "outputs": [],
   "source": [
    "scene40Data = loc2data.getSceneData(40, 6, 6, refresh=False)\n",
    "visualizer.showLocationSceneData(scene40Data)"
   ]
  },
  {
   "cell_type": "code",
   "execution_count": null,
   "id": "cdfe7c0e-33f8-4cf5-a801-1a5d0b86c622",
   "metadata": {},
   "outputs": [],
   "source": []
  },
  {
   "cell_type": "code",
   "execution_count": null,
   "id": "5b0a432d-bad1-43a0-b20e-2912e79755b9",
   "metadata": {},
   "outputs": [],
   "source": []
  }
 ],
 "metadata": {
  "kernelspec": {
   "display_name": "Python 3 (ipykernel)",
   "language": "python",
   "name": "python3"
  },
  "language_info": {
   "codemirror_mode": {
    "name": "ipython",
    "version": 3
   },
   "file_extension": ".py",
   "mimetype": "text/x-python",
   "name": "python",
   "nbconvert_exporter": "python",
   "pygments_lexer": "ipython3",
   "version": "3.8.13"
  }
 },
 "nbformat": 4,
 "nbformat_minor": 5
}
