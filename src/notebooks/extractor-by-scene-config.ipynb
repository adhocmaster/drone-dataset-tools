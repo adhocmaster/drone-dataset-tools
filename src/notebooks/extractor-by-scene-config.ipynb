{
 "cells": [
  {
   "cell_type": "markdown",
   "id": "aa8afcf3-71d3-4f5b-859f-4c2a8d073a4b",
   "metadata": {},
   "source": [
    "# TO RUN\n",
    "1. Make sure you installed all the dependencies\n",
    "2. open **'init_notebook.py'** and change the **projectFolder** to the src folder of the repository.\n",
    "3. In the following cell change the dataDir to the data directory of the InD dataset"
   ]
  },
  {
   "cell_type": "code",
   "execution_count": 1,
   "id": "e082d014-dbbd-4d84-bce5-375f9e61a048",
   "metadata": {},
   "outputs": [],
   "source": [
    "dataDir = \"G:AV datasets/inD-dataset-v1.0/data/\"\n",
    "# dataDir = \"E:/Datasets/inD-dataset-v1.0/data/\""
   ]
  },
  {
   "cell_type": "code",
   "execution_count": 2,
   "id": "1c24ee51-496d-4595-b4f7-c6be77173c92",
   "metadata": {},
   "outputs": [
    {
     "name": "stdout",
     "output_type": "stream",
     "text": [
      "current working dirE:\\AV\\DataSetExploration\\drone-dataset-tools\\src\n"
     ]
    }
   ],
   "source": [
    "exec(open('init_notebook.py').read())"
   ]
  },
  {
   "cell_type": "code",
   "execution_count": 3,
   "id": "207f4347-296b-4bff-85e8-204926f80b9c",
   "metadata": {},
   "outputs": [],
   "source": [
    "%load_ext autoreload\n",
    "%autoreload 2\n"
   ]
  },
  {
   "cell_type": "code",
   "execution_count": 4,
   "id": "a3213af8-def8-4be8-bf6d-28c87a5d3e7b",
   "metadata": {},
   "outputs": [],
   "source": [
    "import logging\n",
    "logging.basicConfig(level=logging.INFO)\n",
    "from loguru import logger\n",
    "logger.remove()\n",
    "logger.add(sys.stdout, format=\"{level} {message}\", filter=\"my_module\", level=\"INFO\")\n",
    "\n",
    "from extractors.loader import Loader"
   ]
  },
  {
   "cell_type": "code",
   "execution_count": 5,
   "id": "b6022f87-be2d-4f75-b4e4-db808efb3ea5",
   "metadata": {},
   "outputs": [],
   "source": [
    "loader = Loader(dataDir, 'inD')"
   ]
  },
  {
   "cell_type": "markdown",
   "id": "e051d20b-5ba7-4210-9571-d2d2ad527422",
   "metadata": {},
   "source": [
    "# LocationData - for aggregation\n",
    "\n",
    "**get all the unique crossing ids**\n",
    "```\n",
    "loc2data = loader.getLocationData(2)\n",
    "loc2data.getUniqueCrossingIds()\n",
    "```\n",
    "**get all the crossing data by scene config**\n",
    "```\n",
    "loc2data = loader.getLocationData(2, useSceneConfigToExtract=True)\n",
    "crossingDf = loc2data.getCrossingDf()\n",
    "```"
   ]
  },
  {
   "cell_type": "markdown",
   "id": "68507775-3518-4d32-994a-46d8aaac2deb",
   "metadata": {},
   "source": [
    "## First we start from scratch. "
   ]
  },
  {
   "cell_type": "code",
   "execution_count": 8,
   "id": "964a7b5e-76b7-45d6-a2d8-04d8dc8f2c0d",
   "metadata": {},
   "outputs": [
    {
     "name": "stderr",
     "output_type": "stream",
     "text": [
      "INFO:root:recordingIds: [18]\n",
      "INFO:root:Downsampling recording 18 from 25.0 to 5\n",
      "downsampling: 100%|█████████████████████████████████████████████████████████| 625989/625989 [00:40<00:00, 15611.43it/s]\n",
      "recording-18-scene10-car-Ids: 100%|██████████████████████████████████████████████████| 181/181 [00:12<00:00, 14.79it/s]\n",
      "recording-18-scene10-bicycle-Ids: 100%|████████████████████████████████████████████████| 92/92 [00:02<00:00, 37.99it/s]\n",
      "recording-18-scene10-truck_bus-Ids: 0it [00:00, ?it/s]\n",
      "recording-18-scene11-car-Ids: 100%|██████████████████████████████████████████████████| 181/181 [00:12<00:00, 14.53it/s]\n",
      "recording-18-scene11-bicycle-Ids: 100%|████████████████████████████████████████████████| 92/92 [00:02<00:00, 35.33it/s]\n",
      "recording-18-scene11-truck_bus-Ids: 0it [00:00, ?it/s]\n",
      "recording-18-scene20-car-Ids: 100%|██████████████████████████████████████████████████| 181/181 [00:12<00:00, 14.13it/s]\n",
      "recording-18-scene20-bicycle-Ids: 100%|████████████████████████████████████████████████| 92/92 [00:02<00:00, 36.71it/s]\n",
      "recording-18-scene20-truck_bus-Ids: 0it [00:00, ?it/s]\n",
      "recording-18-scene21-car-Ids: 100%|██████████████████████████████████████████████████| 181/181 [00:12<00:00, 14.54it/s]\n",
      "recording-18-scene21-bicycle-Ids: 100%|████████████████████████████████████████████████| 92/92 [00:02<00:00, 37.44it/s]\n",
      "recording-18-scene21-truck_bus-Ids: 0it [00:00, ?it/s]\n",
      "recording-18-scene22-car-Ids: 100%|██████████████████████████████████████████████████| 181/181 [00:12<00:00, 15.00it/s]\n",
      "recording-18-scene22-bicycle-Ids: 100%|████████████████████████████████████████████████| 92/92 [00:02<00:00, 37.56it/s]\n",
      "recording-18-scene22-truck_bus-Ids: 0it [00:00, ?it/s]\n",
      "recording-18-scene30-car-Ids: 100%|██████████████████████████████████████████████████| 181/181 [00:12<00:00, 15.01it/s]\n",
      "recording-18-scene30-bicycle-Ids: 100%|████████████████████████████████████████████████| 92/92 [00:02<00:00, 37.66it/s]\n",
      "recording-18-scene30-truck_bus-Ids: 0it [00:00, ?it/s]\n",
      "recording-18-scene31-car-Ids: 100%|██████████████████████████████████████████████████| 181/181 [00:12<00:00, 14.47it/s]\n",
      "recording-18-scene31-bicycle-Ids: 100%|████████████████████████████████████████████████| 92/92 [00:02<00:00, 37.53it/s]\n",
      "recording-18-scene31-truck_bus-Ids: 0it [00:00, ?it/s]\n",
      "recording-18-scene40-car-Ids: 100%|██████████████████████████████████████████████████| 181/181 [00:12<00:00, 14.71it/s]\n",
      "recording-18-scene40-bicycle-Ids: 100%|████████████████████████████████████████████████| 92/92 [00:02<00:00, 37.80it/s]\n",
      "recording-18-scene40-truck_bus-Ids: 0it [00:00, ?it/s]\n",
      "other recording: 100%|██████████████████████████████████████████████████████████████████| 1/1 [01:59<00:00, 119.64s/it]\n",
      "recording-18-scene10-ped: 100%|██████████████████████████████████████████████████████| 154/154 [00:05<00:00, 29.36it/s]\n",
      "recording-18-scene11-ped: 100%|██████████████████████████████████████████████████████| 154/154 [00:05<00:00, 29.88it/s]\n",
      "recording-18-scene20-ped: 100%|██████████████████████████████████████████████████████| 154/154 [00:05<00:00, 29.63it/s]\n",
      "recording-18-scene21-ped: 100%|██████████████████████████████████████████████████████| 154/154 [00:05<00:00, 30.02it/s]\n",
      "recording-18-scene22-ped: 100%|██████████████████████████████████████████████████████| 154/154 [00:05<00:00, 29.78it/s]\n",
      "recording-18-scene30-ped: 100%|██████████████████████████████████████████████████████| 154/154 [00:05<00:00, 29.23it/s]\n",
      "recording-18-scene31-ped: 100%|██████████████████████████████████████████████████████| 154/154 [00:05<00:00, 29.57it/s]\n",
      "recording-18-scene40-ped: 100%|██████████████████████████████████████████████████████| 154/154 [00:05<00:00, 29.53it/s]\n",
      "crossing recording: 100%|████████████████████████████████████████████████████████████████| 1/1 [00:41<00:00, 41.74s/it]\n",
      "WARNING:root:location 2 do not have any pedestrian data for scene 11!\n",
      "INFO:root:SceneData 10: moving outlier peds to others. We should only find outliers in the clipped trajectories?\n",
      "INFO:root:Scene 10: clipping original data\n"
     ]
    },
    {
     "name": "stdout",
     "output_type": "stream",
     "text": [
      "using range (0.0, 3.0)\n"
     ]
    },
    {
     "name": "stderr",
     "output_type": "stream",
     "text": [
      "clipping ped trajectories for scene # 10 with width offset 4.0: 100%|██████████████████| 36/36 [00:01<00:00, 33.39it/s]\n",
      "clipping other trajectories for scene # 10: 100%|████████████████████████████████████| 119/119 [00:02<00:00, 44.63it/s]\n",
      "INFO:root:Scene 10: transforming trajectories to scene coordinates\n",
      "INFO:root:Scene 10: adding dynamics\n",
      "INFO:root:Scene 10: trimming head and tail\n",
      "INFO:root:Scene 10: clipping trimmed data\n",
      "clipping ped trajectories for scene # 10 with width offset 0.0: 100%|██████████████████| 36/36 [00:00<00:00, 91.84it/s]\n",
      "INFO:root:Scene 10: building clipped track meta\n",
      "INFO:root:SceneData 20: moving outlier peds to others. We should only find outliers in the clipped trajectories?\n",
      "INFO:root:Scene 20: clipping original data\n"
     ]
    },
    {
     "name": "stdout",
     "output_type": "stream",
     "text": [
      "fast_pedestrian 18156: moving 18156 to others as speed is unrealistic\n",
      "fast_pedestrian 18319: moving 18319 to others as speed is unrealistic\n",
      "fast_pedestrian 18322: moving 18322 to others as speed is unrealistic\n",
      "fast_pedestrian 18396: moving 18396 to others as speed is unrealistic\n",
      "fast_pedestrian 18408: moving 18408 to others as speed is unrealistic\n",
      "pedestrian 18388: enters the scene 2 times\n",
      "bicycle 18045: enters the scene 4 times\n",
      "bicycle 18045: Disregarding as the length 0.10516475122397448 is too short or rows too less (26)\n",
      "bicycle 18045: Disregarding as the length 0.098141296608507 is too short or rows too less (30)\n",
      "bicycle 18045: Disregarding as the length 0.08265402107580888 is too short or rows too less (3)\n",
      "fast_pedestrian 18408: enters the scene 3 times\n",
      "Clipping after trimming lost 2 pedestrian tracks: {1838800, 1838801}\n",
      "problematic tracks: defaultdict(<function SceneData.buildLocalInformation.<locals>.<lambda> at 0x000001B7A49541E0>, {'fast_pedestrian': {18408, 18156, 18319, 18322, 18396}})\n",
      "using range (0.0, 3.0)\n"
     ]
    },
    {
     "name": "stderr",
     "output_type": "stream",
     "text": [
      "clipping ped trajectories for scene # 20 with width offset 4.0: 100%|██████████████████| 13/13 [00:00<00:00, 30.44it/s]\n",
      "clipping other trajectories for scene # 20: 100%|████████████████████████████████████| 142/142 [00:03<00:00, 46.51it/s]\n",
      "INFO:root:Scene 20: transforming trajectories to scene coordinates\n",
      "INFO:root:Scene 20: adding dynamics\n",
      "INFO:root:Scene 20: trimming head and tail\n",
      "INFO:root:Scene 20: clipping trimmed data\n",
      "clipping ped trajectories for scene # 20 with width offset 0.0: 100%|██████████████████| 13/13 [00:00<00:00, 81.76it/s]\n",
      "INFO:root:Scene 20: building clipped track meta\n",
      "INFO:root:SceneData 21: moving outlier peds to others. We should only find outliers in the clipped trajectories?\n",
      "INFO:root:Scene 21: clipping original data\n"
     ]
    },
    {
     "name": "stdout",
     "output_type": "stream",
     "text": [
      "\n",
      "problematic tracks: defaultdict(<function SceneData.buildLocalInformation.<locals>.<lambda> at 0x000001B7C08D2D08>, {'fast_pedestrian': set()})\n",
      "using range (0.0, 3.0)\n"
     ]
    },
    {
     "name": "stderr",
     "output_type": "stream",
     "text": [
      "clipping ped trajectories for scene # 21 with width offset 4.0: 100%|████████████████████| 5/5 [00:00<00:00, 24.63it/s]\n",
      "clipping other trajectories for scene # 21: 100%|████████████████████████████████████| 153/153 [00:03<00:00, 47.70it/s]\n",
      "INFO:root:Scene 21: transforming trajectories to scene coordinates\n",
      "INFO:root:Scene 21: adding dynamics\n",
      "INFO:root:Scene 21: trimming head and tail\n",
      "INFO:root:Scene 21: clipping trimmed data\n",
      "clipping ped trajectories for scene # 21 with width offset 0.0: 100%|███████████████████| 5/5 [00:00<00:00, 125.01it/s]\n",
      "INFO:root:Scene 21: building clipped track meta\n",
      "INFO:root:SceneData 22: moving outlier peds to others. We should only find outliers in the clipped trajectories?\n",
      "INFO:root:Scene 22: clipping original data\n"
     ]
    },
    {
     "name": "stdout",
     "output_type": "stream",
     "text": [
      "fast_pedestrian 18379: moving 18379 to others as speed is unrealistic\n",
      "pedestrian 18074: enters the scene 2 times\n",
      "pedestrian 18116: enters the scene 2 times\n",
      "Clipping after trimming lost 4 pedestrian tracks: {1807400, 1807401, 1811601, 1811600}\n",
      "problematic tracks: defaultdict(<function SceneData.buildLocalInformation.<locals>.<lambda> at 0x000001B7C08A3D08>, {'fast_pedestrian': {18379}})\n",
      "using range (0.0, 3.0)\n"
     ]
    },
    {
     "name": "stderr",
     "output_type": "stream",
     "text": [
      "clipping ped trajectories for scene # 22 with width offset 4.0: 100%|████████████████████| 4/4 [00:00<00:00, 31.24it/s]\n",
      "clipping other trajectories for scene # 22: 100%|████████████████████████████████████| 150/150 [00:03<00:00, 49.41it/s]\n",
      "INFO:root:Scene 22: transforming trajectories to scene coordinates\n",
      "INFO:root:Scene 22: adding dynamics\n",
      "INFO:root:Scene 22: trimming head and tail\n",
      "INFO:root:Scene 22: clipping trimmed data\n",
      "clipping ped trajectories for scene # 22 with width offset 0.0: 100%|████████████████████| 4/4 [00:00<00:00, 56.33it/s]\n",
      "INFO:root:Scene 22: building clipped track meta\n",
      "INFO:root:SceneData 30: moving outlier peds to others. We should only find outliers in the clipped trajectories?\n",
      "INFO:root:Scene 30: clipping original data\n"
     ]
    },
    {
     "name": "stdout",
     "output_type": "stream",
     "text": [
      "\n",
      "problematic tracks: defaultdict(<function SceneData.buildLocalInformation.<locals>.<lambda> at 0x000001B7C079F488>, {'fast_pedestrian': set()})\n",
      "using range (0.0, 3.0)\n"
     ]
    },
    {
     "name": "stderr",
     "output_type": "stream",
     "text": [
      "clipping ped trajectories for scene # 30 with width offset 4.0: 100%|██████████████████| 36/36 [00:01<00:00, 27.50it/s]\n",
      "clipping other trajectories for scene # 30: 100%|████████████████████████████████████| 108/108 [00:02<00:00, 46.75it/s]\n",
      "INFO:root:Scene 30: transforming trajectories to scene coordinates\n",
      "INFO:root:Scene 30: adding dynamics\n",
      "INFO:root:Scene 30: trimming head and tail\n",
      "INFO:root:Scene 30: clipping trimmed data\n",
      "clipping ped trajectories for scene # 30 with width offset 0.0: 100%|██████████████████| 36/36 [00:00<00:00, 86.32it/s]\n",
      "INFO:root:Scene 30: building clipped track meta\n",
      "INFO:root:SceneData 31: moving outlier peds to others. We should only find outliers in the clipped trajectories?\n",
      "INFO:root:Scene 31: clipping original data\n"
     ]
    },
    {
     "name": "stdout",
     "output_type": "stream",
     "text": [
      "fast_pedestrian 18020: moving 18020 to others as speed is unrealistic\n",
      "fast_pedestrian 18026: moving 18026 to others as speed is unrealistic\n",
      "fast_pedestrian 18072: moving 18072 to others as speed is unrealistic\n",
      "fast_pedestrian 18100: moving 18100 to others as speed is unrealistic\n",
      "fast_pedestrian 18148: moving 18148 to others as speed is unrealistic\n",
      "fast_pedestrian 18353: moving 18353 to others as speed is unrealistic\n",
      "fast_pedestrian 18396: moving 18396 to others as speed is unrealistic\n",
      "fast_pedestrian 18408: moving 18408 to others as speed is unrealistic\n",
      "fast_pedestrian 18409: moving 18409 to others as speed is unrealistic\n",
      "bicycle 18358: enters the scene 2 times\n",
      "fast_pedestrian 18396: enters the scene 2 times\n",
      "problematic tracks: defaultdict(<function SceneData.buildLocalInformation.<locals>.<lambda> at 0x000001B7C07DCA60>, {'fast_pedestrian': {18020, 18148, 18408, 18409, 18026, 18353, 18100, 18072, 18396}})\n",
      "using range (0.0, 3.0)\n"
     ]
    },
    {
     "name": "stderr",
     "output_type": "stream",
     "text": [
      "clipping ped trajectories for scene # 31 with width offset 4.0: 100%|████████████████████| 1/1 [00:00<00:00, 41.72it/s]\n",
      "clipping other trajectories for scene # 31: 100%|████████████████████████████████████████| 7/7 [00:00<00:00, 58.33it/s]\n",
      "INFO:root:Scene 31: transforming trajectories to scene coordinates\n",
      "INFO:root:Scene 31: adding dynamics\n",
      "INFO:root:Scene 31: trimming head and tail\n",
      "INFO:root:Scene 31: clipping trimmed data\n",
      "clipping ped trajectories for scene # 31 with width offset 0.0: 100%|███████████████████| 1/1 [00:00<00:00, 124.87it/s]\n",
      "INFO:root:Scene 31: building clipped track meta\n",
      "INFO:root:SceneData 40: moving outlier peds to others. We should only find outliers in the clipped trajectories?\n",
      "INFO:root:Scene 40: clipping original data\n"
     ]
    },
    {
     "name": "stdout",
     "output_type": "stream",
     "text": [
      "\n",
      "problematic tracks: defaultdict(<function SceneData.buildLocalInformation.<locals>.<lambda> at 0x000001B7A6DD3AE8>, {'fast_pedestrian': set()})\n",
      "using range (0.0, 3.0)\n"
     ]
    },
    {
     "name": "stderr",
     "output_type": "stream",
     "text": [
      "clipping ped trajectories for scene # 40 with width offset 4.0: 100%|████████████████████| 8/8 [00:00<00:00, 24.84it/s]\n",
      "clipping other trajectories for scene # 40: 100%|██████████████████████████████████████| 68/68 [00:01<00:00, 63.02it/s]\n",
      "INFO:root:Scene 40: transforming trajectories to scene coordinates\n",
      "INFO:root:Scene 40: adding dynamics\n",
      "INFO:root:Scene 40: trimming head and tail\n",
      "INFO:root:Scene 40: clipping trimmed data\n",
      "clipping ped trajectories for scene # 40 with width offset 0.0: 100%|████████████████████| 8/8 [00:00<00:00, 95.22it/s]\n",
      "INFO:root:Scene 40: building clipped track meta\n"
     ]
    },
    {
     "name": "stdout",
     "output_type": "stream",
     "text": [
      "\n",
      "problematic tracks: defaultdict(<function SceneData.buildLocalInformation.<locals>.<lambda> at 0x000001B7C07DC950>, {'fast_pedestrian': set()})\n"
     ]
    }
   ],
   "source": [
    "loc2data = loader.getLocationData(2, useSceneConfigToExtract=True, recordingIds=[18])\n",
    "loc2data.save(\"../data\") # whole thing as a dill object\n",
    "\n",
    "loc2data.buildLocalInformationForScenes()\n",
    "\n"
   ]
  },
  {
   "cell_type": "markdown",
   "id": "4f41675f-e51b-42c2-b804-e6e5cb981a9e",
   "metadata": {},
   "source": [
    "# Saving and Loading pre--processed Location data"
   ]
  },
  {
   "cell_type": "code",
   "execution_count": 9,
   "id": "52797310-2b41-4ae4-a86a-3b42a85cc45f",
   "metadata": {},
   "outputs": [
    {
     "name": "stderr",
     "output_type": "stream",
     "text": [
      "WARNING:root:No scene data for 11\n"
     ]
    },
    {
     "ename": "AttributeError",
     "evalue": "'NoneType' object has no attribute 'clippedPedSize'",
     "output_type": "error",
     "traceback": [
      "\u001b[1;31m---------------------------------------------------------------------------\u001b[0m",
      "\u001b[1;31mAttributeError\u001b[0m                            Traceback (most recent call last)",
      "\u001b[1;32m<ipython-input-9-8f4ae793c113>\u001b[0m in \u001b[0;36m<module>\u001b[1;34m\u001b[0m\n\u001b[0;32m      2\u001b[0m \u001b[0mloc2data\u001b[0m\u001b[1;33m.\u001b[0m\u001b[0msaveCrossingDf\u001b[0m\u001b[1;33m(\u001b[0m\u001b[1;34m\"../data\"\u001b[0m\u001b[1;33m)\u001b[0m\u001b[1;33m\u001b[0m\u001b[1;33m\u001b[0m\u001b[0m\n\u001b[0;32m      3\u001b[0m \u001b[0mloc2data\u001b[0m\u001b[1;33m.\u001b[0m\u001b[0msave\u001b[0m\u001b[1;33m(\u001b[0m\u001b[1;34m\"../data\"\u001b[0m\u001b[1;33m)\u001b[0m \u001b[1;31m# whole thing as a dill object\u001b[0m\u001b[1;33m\u001b[0m\u001b[1;33m\u001b[0m\u001b[0m\n\u001b[1;32m----> 4\u001b[1;33m \u001b[0mloc2data\u001b[0m\u001b[1;33m.\u001b[0m\u001b[0msummary\u001b[0m\u001b[1;33m(\u001b[0m\u001b[1;33m)\u001b[0m\u001b[1;33m\u001b[0m\u001b[1;33m\u001b[0m\u001b[0m\n\u001b[0m",
      "\u001b[1;32mE:\\AV\\DataSetExploration\\drone-dataset-tools\\src\\extractors\\LocationData.py\u001b[0m in \u001b[0;36msummary\u001b[1;34m(self)\u001b[0m\n\u001b[0;32m    118\u001b[0m             \u001b[1;34m\"#original frameRate\"\u001b[0m\u001b[1;33m:\u001b[0m \u001b[0mself\u001b[0m\u001b[1;33m.\u001b[0m\u001b[0mframeRate\u001b[0m\u001b[1;33m,\u001b[0m\u001b[1;33m\u001b[0m\u001b[1;33m\u001b[0m\u001b[0m\n\u001b[0;32m    119\u001b[0m             \u001b[1;34m\"#crossing trajectories\"\u001b[0m\u001b[1;33m:\u001b[0m \u001b[0mlen\u001b[0m\u001b[1;33m(\u001b[0m\u001b[0mself\u001b[0m\u001b[1;33m.\u001b[0m\u001b[0mgetUniqueCrossingIds\u001b[0m\u001b[1;33m(\u001b[0m\u001b[1;33m)\u001b[0m\u001b[1;33m)\u001b[0m\u001b[1;33m,\u001b[0m\u001b[1;33m\u001b[0m\u001b[1;33m\u001b[0m\u001b[0m\n\u001b[1;32m--> 120\u001b[1;33m             \u001b[1;34m\"#scene trajectories\"\u001b[0m\u001b[1;33m:\u001b[0m \u001b[0mfunctools\u001b[0m\u001b[1;33m.\u001b[0m\u001b[0mreduce\u001b[0m\u001b[1;33m(\u001b[0m\u001b[1;32mlambda\u001b[0m \u001b[0macc\u001b[0m\u001b[1;33m,\u001b[0m \u001b[0mnew\u001b[0m\u001b[1;33m:\u001b[0m \u001b[0macc\u001b[0m \u001b[1;33m+\u001b[0m \u001b[0mnew\u001b[0m\u001b[1;33m,\u001b[0m \u001b[1;33m[\u001b[0m\u001b[0mSceneData\u001b[0m\u001b[1;33m.\u001b[0m\u001b[0mclippedPedSize\u001b[0m\u001b[1;33m(\u001b[0m\u001b[1;33m)\u001b[0m \u001b[1;32mfor\u001b[0m \u001b[0mSceneData\u001b[0m \u001b[1;32min\u001b[0m \u001b[0mself\u001b[0m\u001b[1;33m.\u001b[0m\u001b[0m_sceneData\u001b[0m\u001b[1;33m.\u001b[0m\u001b[0mvalues\u001b[0m\u001b[1;33m(\u001b[0m\u001b[1;33m)\u001b[0m\u001b[1;33m]\u001b[0m\u001b[1;33m)\u001b[0m\u001b[1;33m\u001b[0m\u001b[1;33m\u001b[0m\u001b[0m\n\u001b[0m\u001b[0;32m    121\u001b[0m         }\n\u001b[0;32m    122\u001b[0m \u001b[1;33m\u001b[0m\u001b[0m\n",
      "\u001b[1;32mE:\\AV\\DataSetExploration\\drone-dataset-tools\\src\\extractors\\LocationData.py\u001b[0m in \u001b[0;36m<listcomp>\u001b[1;34m(.0)\u001b[0m\n\u001b[0;32m    118\u001b[0m             \u001b[1;34m\"#original frameRate\"\u001b[0m\u001b[1;33m:\u001b[0m \u001b[0mself\u001b[0m\u001b[1;33m.\u001b[0m\u001b[0mframeRate\u001b[0m\u001b[1;33m,\u001b[0m\u001b[1;33m\u001b[0m\u001b[1;33m\u001b[0m\u001b[0m\n\u001b[0;32m    119\u001b[0m             \u001b[1;34m\"#crossing trajectories\"\u001b[0m\u001b[1;33m:\u001b[0m \u001b[0mlen\u001b[0m\u001b[1;33m(\u001b[0m\u001b[0mself\u001b[0m\u001b[1;33m.\u001b[0m\u001b[0mgetUniqueCrossingIds\u001b[0m\u001b[1;33m(\u001b[0m\u001b[1;33m)\u001b[0m\u001b[1;33m)\u001b[0m\u001b[1;33m,\u001b[0m\u001b[1;33m\u001b[0m\u001b[1;33m\u001b[0m\u001b[0m\n\u001b[1;32m--> 120\u001b[1;33m             \u001b[1;34m\"#scene trajectories\"\u001b[0m\u001b[1;33m:\u001b[0m \u001b[0mfunctools\u001b[0m\u001b[1;33m.\u001b[0m\u001b[0mreduce\u001b[0m\u001b[1;33m(\u001b[0m\u001b[1;32mlambda\u001b[0m \u001b[0macc\u001b[0m\u001b[1;33m,\u001b[0m \u001b[0mnew\u001b[0m\u001b[1;33m:\u001b[0m \u001b[0macc\u001b[0m \u001b[1;33m+\u001b[0m \u001b[0mnew\u001b[0m\u001b[1;33m,\u001b[0m \u001b[1;33m[\u001b[0m\u001b[0mSceneData\u001b[0m\u001b[1;33m.\u001b[0m\u001b[0mclippedPedSize\u001b[0m\u001b[1;33m(\u001b[0m\u001b[1;33m)\u001b[0m \u001b[1;32mfor\u001b[0m \u001b[0mSceneData\u001b[0m \u001b[1;32min\u001b[0m \u001b[0mself\u001b[0m\u001b[1;33m.\u001b[0m\u001b[0m_sceneData\u001b[0m\u001b[1;33m.\u001b[0m\u001b[0mvalues\u001b[0m\u001b[1;33m(\u001b[0m\u001b[1;33m)\u001b[0m\u001b[1;33m]\u001b[0m\u001b[1;33m)\u001b[0m\u001b[1;33m\u001b[0m\u001b[1;33m\u001b[0m\u001b[0m\n\u001b[0m\u001b[0;32m    121\u001b[0m         }\n\u001b[0;32m    122\u001b[0m \u001b[1;33m\u001b[0m\u001b[0m\n",
      "\u001b[1;31mAttributeError\u001b[0m: 'NoneType' object has no attribute 'clippedPedSize'"
     ]
    }
   ],
   "source": [
    "loc2data.saveSceneDataOnly(\"../data\")\n",
    "loc2data.saveCrossingDf(\"../data\")\n",
    "loc2data.save(\"../data\") # whole thing as a dill object\n",
    "loc2data.summary()"
   ]
  },
  {
   "cell_type": "code",
   "execution_count": null,
   "id": "2a79ef8b-6b2a-4adc-a7a4-aa3bcfd81da2",
   "metadata": {},
   "outputs": [],
   "source": [
    "from extractors.LocationData import LocationData\n",
    "loc2dataFromFile = LocationData.load(\"../data/location-2/lab\", \"2022-12-03-fps-5-before-local.dill\")\n",
    "loc2dataFromFile.buildLocalInformationForScenes()"
   ]
  },
  {
   "cell_type": "code",
   "execution_count": 7,
   "id": "55ee7887-15b6-4e0d-9989-4a2546d53ba9",
   "metadata": {},
   "outputs": [
    {
     "data": {
      "text/plain": [
       "{'#original frameRate': 25.0,\n",
       " '#crossing trajectories': 1347,\n",
       " '#scene trajectories': 1469,\n",
       " 'scene#10 peds': 572,\n",
       " 'scene#10 others': 1668,\n",
       " 'scene#11 peds': 7,\n",
       " 'scene#11 others': 1212,\n",
       " 'scene#20 peds': 168,\n",
       " 'scene#20 others': 2003,\n",
       " 'scene#21 peds': 52,\n",
       " 'scene#21 others': 2302,\n",
       " 'scene#22 peds': 49,\n",
       " 'scene#22 others': 2221,\n",
       " 'scene#30 peds': 418,\n",
       " 'scene#30 others': 1467,\n",
       " 'scene#31 peds': 19,\n",
       " 'scene#31 others': 134,\n",
       " 'scene#40 peds': 184,\n",
       " 'scene#40 others': 1171}"
      ]
     },
     "execution_count": 7,
     "metadata": {},
     "output_type": "execute_result"
    }
   ],
   "source": [
    "loc2dataFromFile.saveCrossingDf(\"../data\")\n",
    "loc2dataFromFile.saveSceneDataOnly(\"../data\")\n",
    "loc2dataFromFile.save(\"../data\") # whole thing as a dill object\n",
    "loc2dataFromFile.summary()"
   ]
  },
  {
   "cell_type": "code",
   "execution_count": null,
   "id": "8a50c99c-a312-4842-a1a7-421be889d161",
   "metadata": {},
   "outputs": [],
   "source": [
    "from extractors.LocationData import LocationData\n",
    "loc2dataFromFile = LocationData.load(\"../data/location-2\", \"2022-11-12-all.dill\")"
   ]
  },
  {
   "cell_type": "markdown",
   "id": "d411d73a-cab9-4ce5-b65c-3e2e8d667f48",
   "metadata": {},
   "source": [
    "# Validate if there are trajectories not captured by the scene-based extractor"
   ]
  },
  {
   "cell_type": "code",
   "execution_count": null,
   "id": "8b1f350d-61b6-4da5-a067-331b46d41ec1",
   "metadata": {},
   "outputs": [],
   "source": [
    "from tools.TrajectoryUtils import TrajectoryUtils\n",
    "from tools.TrajectoryVisualizer import TrajectoryVisualizer\n",
    "import matplotlib.pyplot as plt\n",
    "import numpy as np\n",
    "visualizer = TrajectoryVisualizer(loader)"
   ]
  },
  {
   "cell_type": "code",
   "execution_count": null,
   "id": "2882b10d-be67-457a-8345-e8a3d60c0895",
   "metadata": {},
   "outputs": [],
   "source": [
    "# visualizer.showLocationCrossingTracks(loc2data)"
   ]
  },
  {
   "cell_type": "code",
   "execution_count": null,
   "id": "47205736-f6b3-4891-a4c6-aed93a23f2dc",
   "metadata": {},
   "outputs": [],
   "source": [
    "sceneData = loc2data.getSceneData(40, 10, 5, refresh=False)\n",
    "# sceneData = loc2data.getSceneData(10, 10, 5, refresh=False)\n",
    "# dir(sceneData)\n",
    "# sceneData.pedData\n",
    "# sceneDf = loc2data.getSceneCrossingDf('10', 0, 0)\n",
    "clippedPedDf = sceneData.getPedDataInSceneCoordinates()\n",
    "clippedPedDf.head()\n",
    "# sceneData.pedData.head()"
   ]
  },
  {
   "cell_type": "code",
   "execution_count": null,
   "id": "cce4e2c2-c1ee-4392-82d9-07277fad0811",
   "metadata": {},
   "outputs": [],
   "source": [
    "visualizer.showLocationSceneData(sceneData"
   ]
  },
  {
   "cell_type": "code",
   "execution_count": null,
   "id": "cd357aa1-943f-48a7-84e9-d99391926c34",
   "metadata": {},
   "outputs": [],
   "source": [
    "scene11Data = loc2data.getSceneData(11, 10, 6, refresh=False)\n",
    "visualizer.showLocationSceneData(scene11Data)"
   ]
  },
  {
   "cell_type": "code",
   "execution_count": null,
   "id": "a784fcf4-1577-426d-8883-97d6b9fa923a",
   "metadata": {},
   "outputs": [],
   "source": [
    "scene20Data = loc2data.getSceneData(20, 10, 6, refresh=False)\n",
    "visualizer.showLocationSceneData(scene20Data)\n",
    "\n",
    "scene21Data = loc2data.getSceneData(21, 20, 9, refresh=False)\n",
    "visualizer.showLocationSceneData(scene21Data, onlyClipped=False)\n",
    "\n",
    "scene22Data = loc2data.getSceneData(22, 10, 6, refresh=False)\n",
    "visualizer.showLocationSceneData(scene22Data)"
   ]
  },
  {
   "cell_type": "code",
   "execution_count": null,
   "id": "66d356c0-8a03-45ba-ad81-5dea15da7490",
   "metadata": {},
   "outputs": [],
   "source": [
    "scene30Data = loc2data.getSceneData(30, 10, 6, refresh=False)\n",
    "visualizer.showLocationSceneData(scene30Data)\n",
    "\n",
    "scene31Data = loc2data.getSceneData(31, 10, 6, refresh=False)\n",
    "visualizer.showLocationSceneData(scene31Data)"
   ]
  },
  {
   "cell_type": "code",
   "execution_count": null,
   "id": "d631aba1-4a18-4873-a481-e7054abd0188",
   "metadata": {},
   "outputs": [],
   "source": [
    "scene40Data = loc2data.getSceneData(40, 6, 6, refresh=False)\n",
    "visualizer.showLocationSceneData(scene40Data)"
   ]
  },
  {
   "cell_type": "code",
   "execution_count": null,
   "id": "cdfe7c0e-33f8-4cf5-a801-1a5d0b86c622",
   "metadata": {},
   "outputs": [],
   "source": []
  },
  {
   "cell_type": "code",
   "execution_count": null,
   "id": "5b0a432d-bad1-43a0-b20e-2912e79755b9",
   "metadata": {},
   "outputs": [],
   "source": []
  }
 ],
 "metadata": {
  "kernelspec": {
   "display_name": "Python 3",
   "language": "python",
   "name": "python3"
  },
  "language_info": {
   "codemirror_mode": {
    "name": "ipython",
    "version": 3
   },
   "file_extension": ".py",
   "mimetype": "text/x-python",
   "name": "python",
   "nbconvert_exporter": "python",
   "pygments_lexer": "ipython3",
   "version": "3.6.15"
  }
 },
 "nbformat": 4,
 "nbformat_minor": 5
}
