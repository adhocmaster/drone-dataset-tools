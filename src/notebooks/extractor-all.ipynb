{
 "cells": [
  {
   "cell_type": "markdown",
   "id": "f4cba2d4-281e-451a-b0fe-ae106bcb7ec5",
   "metadata": {},
   "source": [
    "# TO RUN\n",
    "1. Make sure you installed all the dependencies\n",
    "2. open **'init_notebook.py'** and change the **projectFolder** to the src folder of the repository.\n",
    "3. In the following cell change the dataDir to the data directory of the InD dataset"
   ]
  },
  {
   "cell_type": "code",
   "execution_count": null,
   "id": "ccd1abe4-0ab0-404a-89d5-b778da562773",
   "metadata": {},
   "outputs": [],
   "source": [
    "# dataDir = \"/Users/zarifikram/Documents/Repos/drone-dataset-tools/data/ind\"\n",
    "dataDir = \"E:/Datasets/inD-dataset-v1.0/data/\"\n",
    "# dataDir = \"G:AV datasets/inD-dataset-v1.0/data\""
   ]
  },
  {
   "cell_type": "code",
   "execution_count": null,
   "id": "346be685-b46b-47d3-ba67-40cf576ed1ed",
   "metadata": {},
   "outputs": [],
   "source": [
    "exec(open('init_notebook.py').read())"
   ]
  },
  {
   "cell_type": "code",
   "execution_count": null,
   "id": "e4319bc4-ce3a-4391-83d2-af836fbb91ef",
   "metadata": {},
   "outputs": [],
   "source": [
    "%load_ext autoreload\n",
    "%autoreload 2\n"
   ]
  },
  {
   "cell_type": "code",
   "execution_count": null,
   "id": "c65a06a8-7370-4251-bd54-b651558ebbcd",
   "metadata": {},
   "outputs": [],
   "source": [
    "import logging\n",
    "logging.basicConfig(level=logging.INFO)\n",
    "from loguru import logger\n",
    "logger.remove()\n",
    "logger.add(sys.stdout, format=\"{level} {message}\", filter=\"my_module\", level=\"INFO\")\n",
    "from joblib import Parallel, delayed\n",
    "from extractors.loader import Loader\n",
    "from extractors.LocationData import LocationData"
   ]
  },
  {
   "cell_type": "code",
   "execution_count": null,
   "id": "f407f16c-b564-4441-b7f9-2ac0c211d62d",
   "metadata": {},
   "outputs": [],
   "source": [
    "loader = Loader(dataDir, 'inD')\n",
    "loader.locationToRecordingIds"
   ]
  },
  {
   "cell_type": "markdown",
   "id": "20968705-eb5f-4af1-bbbc-cc17c19228e6",
   "metadata": {},
   "source": [
    "# Step 1: Load all the location data, downsample them, extract SceneData and save location data\n"
   ]
  },
  {
   "cell_type": "code",
   "execution_count": null,
   "id": "7b387fb7-e382-4425-b531-606a32d1ddf4",
   "metadata": {},
   "outputs": [],
   "source": [
    "# No Job Lib Version\n",
    "# locations = [1, 2, 3, 4]\n",
    "# locDataList = []\n",
    "\n",
    "# for loc in locations:\n",
    "#     locData = loader.getLocationData(loc, useSceneConfigToExtract=True, downSampleFps=10)\n",
    "#     locData.save(\"../data\") # whole thing as a dill object\n",
    "    # locDataList.append(locData)"
   ]
  },
  {
   "cell_type": "code",
   "execution_count": null,
   "id": "f19fda1a-010b-4e7d-9b76-008c0b5bfc67",
   "metadata": {},
   "outputs": [],
   "source": [
    "# Job lib version\n",
    "# locations = [1, 2, 3, 4]\n",
    "# locDataList = Parallel(n_jobs=4)(\n",
    "#         delayed(loader.getLocationData)(loc, useSceneConfigToExtract=True, downSampleFps=10) for loc in locations\n",
    "# )\n",
    "for locData in locDataList:\n",
    "    locData.save(\"../data\")"
   ]
  },
  {
   "cell_type": "markdown",
   "id": "de480156-f57f-4eb5-91c3-550607c6146a",
   "metadata": {},
   "source": [
    "# Step 2: Clip Trajectories, find fast pedestrians, build local trajectories"
   ]
  },
  {
   "cell_type": "code",
   "execution_count": null,
   "id": "738fbcb1-2d28-45ba-b91d-461bb1b13699",
   "metadata": {},
   "outputs": [],
   "source": [
    "# we can also load loc data using this: \n",
    "# loc2dataFromFile = LocationData.load(\"../data/location-2\", \"2023-03-25-fps-5-all.dill\")\n",
    "# No Job Lib Version\n",
    "for locDataFromFile in locDataList:\n",
    "    locDataFromFile.buildLocalInformationForScenes()\n",
    "    "
   ]
  },
  {
   "cell_type": "code",
   "execution_count": null,
   "id": "c9178d27-e42e-41db-b8de-f1ec6cfce779",
   "metadata": {},
   "outputs": [],
   "source": [
    "# # Job lib version\n",
    "# _ = Parallel(n_jobs=4)(\n",
    "#         delayed(locData.buildLocalInformationForScenes)() for locData in locDataList\n",
    "# )\n",
    "# for locData in locDataList:\n",
    "#     locData.saveCrossingDf(\"../data\")\n",
    "#     locData.saveSceneDataOnly(\"../data\")\n",
    "#     locData.save(\"../data\") # whole thing as a dill object"
   ]
  },
  {
   "cell_type": "code",
   "execution_count": 32,
   "id": "7f5673d0-f1b3-4372-af53-a79031b00bdf",
   "metadata": {},
   "outputs": [
    {
     "name": "stdout",
     "output_type": "stream",
     "text": [
      "1\n",
      "2\n",
      "3\n",
      "4\n"
     ]
    }
   ],
   "source": [
    "for locData in locDataList:\n",
    "    locData.saveCrossingDf(\"../data\")\n",
    "    # locData.saveSceneDataOnly(\"../data\")\n",
    "    # locData.save(\"../data\") # whole thing as a dill object"
   ]
  },
  {
   "cell_type": "markdown",
   "id": "9a3410c6-2ebf-4103-b1d0-c57e68ec803a",
   "metadata": {},
   "source": [
    "## Step 3: Analyze problem tracks"
   ]
  },
  {
   "cell_type": "code",
   "execution_count": 42,
   "id": "f6fe1d3d-28a7-49ba-aed9-de09e71810db",
   "metadata": {},
   "outputs": [],
   "source": [
    "from tools.TrajectoryUtils import TrajectoryUtils\n",
    "from tools.TrajectoryVisualizer import TrajectoryVisualizer\n",
    "import matplotlib.pyplot as plt\n",
    "import numpy as np\n",
    "visualizer = TrajectoryVisualizer(loader)"
   ]
  },
  {
   "cell_type": "code",
   "execution_count": null,
   "id": "d2bd73e8-1c55-4be4-96cc-7b653fdfa6db",
   "metadata": {},
   "outputs": [],
   "source": [
    "for locData in locDataList:\n",
    "    sceneIds = locData.getSceneIds()\n",
    "    # print(sceneIds)\n",
    "    if locData.locationId == 2:\n",
    "        sceneIds.remove('140') # somethig is fishy\n",
    "        \n",
    "    # print(sceneIds)\n",
    "    for sceneId in sceneIds:\n",
    "        \n",
    "        sceneData = locData.getSceneData(sceneId) # loads precomputed\n",
    "#         print(\"scene id\", sceneId)\n",
    "#         print(sceneData.warnings)\n",
    "#         print(sceneData.problematicIds)\n",
    "        visualizer.showSceneProblems(sceneData)"
   ]
  },
  {
   "cell_type": "code",
   "execution_count": null,
   "id": "65a77424-4a7b-4540-89d1-87b33d93279b",
   "metadata": {},
   "outputs": [],
   "source": [
    "pedDf.describe()"
   ]
  },
  {
   "cell_type": "code",
   "execution_count": null,
   "id": "d17ee969-02c7-413d-b051-84db8ffb4259",
   "metadata": {},
   "outputs": [],
   "source": [
    "loc2Data = locDataList[1]\n",
    "loc2Data.locationId"
   ]
  },
  {
   "cell_type": "code",
   "execution_count": null,
   "id": "2c26d083-fb29-4dbb-ba8c-09515de1619e",
   "metadata": {},
   "outputs": [
    {
     "name": "stderr",
     "output_type": "stream",
     "text": [
      "INFO:root:SceneData 240: moving outlier peds to others. We should only find outliers in the clipped trajectories?\n",
      "INFO:root:Scene 240: clipping original data\n"
     ]
    },
    {
     "name": "stdout",
     "output_type": "stream",
     "text": [
      "using range (0.0, 3.0)\n"
     ]
    },
    {
     "name": "stderr",
     "output_type": "stream",
     "text": [
      "clipping ped trajectories for scene # 240 with width offset 4.0: 100%|███████████████| 185/185 [00:13<00:00, 13.70it/s]\n",
      "clipping other trajectories for scene # 240:  99%|████████████████████████████████▊| 1160/1167 [01:10<00:00, 11.62it/s]"
     ]
    }
   ],
   "source": [
    "sceneData= loc2Data.getSceneData(240)\n",
    "sceneData.buildLocalInformation(loc2Data.transformer, loc2Data.cleaner, force=True)\n",
    "# pedDf = scene210.getPedDataInSceneCoordinates()\n",
    "# pedDf.describe()"
   ]
  },
  {
   "cell_type": "code",
   "execution_count": 58,
   "id": "8de475f9-701b-4b0d-862a-8a203e0c518c",
   "metadata": {},
   "outputs": [
    {
     "data": {
      "text/plain": [
       "defaultdict(<function extractors.SceneData.SceneData.buildLocalInformation.<locals>.<lambda>()>,\n",
       "            {'fast_pedestrian': {19026,\n",
       "              19039,\n",
       "              19040,\n",
       "              19049,\n",
       "              19063,\n",
       "              19288,\n",
       "              20295,\n",
       "              21225,\n",
       "              22227,\n",
       "              23300,\n",
       "              25420,\n",
       "              25471,\n",
       "              26123,\n",
       "              26323,\n",
       "              27252,\n",
       "              27363,\n",
       "              27572,\n",
       "              29238,\n",
       "              29240,\n",
       "              29285,\n",
       "              29513,\n",
       "              29575}})"
      ]
     },
     "execution_count": 58,
     "metadata": {},
     "output_type": "execute_result"
    }
   ],
   "source": [
    "sceneData.problematicIds"
   ]
  },
  {
   "cell_type": "code",
   "execution_count": 54,
   "id": "0f960024-c76b-4280-b1f0-14f9b9b4d9da",
   "metadata": {},
   "outputs": [
    {
     "data": {
      "text/plain": [
       "0.0"
      ]
     },
     "execution_count": 54,
     "metadata": {},
     "output_type": "execute_result"
    }
   ],
   "source": [
    "loc2Data.cleaner.minSpeed"
   ]
  },
  {
   "cell_type": "code",
   "execution_count": 55,
   "id": "d4e14a20-89b9-429c-9aa8-c54b85c73a75",
   "metadata": {},
   "outputs": [
    {
     "data": {
      "text/plain": [
       "3.0"
      ]
     },
     "execution_count": 55,
     "metadata": {},
     "output_type": "execute_result"
    }
   ],
   "source": [
    "loc2Data.cleaner.maxSpeed"
   ]
  },
  {
   "cell_type": "code",
   "execution_count": null,
   "id": "e41ff02a-13c8-4fff-8051-d88d845529db",
   "metadata": {},
   "outputs": [],
   "source": []
  }
 ],
 "metadata": {
  "kernelspec": {
   "display_name": "Python 3 (ipykernel)",
   "language": "python",
   "name": "python3"
  },
  "language_info": {
   "codemirror_mode": {
    "name": "ipython",
    "version": 3
   },
   "file_extension": ".py",
   "mimetype": "text/x-python",
   "name": "python",
   "nbconvert_exporter": "python",
   "pygments_lexer": "ipython3",
   "version": "3.8.13"
  }
 },
 "nbformat": 4,
 "nbformat_minor": 5
}
