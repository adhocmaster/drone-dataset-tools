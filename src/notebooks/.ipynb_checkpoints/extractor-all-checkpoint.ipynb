{
 "cells": [
  {
   "cell_type": "markdown",
   "id": "f4cba2d4-281e-451a-b0fe-ae106bcb7ec5",
   "metadata": {},
   "source": [
    "# TO RUN\n",
    "1. Make sure you installed all the dependencies\n",
    "2. open **'init_notebook.py'** and change the **projectFolder** to the src folder of the repository.\n",
    "3. In the following cell change the dataDir to the data directory of the InD dataset"
   ]
  },
  {
   "cell_type": "code",
   "execution_count": 2,
   "id": "ccd1abe4-0ab0-404a-89d5-b778da562773",
   "metadata": {},
   "outputs": [],
   "source": [
    "# dataDir = \"/Users/zarifikram/Documents/Repos/drone-dataset-tools/data/ind\"\n",
    "dataDir = \"E:/Datasets/inD-dataset-v1.0/data/\"\n",
    "# dataDir = \"G:AV datasets/inD-dataset-v1.0/data\""
   ]
  },
  {
   "cell_type": "code",
   "execution_count": 3,
   "id": "346be685-b46b-47d3-ba67-40cf576ed1ed",
   "metadata": {},
   "outputs": [
    {
     "name": "stdout",
     "output_type": "stream",
     "text": [
      "current working dirD:\\AV\\DataSetExploration\\drone-dataset-tools\\src\n"
     ]
    }
   ],
   "source": [
    "exec(open('init_notebook.py').read())"
   ]
  },
  {
   "cell_type": "code",
   "execution_count": 4,
   "id": "e4319bc4-ce3a-4391-83d2-af836fbb91ef",
   "metadata": {},
   "outputs": [],
   "source": [
    "%load_ext autoreload\n",
    "%autoreload 2\n"
   ]
  },
  {
   "cell_type": "code",
   "execution_count": 7,
   "id": "c65a06a8-7370-4251-bd54-b651558ebbcd",
   "metadata": {},
   "outputs": [],
   "source": [
    "import logging\n",
    "logging.basicConfig(level=logging.INFO)\n",
    "from loguru import logger\n",
    "logger.remove()\n",
    "logger.add(sys.stdout, format=\"{level} {message}\", filter=\"my_module\", level=\"INFO\")\n",
    "\n",
    "from extractors.loader import Loader\n",
    "from extractors.LocationData import LocationData"
   ]
  },
  {
   "cell_type": "code",
   "execution_count": 6,
   "id": "f407f16c-b564-4441-b7f9-2ac0c211d62d",
   "metadata": {},
   "outputs": [],
   "source": [
    "loader = Loader(dataDir, 'inD')"
   ]
  },
  {
   "cell_type": "markdown",
   "id": "20968705-eb5f-4af1-bbbc-cc17c19228e6",
   "metadata": {},
   "source": [
    "# Step 1: Load all the location data, downsample them, extract SceneData and save location data\n"
   ]
  },
  {
   "cell_type": "code",
   "execution_count": null,
   "id": "7b387fb7-e382-4425-b531-606a32d1ddf4",
   "metadata": {},
   "outputs": [],
   "source": [
    "locations = [1, 2, 3, 4]\n",
    "for loc in locations:\n",
    "    downSampled = loader.getLocationData(2, useSceneConfigToExtract=True, downSampleFps=10)"
   ]
  }
 ],
 "metadata": {
  "kernelspec": {
   "display_name": "Python 3 (ipykernel)",
   "language": "python",
   "name": "python3"
  },
  "language_info": {
   "codemirror_mode": {
    "name": "ipython",
    "version": 3
   },
   "file_extension": ".py",
   "mimetype": "text/x-python",
   "name": "python",
   "nbconvert_exporter": "python",
   "pygments_lexer": "ipython3",
   "version": "3.8.13"
  }
 },
 "nbformat": 4,
 "nbformat_minor": 5
}
