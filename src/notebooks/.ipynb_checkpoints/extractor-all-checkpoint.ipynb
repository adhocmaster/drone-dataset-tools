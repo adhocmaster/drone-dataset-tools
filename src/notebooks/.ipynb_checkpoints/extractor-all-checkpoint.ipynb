{
 "cells": [
  {
   "cell_type": "markdown",
   "id": "f4cba2d4-281e-451a-b0fe-ae106bcb7ec5",
   "metadata": {},
   "source": [
    "# TO RUN\n",
    "1. Make sure you installed all the dependencies\n",
    "2. open **'init_notebook.py'** and change the **projectFolder** to the src folder of the repository.\n",
    "3. In the following cell change the dataDir to the data directory of the InD dataset"
   ]
  },
  {
   "cell_type": "code",
   "execution_count": 1,
   "id": "ccd1abe4-0ab0-404a-89d5-b778da562773",
   "metadata": {},
   "outputs": [],
   "source": [
    "# dataDir = \"/Users/zarifikram/Documents/Repos/drone-dataset-tools/data/ind\"\n",
    "dataDir = \"E:/Datasets/inD-dataset-v1.0/data/\"\n",
    "# dataDir = \"G:AV datasets/inD-dataset-v1.0/data\""
   ]
  },
  {
   "cell_type": "code",
   "execution_count": 2,
   "id": "346be685-b46b-47d3-ba67-40cf576ed1ed",
   "metadata": {},
   "outputs": [
    {
     "name": "stdout",
     "output_type": "stream",
     "text": [
      "current working dirD:\\AV\\DataSetExploration\\drone-dataset-tools\\src\n"
     ]
    }
   ],
   "source": [
    "exec(open('init_notebook.py').read())"
   ]
  },
  {
   "cell_type": "code",
   "execution_count": 3,
   "id": "e4319bc4-ce3a-4391-83d2-af836fbb91ef",
   "metadata": {},
   "outputs": [],
   "source": [
    "%load_ext autoreload\n",
    "%autoreload 2\n"
   ]
  },
  {
   "cell_type": "code",
   "execution_count": 4,
   "id": "c65a06a8-7370-4251-bd54-b651558ebbcd",
   "metadata": {},
   "outputs": [],
   "source": [
    "import logging\n",
    "logging.basicConfig(level=logging.INFO)\n",
    "from loguru import logger\n",
    "logger.remove()\n",
    "logger.add(sys.stdout, format=\"{level} {message}\", filter=\"my_module\", level=\"INFO\")\n",
    "from joblib import Parallel, delayed\n",
    "from extractors.loader import Loader\n",
    "from extractors.LocationData import LocationData"
   ]
  },
  {
   "cell_type": "code",
   "execution_count": 5,
   "id": "f407f16c-b564-4441-b7f9-2ac0c211d62d",
   "metadata": {},
   "outputs": [
    {
     "data": {
      "text/plain": [
       "{4: [0, 1, 2, 3, 4, 5, 6],\n",
       " 1: [7, 8, 9, 10, 11, 12, 13, 14, 15, 16, 17],\n",
       " 2: [18, 19, 20, 21, 22, 23, 24, 25, 26, 27, 28, 29],\n",
       " 3: [30, 31, 32]}"
      ]
     },
     "execution_count": 5,
     "metadata": {},
     "output_type": "execute_result"
    }
   ],
   "source": [
    "loader = Loader(dataDir, 'inD')\n",
    "loader.locationToRecordingIds"
   ]
  },
  {
   "cell_type": "markdown",
   "id": "20968705-eb5f-4af1-bbbc-cc17c19228e6",
   "metadata": {},
   "source": [
    "# Step 1: Load all the location data, downsample them, extract SceneData and save location data\n"
   ]
  },
  {
   "cell_type": "code",
   "execution_count": 6,
   "id": "7b387fb7-e382-4425-b531-606a32d1ddf4",
   "metadata": {},
   "outputs": [],
   "source": [
    "# No Job Lib Version\n",
    "# locations = [1, 2, 3, 4]\n",
    "# locDataList = []\n",
    "\n",
    "# for loc in locations:\n",
    "#     locData = loader.getLocationData(loc, useSceneConfigToExtract=True, downSampleFps=10)\n",
    "#     locData.save(\"../data\") # whole thing as a dill object\n",
    "    # locDataList.append(locData)"
   ]
  },
  {
   "cell_type": "code",
   "execution_count": 13,
   "id": "f19fda1a-010b-4e7d-9b76-008c0b5bfc67",
   "metadata": {},
   "outputs": [],
   "source": [
    "# Job lib version\n",
    "# locations = [1, 2, 3, 4]\n",
    "# locDataList = Parallel(n_jobs=4)(\n",
    "#         delayed(loader.getLocationData)(loc, useSceneConfigToExtract=True, downSampleFps=10) for loc in locations\n",
    "# )\n",
    "for locData in locDataList:\n",
    "    locData.save(\"../data\")"
   ]
  },
  {
   "cell_type": "markdown",
   "id": "de480156-f57f-4eb5-91c3-550607c6146a",
   "metadata": {},
   "source": [
    "# Step 2: Clip Trajectories, find fast pedestrians, build local trajectories"
   ]
  },
  {
   "cell_type": "code",
   "execution_count": null,
   "id": "738fbcb1-2d28-45ba-b91d-461bb1b13699",
   "metadata": {},
   "outputs": [],
   "source": [
    "# # we can also load loc data using this: \n",
    "# # loc2dataFromFile = LocationData.load(\"../data/location-2\", \"2023-03-25-fps-5-all.dill\")\n",
    "# # No Job Lib Version\n",
    "# for locDataFromFile in locDataList:\n",
    "#     locDataFromFile.buildLocalInformationForScenes()\n",
    "#     locDataFromFile.saveCrossingDf(\"../data\")\n",
    "#     locDataFromFile.saveSceneDataOnly(\"../data\")\n",
    "#     locDataFromFile.save(\"../data\") # whole thing as a dill object"
   ]
  },
  {
   "cell_type": "code",
   "execution_count": null,
   "id": "c9178d27-e42e-41db-b8de-f1ec6cfce779",
   "metadata": {},
   "outputs": [],
   "source": [
    "# Job lib version\n",
    "_ = Parallel(n_jobs=4)(\n",
    "        delayed(locData.buildLocalInformationForScenes)() for locData in locDataList\n",
    ")\n",
    "for locData in locDataList:\n",
    "    locData.saveCrossingDf(\"../data\")\n",
    "    locData.saveSceneDataOnly(\"../data\")\n",
    "    locData.save(\"../data\") # whole thing as a dill object"
   ]
  }
 ],
 "metadata": {
  "kernelspec": {
   "display_name": "Python 3 (ipykernel)",
   "language": "python",
   "name": "python3"
  },
  "language_info": {
   "codemirror_mode": {
    "name": "ipython",
    "version": 3
   },
   "file_extension": ".py",
   "mimetype": "text/x-python",
   "name": "python",
   "nbconvert_exporter": "python",
   "pygments_lexer": "ipython3",
   "version": "3.8.13"
  }
 },
 "nbformat": 4,
 "nbformat_minor": 5
}
