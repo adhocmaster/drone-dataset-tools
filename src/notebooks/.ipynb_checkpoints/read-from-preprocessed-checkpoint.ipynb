{
 "cells": [
  {
   "cell_type": "markdown",
   "id": "caf531b4-85d6-49bb-8296-a97e23df44f5",
   "metadata": {},
   "source": [
    "# TO RUN\n",
    "1. Make sure you installed all the dependencies\n",
    "2. open **'init_notebook.py'** and change the **projectFolder** to the src folder of the repository.\n",
    "3. In the following cell change the dataDir to the data directory of the InD dataset"
   ]
  },
  {
   "cell_type": "code",
   "execution_count": 1,
   "id": "29eff41d-ec06-49c6-a107-e1c5dd7a37de",
   "metadata": {},
   "outputs": [
    {
     "name": "stdout",
     "output_type": "stream",
     "text": [
      "current working dirE:\\AV\\DataSetExploration\\drone-dataset-tools\\src\n"
     ]
    }
   ],
   "source": [
    "exec(open('init_notebook.py').read())"
   ]
  },
  {
   "cell_type": "code",
   "execution_count": 2,
   "id": "c417175d-b6d5-4633-8432-75420b2c7b14",
   "metadata": {},
   "outputs": [],
   "source": [
    "%load_ext autoreload\n",
    "%autoreload 2"
   ]
  },
  {
   "cell_type": "code",
   "execution_count": 3,
   "id": "e4f86248-ca8a-4612-8f70-dc0130b56e0a",
   "metadata": {},
   "outputs": [
    {
     "data": {
      "text/plain": [
       "1"
      ]
     },
     "execution_count": 3,
     "metadata": {},
     "output_type": "execute_result"
    }
   ],
   "source": [
    "import logging\n",
    "logging.basicConfig(level=logging.INFO)\n",
    "from loguru import logger\n",
    "logger.remove()\n",
    "logger.add(sys.stdout, format=\"{level} {message}\", filter=\"my_module\", level=\"INFO\")\n"
   ]
  },
  {
   "cell_type": "markdown",
   "id": "93f6074d-a0dd-4952-8895-c219d8b6c90b",
   "metadata": {},
   "source": [
    "# We have three types of preprocessed data:\n",
    "1. Location (includes everything and is a large pickled file)\n",
    "2. crossing csv (includes only pedestrians)\n",
    "3. other csv (includes all other trajectories)\n",
    "4. SceneData (seperate pickled file for each scene of a location)\n",
    "\n",
    "## 1. Preprocessed Location Data"
   ]
  },
  {
   "cell_type": "code",
   "execution_count": 4,
   "id": "bcacf8da-fceb-4d62-9fb4-9c1d789d1d89",
   "metadata": {},
   "outputs": [
    {
     "ename": "FileNotFoundError",
     "evalue": "[Errno 2] No such file or directory: '../data/location-2\\\\2022-11-13-fps-2.5-all.dill'",
     "output_type": "error",
     "traceback": [
      "\u001b[1;31m---------------------------------------------------------------------------\u001b[0m",
      "\u001b[1;31mFileNotFoundError\u001b[0m                         Traceback (most recent call last)",
      "\u001b[1;32m<ipython-input-4-ea0433bc5cbe>\u001b[0m in \u001b[0;36m<module>\u001b[1;34m\u001b[0m\n\u001b[0;32m      1\u001b[0m \u001b[1;32mfrom\u001b[0m \u001b[0mextractors\u001b[0m\u001b[1;33m.\u001b[0m\u001b[0mLocationData\u001b[0m \u001b[1;32mimport\u001b[0m \u001b[0mLocationData\u001b[0m\u001b[1;33m\u001b[0m\u001b[1;33m\u001b[0m\u001b[0m\n\u001b[1;32m----> 2\u001b[1;33m \u001b[0mloc2dataFromFile\u001b[0m \u001b[1;33m=\u001b[0m \u001b[0mLocationData\u001b[0m\u001b[1;33m.\u001b[0m\u001b[0mload\u001b[0m\u001b[1;33m(\u001b[0m\u001b[1;34m\"../data/location-2\"\u001b[0m\u001b[1;33m,\u001b[0m \u001b[1;34m\"2022-11-13-fps-2.5-all.dill\"\u001b[0m\u001b[1;33m)\u001b[0m\u001b[1;33m\u001b[0m\u001b[1;33m\u001b[0m\u001b[0m\n\u001b[0m",
      "\u001b[1;32mE:\\AV\\DataSetExploration\\drone-dataset-tools\\src\\extractors\\LocationData.py\u001b[0m in \u001b[0;36mload\u001b[1;34m(locDir, fname)\u001b[0m\n\u001b[0;32m    485\u001b[0m         \u001b[0mfpath\u001b[0m \u001b[1;33m=\u001b[0m \u001b[0mos\u001b[0m\u001b[1;33m.\u001b[0m\u001b[0mpath\u001b[0m\u001b[1;33m.\u001b[0m\u001b[0mjoin\u001b[0m\u001b[1;33m(\u001b[0m\u001b[0mlocDir\u001b[0m\u001b[1;33m,\u001b[0m \u001b[0mfname\u001b[0m\u001b[1;33m)\u001b[0m\u001b[1;33m\u001b[0m\u001b[1;33m\u001b[0m\u001b[0m\n\u001b[0;32m    486\u001b[0m         \u001b[0mlogger\u001b[0m\u001b[1;33m.\u001b[0m\u001b[0minfo\u001b[0m\u001b[1;33m(\u001b[0m\u001b[1;34mf\"reading from {fpath}\"\u001b[0m\u001b[1;33m)\u001b[0m\u001b[1;33m\u001b[0m\u001b[1;33m\u001b[0m\u001b[0m\n\u001b[1;32m--> 487\u001b[1;33m         \u001b[1;32mwith\u001b[0m \u001b[0mopen\u001b[0m\u001b[1;33m(\u001b[0m\u001b[0mfpath\u001b[0m\u001b[1;33m,\u001b[0m \u001b[1;34m\"rb\"\u001b[0m\u001b[1;33m)\u001b[0m \u001b[1;32mas\u001b[0m \u001b[0mfp\u001b[0m\u001b[1;33m:\u001b[0m\u001b[1;33m\u001b[0m\u001b[1;33m\u001b[0m\u001b[0m\n\u001b[0m\u001b[0;32m    488\u001b[0m             \u001b[1;32mreturn\u001b[0m \u001b[0mload\u001b[0m\u001b[1;33m(\u001b[0m\u001b[0mfp\u001b[0m\u001b[1;33m)\u001b[0m\u001b[1;33m\u001b[0m\u001b[1;33m\u001b[0m\u001b[0m\n\u001b[0;32m    489\u001b[0m     \u001b[1;31m# endregion\u001b[0m\u001b[1;33m\u001b[0m\u001b[1;33m\u001b[0m\u001b[1;33m\u001b[0m\u001b[0m\n",
      "\u001b[1;31mFileNotFoundError\u001b[0m: [Errno 2] No such file or directory: '../data/location-2\\\\2022-11-13-fps-2.5-all.dill'"
     ]
    }
   ],
   "source": [
    "from extractors.LocationData import LocationData\n",
    "loc2dataFromFile = LocationData.load(\"../data/location-2\", \"2022-11-13-fps-2.5-all.dill\")"
   ]
  },
  {
   "cell_type": "code",
   "execution_count": 5,
   "id": "2add8984-6c12-49a0-a2eb-c90badf475f4",
   "metadata": {},
   "outputs": [],
   "source": [
    "from tools.TrajectoryUtils import TrajectoryUtils\n",
    "from tools.TrajectoryVisualizer import TrajectoryVisualizer\n",
    "import matplotlib.pyplot as plt\n",
    "import numpy as np\n",
    "visualizer = TrajectoryVisualizer(None)"
   ]
  },
  {
   "cell_type": "code",
   "execution_count": 6,
   "id": "2220aed9-7cca-4967-b283-b3c5952c20d2",
   "metadata": {},
   "outputs": [
    {
     "ename": "NameError",
     "evalue": "name 'loc2dataFromFile' is not defined",
     "output_type": "error",
     "traceback": [
      "\u001b[1;31m---------------------------------------------------------------------------\u001b[0m",
      "\u001b[1;31mNameError\u001b[0m                                 Traceback (most recent call last)",
      "\u001b[1;32m<ipython-input-6-299ac31488ab>\u001b[0m in \u001b[0;36m<module>\u001b[1;34m\u001b[0m\n\u001b[1;32m----> 1\u001b[1;33m \u001b[0msceneData\u001b[0m \u001b[1;33m=\u001b[0m \u001b[0mloc2dataFromFile\u001b[0m\u001b[1;33m.\u001b[0m\u001b[0mgetSceneData\u001b[0m\u001b[1;33m(\u001b[0m\u001b[1;36m10\u001b[0m\u001b[1;33m,\u001b[0m \u001b[1;36m10\u001b[0m\u001b[1;33m,\u001b[0m \u001b[1;36m5\u001b[0m\u001b[1;33m,\u001b[0m \u001b[0mrefresh\u001b[0m\u001b[1;33m=\u001b[0m\u001b[1;32mFalse\u001b[0m\u001b[1;33m)\u001b[0m\u001b[1;33m\u001b[0m\u001b[1;33m\u001b[0m\u001b[0m\n\u001b[0m\u001b[0;32m      2\u001b[0m \u001b[0mvisualizer\u001b[0m\u001b[1;33m.\u001b[0m\u001b[0mshowLocationSceneData\u001b[0m\u001b[1;33m(\u001b[0m\u001b[0msceneData\u001b[0m\u001b[1;33m,\u001b[0m \u001b[0monlyClipped\u001b[0m\u001b[1;33m=\u001b[0m\u001b[1;32mTrue\u001b[0m\u001b[1;33m,\u001b[0m \u001b[0mshowOthers\u001b[0m\u001b[1;33m=\u001b[0m\u001b[1;32mTrue\u001b[0m\u001b[1;33m)\u001b[0m\u001b[1;33m\u001b[0m\u001b[1;33m\u001b[0m\u001b[0m\n",
      "\u001b[1;31mNameError\u001b[0m: name 'loc2dataFromFile' is not defined"
     ]
    }
   ],
   "source": [
    "sceneData = loc2dataFromFile.getSceneData(10, 10, 5, refresh=False)\n",
    "visualizer.showLocationSceneData(sceneData, onlyClipped=True, showOthers=True)"
   ]
  },
  {
   "cell_type": "code",
   "execution_count": 7,
   "id": "9d9659dc-e8ce-418d-b7f7-d1289d8acd7d",
   "metadata": {},
   "outputs": [
    {
     "data": {
      "text/html": [
       "<div>\n",
       "<style scoped>\n",
       "    .dataframe tbody tr th:only-of-type {\n",
       "        vertical-align: middle;\n",
       "    }\n",
       "\n",
       "    .dataframe tbody tr th {\n",
       "        vertical-align: top;\n",
       "    }\n",
       "\n",
       "    .dataframe thead th {\n",
       "        text-align: right;\n",
       "    }\n",
       "</style>\n",
       "<table border=\"1\" class=\"dataframe\">\n",
       "  <thead>\n",
       "    <tr style=\"text-align: right;\">\n",
       "      <th></th>\n",
       "      <th>index</th>\n",
       "      <th>recordingId</th>\n",
       "      <th>trackId</th>\n",
       "      <th>frame</th>\n",
       "      <th>trackLifetime</th>\n",
       "      <th>xCenter</th>\n",
       "      <th>yCenter</th>\n",
       "      <th>heading</th>\n",
       "      <th>width</th>\n",
       "      <th>length</th>\n",
       "      <th>xVelocity</th>\n",
       "      <th>yVelocity</th>\n",
       "      <th>xAcceleration</th>\n",
       "      <th>yAcceleration</th>\n",
       "      <th>uniqueTrackId</th>\n",
       "      <th>sceneId</th>\n",
       "      <th>roadWidth</th>\n",
       "      <th>class</th>\n",
       "      <th>sceneX</th>\n",
       "      <th>sceneY</th>\n",
       "    </tr>\n",
       "  </thead>\n",
       "  <tbody>\n",
       "    <tr>\n",
       "      <th>0</th>\n",
       "      <td>0</td>\n",
       "      <td>18</td>\n",
       "      <td>0</td>\n",
       "      <td>0</td>\n",
       "      <td>0</td>\n",
       "      <td>84.30107</td>\n",
       "      <td>-22.02852</td>\n",
       "      <td>194.94744</td>\n",
       "      <td>1.85331</td>\n",
       "      <td>4.41079</td>\n",
       "      <td>-7.91662</td>\n",
       "      <td>-1.91685</td>\n",
       "      <td>-0.07138</td>\n",
       "      <td>-0.14320</td>\n",
       "      <td>18000</td>\n",
       "      <td>10</td>\n",
       "      <td>5.0</td>\n",
       "      <td>car</td>\n",
       "      <td>23.608273</td>\n",
       "      <td>1.027644</td>\n",
       "    </tr>\n",
       "    <tr>\n",
       "      <th>1</th>\n",
       "      <td>1</td>\n",
       "      <td>18</td>\n",
       "      <td>0</td>\n",
       "      <td>10</td>\n",
       "      <td>10</td>\n",
       "      <td>81.09533</td>\n",
       "      <td>-22.81543</td>\n",
       "      <td>194.71567</td>\n",
       "      <td>1.85331</td>\n",
       "      <td>4.41079</td>\n",
       "      <td>-7.92551</td>\n",
       "      <td>-1.97634</td>\n",
       "      <td>0.36129</td>\n",
       "      <td>-0.02402</td>\n",
       "      <td>18000</td>\n",
       "      <td>10</td>\n",
       "      <td>5.0</td>\n",
       "      <td>car</td>\n",
       "      <td>20.308687</td>\n",
       "      <td>0.934230</td>\n",
       "    </tr>\n",
       "    <tr>\n",
       "      <th>2</th>\n",
       "      <td>2</td>\n",
       "      <td>18</td>\n",
       "      <td>0</td>\n",
       "      <td>20</td>\n",
       "      <td>20</td>\n",
       "      <td>77.96728</td>\n",
       "      <td>-23.60885</td>\n",
       "      <td>194.48424</td>\n",
       "      <td>1.85331</td>\n",
       "      <td>4.41079</td>\n",
       "      <td>-7.66106</td>\n",
       "      <td>-1.94926</td>\n",
       "      <td>0.64991</td>\n",
       "      <td>0.19578</td>\n",
       "      <td>18000</td>\n",
       "      <td>10</td>\n",
       "      <td>5.0</td>\n",
       "      <td>car</td>\n",
       "      <td>17.083672</td>\n",
       "      <td>0.818075</td>\n",
       "    </tr>\n",
       "    <tr>\n",
       "      <th>3</th>\n",
       "      <td>3</td>\n",
       "      <td>18</td>\n",
       "      <td>0</td>\n",
       "      <td>30</td>\n",
       "      <td>30</td>\n",
       "      <td>74.97266</td>\n",
       "      <td>-24.36569</td>\n",
       "      <td>194.61795</td>\n",
       "      <td>1.85331</td>\n",
       "      <td>4.41079</td>\n",
       "      <td>-7.40085</td>\n",
       "      <td>-1.82952</td>\n",
       "      <td>0.58965</td>\n",
       "      <td>0.32040</td>\n",
       "      <td>18000</td>\n",
       "      <td>10</td>\n",
       "      <td>5.0</td>\n",
       "      <td>car</td>\n",
       "      <td>13.996800</td>\n",
       "      <td>0.709549</td>\n",
       "    </tr>\n",
       "    <tr>\n",
       "      <th>4</th>\n",
       "      <td>4</td>\n",
       "      <td>18</td>\n",
       "      <td>0</td>\n",
       "      <td>40</td>\n",
       "      <td>40</td>\n",
       "      <td>72.05502</td>\n",
       "      <td>-25.06752</td>\n",
       "      <td>194.03321</td>\n",
       "      <td>1.85331</td>\n",
       "      <td>4.41079</td>\n",
       "      <td>-7.18048</td>\n",
       "      <td>-1.68891</td>\n",
       "      <td>0.62627</td>\n",
       "      <td>0.35153</td>\n",
       "      <td>18000</td>\n",
       "      <td>10</td>\n",
       "      <td>5.0</td>\n",
       "      <td>car</td>\n",
       "      <td>10.996775</td>\n",
       "      <td>0.638568</td>\n",
       "    </tr>\n",
       "  </tbody>\n",
       "</table>\n",
       "</div>"
      ],
      "text/plain": [
       "   index  recordingId  trackId  frame  trackLifetime   xCenter   yCenter  \\\n",
       "0      0           18        0      0              0  84.30107 -22.02852   \n",
       "1      1           18        0     10             10  81.09533 -22.81543   \n",
       "2      2           18        0     20             20  77.96728 -23.60885   \n",
       "3      3           18        0     30             30  74.97266 -24.36569   \n",
       "4      4           18        0     40             40  72.05502 -25.06752   \n",
       "\n",
       "     heading    width   length  xVelocity  yVelocity  xAcceleration  \\\n",
       "0  194.94744  1.85331  4.41079   -7.91662   -1.91685       -0.07138   \n",
       "1  194.71567  1.85331  4.41079   -7.92551   -1.97634        0.36129   \n",
       "2  194.48424  1.85331  4.41079   -7.66106   -1.94926        0.64991   \n",
       "3  194.61795  1.85331  4.41079   -7.40085   -1.82952        0.58965   \n",
       "4  194.03321  1.85331  4.41079   -7.18048   -1.68891        0.62627   \n",
       "\n",
       "   yAcceleration  uniqueTrackId sceneId  roadWidth class     sceneX    sceneY  \n",
       "0       -0.14320          18000      10        5.0   car  23.608273  1.027644  \n",
       "1       -0.02402          18000      10        5.0   car  20.308687  0.934230  \n",
       "2        0.19578          18000      10        5.0   car  17.083672  0.818075  \n",
       "3        0.32040          18000      10        5.0   car  13.996800  0.709549  \n",
       "4        0.35153          18000      10        5.0   car  10.996775  0.638568  "
      ]
     },
     "execution_count": 7,
     "metadata": {},
     "output_type": "execute_result"
    }
   ],
   "source": [
    "sceneLocalDf = sceneData.getClippedOtherDfs() # others (vehicles, bicycles, trucks)\n",
    "sceneLocalDf.head()"
   ]
  },
  {
   "cell_type": "markdown",
   "id": "4bfc0878-22ea-45ed-91a2-621b98a9548c",
   "metadata": {},
   "source": [
    "## 2 & 3, CSV files of pedestrian and other actor trajectories"
   ]
  },
  {
   "cell_type": "code",
   "execution_count": 7,
   "id": "3aebe35d-274a-4bc6-837c-b32f4e833a43",
   "metadata": {},
   "outputs": [
    {
     "ename": "FileNotFoundError",
     "evalue": "[Errno 2] No such file or directory: '../data/location-2/2022-11-13-fps-2.5-crossing.csv'",
     "output_type": "error",
     "traceback": [
      "\u001b[1;31m---------------------------------------------------------------------------\u001b[0m",
      "\u001b[1;31mFileNotFoundError\u001b[0m                         Traceback (most recent call last)",
      "\u001b[1;32m<ipython-input-7-aaa307c666b9>\u001b[0m in \u001b[0;36m<module>\u001b[1;34m\u001b[0m\n\u001b[0;32m      1\u001b[0m \u001b[1;32mimport\u001b[0m \u001b[0mpandas\u001b[0m \u001b[1;32mas\u001b[0m \u001b[0mpd\u001b[0m\u001b[1;33m\u001b[0m\u001b[1;33m\u001b[0m\u001b[0m\n\u001b[1;32m----> 2\u001b[1;33m \u001b[0mpedDf\u001b[0m \u001b[1;33m=\u001b[0m \u001b[0mpd\u001b[0m\u001b[1;33m.\u001b[0m\u001b[0mread_csv\u001b[0m\u001b[1;33m(\u001b[0m\u001b[1;34m\"../data/location-2/2022-11-13-fps-2.5-crossing.csv\"\u001b[0m\u001b[1;33m)\u001b[0m\u001b[1;33m\u001b[0m\u001b[1;33m\u001b[0m\u001b[0m\n\u001b[0m\u001b[0;32m      3\u001b[0m \u001b[0motherDf\u001b[0m \u001b[1;33m=\u001b[0m \u001b[0mpd\u001b[0m\u001b[1;33m.\u001b[0m\u001b[0mread_csv\u001b[0m\u001b[1;33m(\u001b[0m\u001b[1;34m\"../data/location-2/2022-11-13-fps-2.5-other.csv\"\u001b[0m\u001b[1;33m)\u001b[0m\u001b[1;33m\u001b[0m\u001b[1;33m\u001b[0m\u001b[0m\n",
      "\u001b[1;32m~\\.conda\\envs\\drone\\lib\\site-packages\\pandas\\io\\parsers.py\u001b[0m in \u001b[0;36mread_csv\u001b[1;34m(filepath_or_buffer, sep, delimiter, header, names, index_col, usecols, squeeze, prefix, mangle_dupe_cols, dtype, engine, converters, true_values, false_values, skipinitialspace, skiprows, skipfooter, nrows, na_values, keep_default_na, na_filter, verbose, skip_blank_lines, parse_dates, infer_datetime_format, keep_date_col, date_parser, dayfirst, cache_dates, iterator, chunksize, compression, thousands, decimal, lineterminator, quotechar, quoting, doublequote, escapechar, comment, encoding, dialect, error_bad_lines, warn_bad_lines, delim_whitespace, low_memory, memory_map, float_precision)\u001b[0m\n\u001b[0;32m    686\u001b[0m     )\n\u001b[0;32m    687\u001b[0m \u001b[1;33m\u001b[0m\u001b[0m\n\u001b[1;32m--> 688\u001b[1;33m     \u001b[1;32mreturn\u001b[0m \u001b[0m_read\u001b[0m\u001b[1;33m(\u001b[0m\u001b[0mfilepath_or_buffer\u001b[0m\u001b[1;33m,\u001b[0m \u001b[0mkwds\u001b[0m\u001b[1;33m)\u001b[0m\u001b[1;33m\u001b[0m\u001b[1;33m\u001b[0m\u001b[0m\n\u001b[0m\u001b[0;32m    689\u001b[0m \u001b[1;33m\u001b[0m\u001b[0m\n\u001b[0;32m    690\u001b[0m \u001b[1;33m\u001b[0m\u001b[0m\n",
      "\u001b[1;32m~\\.conda\\envs\\drone\\lib\\site-packages\\pandas\\io\\parsers.py\u001b[0m in \u001b[0;36m_read\u001b[1;34m(filepath_or_buffer, kwds)\u001b[0m\n\u001b[0;32m    452\u001b[0m \u001b[1;33m\u001b[0m\u001b[0m\n\u001b[0;32m    453\u001b[0m     \u001b[1;31m# Create the parser.\u001b[0m\u001b[1;33m\u001b[0m\u001b[1;33m\u001b[0m\u001b[1;33m\u001b[0m\u001b[0m\n\u001b[1;32m--> 454\u001b[1;33m     \u001b[0mparser\u001b[0m \u001b[1;33m=\u001b[0m \u001b[0mTextFileReader\u001b[0m\u001b[1;33m(\u001b[0m\u001b[0mfp_or_buf\u001b[0m\u001b[1;33m,\u001b[0m \u001b[1;33m**\u001b[0m\u001b[0mkwds\u001b[0m\u001b[1;33m)\u001b[0m\u001b[1;33m\u001b[0m\u001b[1;33m\u001b[0m\u001b[0m\n\u001b[0m\u001b[0;32m    455\u001b[0m \u001b[1;33m\u001b[0m\u001b[0m\n\u001b[0;32m    456\u001b[0m     \u001b[1;32mif\u001b[0m \u001b[0mchunksize\u001b[0m \u001b[1;32mor\u001b[0m \u001b[0miterator\u001b[0m\u001b[1;33m:\u001b[0m\u001b[1;33m\u001b[0m\u001b[1;33m\u001b[0m\u001b[0m\n",
      "\u001b[1;32m~\\.conda\\envs\\drone\\lib\\site-packages\\pandas\\io\\parsers.py\u001b[0m in \u001b[0;36m__init__\u001b[1;34m(self, f, engine, **kwds)\u001b[0m\n\u001b[0;32m    946\u001b[0m             \u001b[0mself\u001b[0m\u001b[1;33m.\u001b[0m\u001b[0moptions\u001b[0m\u001b[1;33m[\u001b[0m\u001b[1;34m\"has_index_names\"\u001b[0m\u001b[1;33m]\u001b[0m \u001b[1;33m=\u001b[0m \u001b[0mkwds\u001b[0m\u001b[1;33m[\u001b[0m\u001b[1;34m\"has_index_names\"\u001b[0m\u001b[1;33m]\u001b[0m\u001b[1;33m\u001b[0m\u001b[1;33m\u001b[0m\u001b[0m\n\u001b[0;32m    947\u001b[0m \u001b[1;33m\u001b[0m\u001b[0m\n\u001b[1;32m--> 948\u001b[1;33m         \u001b[0mself\u001b[0m\u001b[1;33m.\u001b[0m\u001b[0m_make_engine\u001b[0m\u001b[1;33m(\u001b[0m\u001b[0mself\u001b[0m\u001b[1;33m.\u001b[0m\u001b[0mengine\u001b[0m\u001b[1;33m)\u001b[0m\u001b[1;33m\u001b[0m\u001b[1;33m\u001b[0m\u001b[0m\n\u001b[0m\u001b[0;32m    949\u001b[0m \u001b[1;33m\u001b[0m\u001b[0m\n\u001b[0;32m    950\u001b[0m     \u001b[1;32mdef\u001b[0m \u001b[0mclose\u001b[0m\u001b[1;33m(\u001b[0m\u001b[0mself\u001b[0m\u001b[1;33m)\u001b[0m\u001b[1;33m:\u001b[0m\u001b[1;33m\u001b[0m\u001b[1;33m\u001b[0m\u001b[0m\n",
      "\u001b[1;32m~\\.conda\\envs\\drone\\lib\\site-packages\\pandas\\io\\parsers.py\u001b[0m in \u001b[0;36m_make_engine\u001b[1;34m(self, engine)\u001b[0m\n\u001b[0;32m   1178\u001b[0m     \u001b[1;32mdef\u001b[0m \u001b[0m_make_engine\u001b[0m\u001b[1;33m(\u001b[0m\u001b[0mself\u001b[0m\u001b[1;33m,\u001b[0m \u001b[0mengine\u001b[0m\u001b[1;33m=\u001b[0m\u001b[1;34m\"c\"\u001b[0m\u001b[1;33m)\u001b[0m\u001b[1;33m:\u001b[0m\u001b[1;33m\u001b[0m\u001b[1;33m\u001b[0m\u001b[0m\n\u001b[0;32m   1179\u001b[0m         \u001b[1;32mif\u001b[0m \u001b[0mengine\u001b[0m \u001b[1;33m==\u001b[0m \u001b[1;34m\"c\"\u001b[0m\u001b[1;33m:\u001b[0m\u001b[1;33m\u001b[0m\u001b[1;33m\u001b[0m\u001b[0m\n\u001b[1;32m-> 1180\u001b[1;33m             \u001b[0mself\u001b[0m\u001b[1;33m.\u001b[0m\u001b[0m_engine\u001b[0m \u001b[1;33m=\u001b[0m \u001b[0mCParserWrapper\u001b[0m\u001b[1;33m(\u001b[0m\u001b[0mself\u001b[0m\u001b[1;33m.\u001b[0m\u001b[0mf\u001b[0m\u001b[1;33m,\u001b[0m \u001b[1;33m**\u001b[0m\u001b[0mself\u001b[0m\u001b[1;33m.\u001b[0m\u001b[0moptions\u001b[0m\u001b[1;33m)\u001b[0m\u001b[1;33m\u001b[0m\u001b[1;33m\u001b[0m\u001b[0m\n\u001b[0m\u001b[0;32m   1181\u001b[0m         \u001b[1;32melse\u001b[0m\u001b[1;33m:\u001b[0m\u001b[1;33m\u001b[0m\u001b[1;33m\u001b[0m\u001b[0m\n\u001b[0;32m   1182\u001b[0m             \u001b[1;32mif\u001b[0m \u001b[0mengine\u001b[0m \u001b[1;33m==\u001b[0m \u001b[1;34m\"python\"\u001b[0m\u001b[1;33m:\u001b[0m\u001b[1;33m\u001b[0m\u001b[1;33m\u001b[0m\u001b[0m\n",
      "\u001b[1;32m~\\.conda\\envs\\drone\\lib\\site-packages\\pandas\\io\\parsers.py\u001b[0m in \u001b[0;36m__init__\u001b[1;34m(self, src, **kwds)\u001b[0m\n\u001b[0;32m   2008\u001b[0m         \u001b[0mkwds\u001b[0m\u001b[1;33m[\u001b[0m\u001b[1;34m\"usecols\"\u001b[0m\u001b[1;33m]\u001b[0m \u001b[1;33m=\u001b[0m \u001b[0mself\u001b[0m\u001b[1;33m.\u001b[0m\u001b[0musecols\u001b[0m\u001b[1;33m\u001b[0m\u001b[1;33m\u001b[0m\u001b[0m\n\u001b[0;32m   2009\u001b[0m \u001b[1;33m\u001b[0m\u001b[0m\n\u001b[1;32m-> 2010\u001b[1;33m         \u001b[0mself\u001b[0m\u001b[1;33m.\u001b[0m\u001b[0m_reader\u001b[0m \u001b[1;33m=\u001b[0m \u001b[0mparsers\u001b[0m\u001b[1;33m.\u001b[0m\u001b[0mTextReader\u001b[0m\u001b[1;33m(\u001b[0m\u001b[0msrc\u001b[0m\u001b[1;33m,\u001b[0m \u001b[1;33m**\u001b[0m\u001b[0mkwds\u001b[0m\u001b[1;33m)\u001b[0m\u001b[1;33m\u001b[0m\u001b[1;33m\u001b[0m\u001b[0m\n\u001b[0m\u001b[0;32m   2011\u001b[0m         \u001b[0mself\u001b[0m\u001b[1;33m.\u001b[0m\u001b[0munnamed_cols\u001b[0m \u001b[1;33m=\u001b[0m \u001b[0mself\u001b[0m\u001b[1;33m.\u001b[0m\u001b[0m_reader\u001b[0m\u001b[1;33m.\u001b[0m\u001b[0munnamed_cols\u001b[0m\u001b[1;33m\u001b[0m\u001b[1;33m\u001b[0m\u001b[0m\n\u001b[0;32m   2012\u001b[0m \u001b[1;33m\u001b[0m\u001b[0m\n",
      "\u001b[1;32mpandas\\_libs\\parsers.pyx\u001b[0m in \u001b[0;36mpandas._libs.parsers.TextReader.__cinit__\u001b[1;34m()\u001b[0m\n",
      "\u001b[1;32mpandas\\_libs\\parsers.pyx\u001b[0m in \u001b[0;36mpandas._libs.parsers.TextReader._setup_parser_source\u001b[1;34m()\u001b[0m\n",
      "\u001b[1;31mFileNotFoundError\u001b[0m: [Errno 2] No such file or directory: '../data/location-2/2022-11-13-fps-2.5-crossing.csv'"
     ]
    }
   ],
   "source": [
    "import pandas as pd\n",
    "pedDf = pd.read_csv(\"../data/location-2/2022-11-13-fps-2.5-crossing.csv\")\n",
    "otherDf = pd.read_csv(\"../data/location-2/2022-11-13-fps-2.5-other.csv\")"
   ]
  },
  {
   "cell_type": "code",
   "execution_count": 4,
   "id": "7973f3e0-8a93-4be1-9834-07aa38a59219",
   "metadata": {},
   "outputs": [
    {
     "ename": "NameError",
     "evalue": "name 'pedDf' is not defined",
     "output_type": "error",
     "traceback": [
      "\u001b[1;31m---------------------------------------------------------------------------\u001b[0m",
      "\u001b[1;31mNameError\u001b[0m                                 Traceback (most recent call last)",
      "Cell \u001b[1;32mIn [4], line 1\u001b[0m\n\u001b[1;32m----> 1\u001b[0m \u001b[43mpedDf\u001b[49m\u001b[38;5;241m.\u001b[39mhead()\n",
      "\u001b[1;31mNameError\u001b[0m: name 'pedDf' is not defined"
     ]
    }
   ],
   "source": [
    "pedDf.head()"
   ]
  },
  {
   "cell_type": "code",
   "execution_count": 8,
   "id": "ae19aeb6-b41f-4c4c-a8d1-97312e85d542",
   "metadata": {},
   "outputs": [
    {
     "data": {
      "text/html": [
       "<div>\n",
       "<style scoped>\n",
       "    .dataframe tbody tr th:only-of-type {\n",
       "        vertical-align: middle;\n",
       "    }\n",
       "\n",
       "    .dataframe tbody tr th {\n",
       "        vertical-align: top;\n",
       "    }\n",
       "\n",
       "    .dataframe thead th {\n",
       "        text-align: right;\n",
       "    }\n",
       "</style>\n",
       "<table border=\"1\" class=\"dataframe\">\n",
       "  <thead>\n",
       "    <tr style=\"text-align: right;\">\n",
       "      <th></th>\n",
       "      <th>index</th>\n",
       "      <th>recordingId</th>\n",
       "      <th>trackId</th>\n",
       "      <th>frame</th>\n",
       "      <th>trackLifetime</th>\n",
       "      <th>xCenter</th>\n",
       "      <th>yCenter</th>\n",
       "      <th>heading</th>\n",
       "      <th>width</th>\n",
       "      <th>length</th>\n",
       "      <th>xVelocity</th>\n",
       "      <th>yVelocity</th>\n",
       "      <th>xAcceleration</th>\n",
       "      <th>yAcceleration</th>\n",
       "      <th>uniqueTrackId</th>\n",
       "      <th>sceneId</th>\n",
       "      <th>roadWidth</th>\n",
       "      <th>sceneX</th>\n",
       "      <th>sceneY</th>\n",
       "    </tr>\n",
       "  </thead>\n",
       "  <tbody>\n",
       "    <tr>\n",
       "      <th>0</th>\n",
       "      <td>10243</td>\n",
       "      <td>18</td>\n",
       "      <td>334</td>\n",
       "      <td>22208</td>\n",
       "      <td>590</td>\n",
       "      <td>44.33243</td>\n",
       "      <td>-39.89323</td>\n",
       "      <td>339.50256</td>\n",
       "      <td>0.0</td>\n",
       "      <td>0.0</td>\n",
       "      <td>1.09188</td>\n",
       "      <td>-0.22728</td>\n",
       "      <td>0.41405</td>\n",
       "      <td>0.51193</td>\n",
       "      <td>18334</td>\n",
       "      <td>31</td>\n",
       "      <td>6.0</td>\n",
       "      <td>7.196578</td>\n",
       "      <td>3.948259</td>\n",
       "    </tr>\n",
       "    <tr>\n",
       "      <th>1</th>\n",
       "      <td>10244</td>\n",
       "      <td>18</td>\n",
       "      <td>334</td>\n",
       "      <td>22218</td>\n",
       "      <td>600</td>\n",
       "      <td>44.79450</td>\n",
       "      <td>-39.93472</td>\n",
       "      <td>344.85402</td>\n",
       "      <td>0.0</td>\n",
       "      <td>0.0</td>\n",
       "      <td>1.30857</td>\n",
       "      <td>-0.07286</td>\n",
       "      <td>0.48330</td>\n",
       "      <td>0.15503</td>\n",
       "      <td>18334</td>\n",
       "      <td>31</td>\n",
       "      <td>6.0</td>\n",
       "      <td>6.986529</td>\n",
       "      <td>3.534605</td>\n",
       "    </tr>\n",
       "    <tr>\n",
       "      <th>2</th>\n",
       "      <td>10245</td>\n",
       "      <td>18</td>\n",
       "      <td>334</td>\n",
       "      <td>22228</td>\n",
       "      <td>610</td>\n",
       "      <td>45.37294</td>\n",
       "      <td>-39.95876</td>\n",
       "      <td>348.28785</td>\n",
       "      <td>0.0</td>\n",
       "      <td>0.0</td>\n",
       "      <td>1.49758</td>\n",
       "      <td>-0.08617</td>\n",
       "      <td>0.21311</td>\n",
       "      <td>-0.15383</td>\n",
       "      <td>18334</td>\n",
       "      <td>31</td>\n",
       "      <td>6.0</td>\n",
       "      <td>6.749486</td>\n",
       "      <td>3.006418</td>\n",
       "    </tr>\n",
       "    <tr>\n",
       "      <th>3</th>\n",
       "      <td>10246</td>\n",
       "      <td>18</td>\n",
       "      <td>334</td>\n",
       "      <td>22238</td>\n",
       "      <td>620</td>\n",
       "      <td>45.98816</td>\n",
       "      <td>-40.01418</td>\n",
       "      <td>349.78826</td>\n",
       "      <td>0.0</td>\n",
       "      <td>0.0</td>\n",
       "      <td>1.49364</td>\n",
       "      <td>-0.21155</td>\n",
       "      <td>-0.05197</td>\n",
       "      <td>-0.24933</td>\n",
       "      <td>18334</td>\n",
       "      <td>31</td>\n",
       "      <td>6.0</td>\n",
       "      <td>6.469653</td>\n",
       "      <td>2.455728</td>\n",
       "    </tr>\n",
       "    <tr>\n",
       "      <th>4</th>\n",
       "      <td>10247</td>\n",
       "      <td>18</td>\n",
       "      <td>334</td>\n",
       "      <td>22248</td>\n",
       "      <td>630</td>\n",
       "      <td>46.56268</td>\n",
       "      <td>-40.12827</td>\n",
       "      <td>349.67809</td>\n",
       "      <td>0.0</td>\n",
       "      <td>0.0</td>\n",
       "      <td>1.44663</td>\n",
       "      <td>-0.30667</td>\n",
       "      <td>-0.03688</td>\n",
       "      <td>-0.11380</td>\n",
       "      <td>18334</td>\n",
       "      <td>31</td>\n",
       "      <td>6.0</td>\n",
       "      <td>6.150449</td>\n",
       "      <td>1.964608</td>\n",
       "    </tr>\n",
       "  </tbody>\n",
       "</table>\n",
       "</div>"
      ],
      "text/plain": [
       "   index  recordingId  trackId  frame  trackLifetime   xCenter   yCenter  \\\n",
       "0  10243           18      334  22208            590  44.33243 -39.89323   \n",
       "1  10244           18      334  22218            600  44.79450 -39.93472   \n",
       "2  10245           18      334  22228            610  45.37294 -39.95876   \n",
       "3  10246           18      334  22238            620  45.98816 -40.01418   \n",
       "4  10247           18      334  22248            630  46.56268 -40.12827   \n",
       "\n",
       "     heading  width  length  xVelocity  yVelocity  xAcceleration  \\\n",
       "0  339.50256    0.0     0.0    1.09188   -0.22728        0.41405   \n",
       "1  344.85402    0.0     0.0    1.30857   -0.07286        0.48330   \n",
       "2  348.28785    0.0     0.0    1.49758   -0.08617        0.21311   \n",
       "3  349.78826    0.0     0.0    1.49364   -0.21155       -0.05197   \n",
       "4  349.67809    0.0     0.0    1.44663   -0.30667       -0.03688   \n",
       "\n",
       "   yAcceleration  uniqueTrackId  sceneId  roadWidth    sceneX    sceneY  \n",
       "0        0.51193          18334       31        6.0  7.196578  3.948259  \n",
       "1        0.15503          18334       31        6.0  6.986529  3.534605  \n",
       "2       -0.15383          18334       31        6.0  6.749486  3.006418  \n",
       "3       -0.24933          18334       31        6.0  6.469653  2.455728  \n",
       "4       -0.11380          18334       31        6.0  6.150449  1.964608  "
      ]
     },
     "execution_count": 8,
     "metadata": {},
     "output_type": "execute_result"
    }
   ],
   "source": [
    "import pandas as pd\n",
    "pedDf = pd.read_csv(\"../data/location-2/2022-11-19-fps-2.5-scene-31-pedestrians.csv\")\n",
    "otherDf = pd.read_csv(\"../data/location-2/2022-11-19-fps-2.5-scene-31-others.csv\")\n",
    "pedDf.head()"
   ]
  },
  {
   "cell_type": "markdown",
   "id": "b8634cfb-a3e3-4a73-b289-5a321d033e37",
   "metadata": {},
   "source": [
    "## 4 Preprocessed Scene Data"
   ]
  },
  {
   "cell_type": "code",
   "execution_count": 17,
   "id": "223ad4ca-cbba-4449-aed2-fe81bf2da819",
   "metadata": {},
   "outputs": [],
   "source": [
    "from extractors.LocationData import LocationData\n",
    "scene10 = LocationData.load(\"../data/location-2\", \"2022-11-19-fps-2.5-scene-10.dll\")\n",
    "scene10.backgroundImagePath = \"G:AV datasets/inD-dataset-v1.0/data/18_background.png\""
   ]
  },
  {
   "cell_type": "code",
   "execution_count": null,
   "id": "83c7959c-939e-4f15-9b61-7e368228be8f",
   "metadata": {},
   "outputs": [],
   "source": [
    "\n",
    "visualizer.showLocationSceneData(scene10, onlyClipped=True, showOthers=False)"
   ]
  },
  {
   "cell_type": "code",
   "execution_count": null,
   "id": "3bd88c73-628c-4c03-ab8e-08049d03897e",
   "metadata": {},
   "outputs": [],
   "source": []
  }
 ],
 "metadata": {
  "kernelspec": {
   "display_name": "Python 3",
   "language": "python",
   "name": "python3"
  },
  "language_info": {
   "codemirror_mode": {
    "name": "ipython",
    "version": 3
   },
   "file_extension": ".py",
   "mimetype": "text/x-python",
   "name": "python",
   "nbconvert_exporter": "python",
   "pygments_lexer": "ipython3",
   "version": "3.6.15"
  }
 },
 "nbformat": 4,
 "nbformat_minor": 5
}
