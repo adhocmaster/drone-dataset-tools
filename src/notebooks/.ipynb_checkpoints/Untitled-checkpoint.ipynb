{
 "cells": [
  {
   "cell_type": "code",
   "execution_count": 15,
   "id": "59c48345-aa40-436f-98ce-e449b3ba76dc",
   "metadata": {},
   "outputs": [
    {
     "data": {
      "application/vnd.jupyter.widget-view+json": {
       "model_id": "bf5a3f971445474d959e9942ee81fc47",
       "version_major": 2,
       "version_minor": 0
      },
      "text/plain": [
       " outer:   0%|          | 0/5 [00:00<?, ?it/s]"
      ]
     },
     "metadata": {},
     "output_type": "display_data"
    },
    {
     "data": {
      "application/vnd.jupyter.widget-view+json": {
       "model_id": "341f874a0bbf44f2bc5564c5beac7b75",
       "version_major": 2,
       "version_minor": 0
      },
      "text/plain": [
       " inner loop:   0%|          | 0/10 [00:00<?, ?it/s]"
      ]
     },
     "metadata": {},
     "output_type": "display_data"
    },
    {
     "data": {
      "application/vnd.jupyter.widget-view+json": {
       "model_id": "11fcaffaa3184245b341c0d16c20687f",
       "version_major": 2,
       "version_minor": 0
      },
      "text/plain": [
       " inner loop:   0%|          | 0/20 [00:00<?, ?it/s]"
      ]
     },
     "metadata": {},
     "output_type": "display_data"
    },
    {
     "data": {
      "application/vnd.jupyter.widget-view+json": {
       "model_id": "8866ad8bdfc444f49704715bb2dcb7d8",
       "version_major": 2,
       "version_minor": 0
      },
      "text/plain": [
       " inner loop:   0%|          | 0/30 [00:00<?, ?it/s]"
      ]
     },
     "metadata": {},
     "output_type": "display_data"
    },
    {
     "data": {
      "application/vnd.jupyter.widget-view+json": {
       "model_id": "a91062f4f04b4ad9a73f4bc1c501365c",
       "version_major": 2,
       "version_minor": 0
      },
      "text/plain": [
       " inner loop:   0%|          | 0/40 [00:00<?, ?it/s]"
      ]
     },
     "metadata": {},
     "output_type": "display_data"
    },
    {
     "data": {
      "application/vnd.jupyter.widget-view+json": {
       "model_id": "e014a582fc5442289e56b8404068296e",
       "version_major": 2,
       "version_minor": 0
      },
      "text/plain": [
       " inner loop:   0%|          | 0/50 [00:00<?, ?it/s]"
      ]
     },
     "metadata": {},
     "output_type": "display_data"
    },
    {
     "name": "stdout",
     "output_type": "stream",
     "text": [
      "done!\n"
     ]
    }
   ],
   "source": [
    "import time\n",
    "# from tqdm.auto import tqdm\n",
    "from tqdm import tqdm \n",
    "\n",
    "\n",
    "for outer in tqdm([10, 20, 30, 40, 50], desc=\" outer\", position=0, leave=True):\n",
    "    for inner in tqdm(range(outer), desc=\" inner loop\", position=1, leave=False):\n",
    "        time.sleep(0.05)\n",
    "print(\"done!\")"
   ]
  },
  {
   "cell_type": "code",
   "execution_count": 8,
   "id": "f3a1993a-eaab-40a2-8c0b-f5a7f69e12ec",
   "metadata": {},
   "outputs": [
    {
     "name": "stderr",
     "output_type": "stream",
     "text": [
      "100%|██████████| 2/2 [00:00<?, ?it/s]]\n",
      " 20%|██        | 2/10 [00:00<00:00, 1186.34it/s]\n"
     ]
    }
   ],
   "source": [
    "from tqdm import tqdm \n",
    "import time\n",
    "\n",
    "def foo_():\n",
    "    time.sleep(0.3)\n",
    "range_ = range(0, 10)\n",
    "total = len(range_)\n",
    "\n",
    "with tqdm(total=total, position=0, leave=True) as pbar:\n",
    "   for i in tqdm((foo_, range_ ), position=0, leave=True):\n",
    "    pbar.update()"
   ]
  },
  {
   "cell_type": "code",
   "execution_count": null,
   "id": "58e2c9e8-c9ee-48f1-8bae-dceb15983a93",
   "metadata": {},
   "outputs": [],
   "source": []
  }
 ],
 "metadata": {
  "kernelspec": {
   "display_name": "Python 3",
   "language": "python",
   "name": "python3"
  },
  "language_info": {
   "codemirror_mode": {
    "name": "ipython",
    "version": 3
   },
   "file_extension": ".py",
   "mimetype": "text/x-python",
   "name": "python",
   "nbconvert_exporter": "python",
   "pygments_lexer": "ipython3",
   "version": "3.6.15"
  }
 },
 "nbformat": 4,
 "nbformat_minor": 5
}
