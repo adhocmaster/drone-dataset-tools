{
 "cells": [
  {
   "cell_type": "code",
   "execution_count": 1,
   "id": "f345ad05-0031-4c65-9aa4-fa63654c2bf0",
   "metadata": {},
   "outputs": [
    {
     "name": "stdout",
     "output_type": "stream",
     "text": [
      "current working dirE:\\AV\\DataSetExploration\\drone-dataset-tools\\src\n"
     ]
    }
   ],
   "source": [
    "exec(open('init_notebook.py').read())"
   ]
  },
  {
   "cell_type": "code",
   "execution_count": 2,
   "id": "64899559-d08a-4188-8622-552f54f5b9a3",
   "metadata": {},
   "outputs": [],
   "source": [
    "%load_ext autoreload\n",
    "%autoreload 2"
   ]
  },
  {
   "cell_type": "code",
   "execution_count": 3,
   "id": "db5308cb-23e3-43ab-8c4f-6bff9ce5d705",
   "metadata": {},
   "outputs": [],
   "source": [
    "from tools.UnitUtils import UnitUtils\n",
    "orthoPxToMeter = 0.00814636091724502"
   ]
  },
  {
   "cell_type": "code",
   "execution_count": 4,
   "id": "aa26e102-8457-4f48-84bf-d15cbcd662ed",
   "metadata": {},
   "outputs": [
    {
     "name": "stdout",
     "output_type": "stream",
     "text": [
      "(18.427068394808234, -36.70750229310605)\n"
     ]
    }
   ],
   "source": [
    "print(UnitUtils.InDPixelToCoordinate((518.5, 461.5), orthoPxToMeter))"
   ]
  },
  {
   "cell_type": "code",
   "execution_count": null,
   "id": "cad4178c-d69a-4b9d-bdf7-395b2d8b189f",
   "metadata": {},
   "outputs": [],
   "source": []
  }
 ],
 "metadata": {
  "kernelspec": {
   "display_name": "Python 3",
   "language": "python",
   "name": "python3"
  },
  "language_info": {
   "codemirror_mode": {
    "name": "ipython",
    "version": 3
   },
   "file_extension": ".py",
   "mimetype": "text/x-python",
   "name": "python",
   "nbconvert_exporter": "python",
   "pygments_lexer": "ipython3",
   "version": "3.6.15"
  }
 },
 "nbformat": 4,
 "nbformat_minor": 5
}
