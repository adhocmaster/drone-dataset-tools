{
 "cells": [
  {
   "cell_type": "code",
   "execution_count": 1,
   "id": "5388e344-0437-4c9b-957d-76d579671b87",
   "metadata": {},
   "outputs": [
    {
     "name": "stdout",
     "output_type": "stream",
     "text": [
      "current working dirE:\\AV\\DataSetExploration\\drone-dataset-tools\\src\n"
     ]
    }
   ],
   "source": [
    "exec(open('init_notebook.py').read())"
   ]
  },
  {
   "cell_type": "code",
   "execution_count": 2,
   "id": "811554dc-bb88-4e77-a0d4-153e1c68f6b2",
   "metadata": {},
   "outputs": [],
   "source": [
    "%load_ext autoreload\n",
    "%autoreload 2"
   ]
  },
  {
   "cell_type": "code",
   "execution_count": 3,
   "id": "20f6b99c-8b6c-4bb4-9aa0-bb98e1b635d3",
   "metadata": {},
   "outputs": [],
   "source": [
    "import logging\n",
    "logging.basicConfig(level=logging.INFO)\n",
    "from extractors.loader import Loader"
   ]
  },
  {
   "cell_type": "code",
   "execution_count": 4,
   "id": "0c2954bf-5dff-42e0-a454-448bac407de6",
   "metadata": {},
   "outputs": [],
   "source": [
    "dataDir = \"G:AV datasets/inD-dataset-v1.0/data/\""
   ]
  },
  {
   "cell_type": "code",
   "execution_count": 5,
   "id": "63c77f16-5c4c-4294-988f-0734500d5b01",
   "metadata": {},
   "outputs": [],
   "source": [
    "loader = Loader(dataDir, 'inD')"
   ]
  },
  {
   "cell_type": "markdown",
   "id": "3dbda764-c0ba-4f48-9531-d7b6a020efea",
   "metadata": {},
   "source": [
    "## Some helper methods to get information of all recordings\n",
    "Uncomment and run to see output"
   ]
  },
  {
   "cell_type": "code",
   "execution_count": 6,
   "id": "77df13e9-d47b-4bad-8ae5-56a5c3eee374",
   "metadata": {},
   "outputs": [],
   "source": [
    "# rMeta = loader.getAllRecordingMeta() # All the meta files\n",
    "# print(rMeta[0])"
   ]
  },
  {
   "cell_type": "code",
   "execution_count": 30,
   "id": "713a8fbe-7a15-4cfd-b6b1-85dba16ae956",
   "metadata": {},
   "outputs": [
    {
     "data": {
      "text/plain": [
       "{4: [0, 1, 2, 3, 4, 5, 6],\n",
       " 1: [7, 8, 9, 10, 11, 12, 13, 14, 15, 16, 17],\n",
       " 2: [18, 19, 20, 21, 22, 23, 24, 25, 26, 27, 28, 29],\n",
       " 3: [30, 31, 32]}"
      ]
     },
     "execution_count": 30,
     "metadata": {},
     "output_type": "execute_result"
    }
   ],
   "source": [
    "loader.locationToRecordingIds"
   ]
  },
  {
   "cell_type": "code",
   "execution_count": 8,
   "id": "fbd29585-4e08-4e5a-849a-daae33238554",
   "metadata": {},
   "outputs": [],
   "source": [
    "# loader.getRecordingIdsOfALocation(1)"
   ]
  },
  {
   "cell_type": "markdown",
   "id": "565f51e0-e8d5-42ff-850e-9bdf03ac62c8",
   "metadata": {},
   "source": [
    "# Recording Specific methods"
   ]
  },
  {
   "cell_type": "code",
   "execution_count": 9,
   "id": "dc1d7588-58fe-47aa-ac44-a7bf5a3252e1",
   "metadata": {},
   "outputs": [],
   "source": [
    "recordingData = loader.getRecordingData('18') # loads the recording with id 18"
   ]
  },
  {
   "cell_type": "code",
   "execution_count": 10,
   "id": "51493757-3e5b-402f-9051-bc0bc9c0cd8c",
   "metadata": {},
   "outputs": [],
   "source": [
    "# recordingData.tracksMetaDf.head()\n",
    "# recordingData.tracksDf.tail()"
   ]
  },
  {
   "cell_type": "code",
   "execution_count": 11,
   "id": "9bf6b0b6-4f94-4666-9801-17a46129cf9a",
   "metadata": {},
   "outputs": [],
   "source": [
    "# recordingData.getPedIds() # All the pedestrian Ids in the recording"
   ]
  },
  {
   "cell_type": "code",
   "execution_count": 12,
   "id": "cebdc8da-2f2c-44ea-845a-26268aaa23b6",
   "metadata": {},
   "outputs": [],
   "source": [
    "\n",
    "# pedFrames = loader.extractPedFrames(recordingData.tracksMetaDf, recordingData.tracksDf)\n",
    "# pedFrames.tail()"
   ]
  },
  {
   "cell_type": "code",
   "execution_count": 13,
   "id": "fc5f25ef-f9fc-4585-9568-00081b9d9ef2",
   "metadata": {},
   "outputs": [],
   "source": [
    "crossingIds = recordingData.getCrossingPedIds()\n",
    "# recordingData.getCrossingPedIds() # only the ids who crosses the road."
   ]
  },
  {
   "cell_type": "code",
   "execution_count": 21,
   "id": "ebe29d1a-6e23-43ff-96bb-dd8c3dcb7643",
   "metadata": {},
   "outputs": [
    {
     "data": {
      "text/html": [
       "<div>\n",
       "<style scoped>\n",
       "    .dataframe tbody tr th:only-of-type {\n",
       "        vertical-align: middle;\n",
       "    }\n",
       "\n",
       "    .dataframe tbody tr th {\n",
       "        vertical-align: top;\n",
       "    }\n",
       "\n",
       "    .dataframe thead th {\n",
       "        text-align: right;\n",
       "    }\n",
       "</style>\n",
       "<table border=\"1\" class=\"dataframe\">\n",
       "  <thead>\n",
       "    <tr style=\"text-align: right;\">\n",
       "      <th></th>\n",
       "      <th>recordingId</th>\n",
       "      <th>trackId</th>\n",
       "      <th>frame</th>\n",
       "      <th>trackLifetime</th>\n",
       "      <th>xCenter</th>\n",
       "      <th>yCenter</th>\n",
       "      <th>heading</th>\n",
       "      <th>width</th>\n",
       "      <th>length</th>\n",
       "      <th>xVelocity</th>\n",
       "      <th>yVelocity</th>\n",
       "      <th>xAcceleration</th>\n",
       "      <th>yAcceleration</th>\n",
       "      <th>lonVelocity</th>\n",
       "      <th>latVelocity</th>\n",
       "      <th>lonAcceleration</th>\n",
       "      <th>latAcceleration</th>\n",
       "      <th>uniqueTrackId</th>\n",
       "    </tr>\n",
       "  </thead>\n",
       "  <tbody>\n",
       "    <tr>\n",
       "      <th>174</th>\n",
       "      <td>18</td>\n",
       "      <td>1</td>\n",
       "      <td>0</td>\n",
       "      <td>0</td>\n",
       "      <td>32.13296</td>\n",
       "      <td>-19.08257</td>\n",
       "      <td>264.45315</td>\n",
       "      <td>0.0</td>\n",
       "      <td>0.0</td>\n",
       "      <td>-0.07239</td>\n",
       "      <td>-1.51998</td>\n",
       "      <td>-0.20766</td>\n",
       "      <td>0.17799</td>\n",
       "      <td>1.51986</td>\n",
       "      <td>-0.07487</td>\n",
       "      <td>-0.15709</td>\n",
       "      <td>0.22390</td>\n",
       "      <td>18001</td>\n",
       "    </tr>\n",
       "    <tr>\n",
       "      <th>175</th>\n",
       "      <td>18</td>\n",
       "      <td>1</td>\n",
       "      <td>1</td>\n",
       "      <td>1</td>\n",
       "      <td>32.12978</td>\n",
       "      <td>-19.14328</td>\n",
       "      <td>264.39476</td>\n",
       "      <td>0.0</td>\n",
       "      <td>0.0</td>\n",
       "      <td>-0.08051</td>\n",
       "      <td>-1.51388</td>\n",
       "      <td>-0.21197</td>\n",
       "      <td>0.18312</td>\n",
       "      <td>1.51451</td>\n",
       "      <td>-0.06774</td>\n",
       "      <td>-0.16154</td>\n",
       "      <td>0.22885</td>\n",
       "      <td>18001</td>\n",
       "    </tr>\n",
       "    <tr>\n",
       "      <th>176</th>\n",
       "      <td>18</td>\n",
       "      <td>1</td>\n",
       "      <td>2</td>\n",
       "      <td>2</td>\n",
       "      <td>32.12634</td>\n",
       "      <td>-19.20393</td>\n",
       "      <td>264.32149</td>\n",
       "      <td>0.0</td>\n",
       "      <td>0.0</td>\n",
       "      <td>-0.08879</td>\n",
       "      <td>-1.50747</td>\n",
       "      <td>-0.21644</td>\n",
       "      <td>0.18902</td>\n",
       "      <td>1.50886</td>\n",
       "      <td>-0.06081</td>\n",
       "      <td>-0.16668</td>\n",
       "      <td>0.23408</td>\n",
       "      <td>18001</td>\n",
       "    </tr>\n",
       "    <tr>\n",
       "      <th>177</th>\n",
       "      <td>18</td>\n",
       "      <td>1</td>\n",
       "      <td>3</td>\n",
       "      <td>3</td>\n",
       "      <td>32.12261</td>\n",
       "      <td>-19.26463</td>\n",
       "      <td>264.23384</td>\n",
       "      <td>0.0</td>\n",
       "      <td>0.0</td>\n",
       "      <td>-0.09724</td>\n",
       "      <td>-1.50061</td>\n",
       "      <td>-0.22107</td>\n",
       "      <td>0.19557</td>\n",
       "      <td>1.50279</td>\n",
       "      <td>-0.05402</td>\n",
       "      <td>-0.17237</td>\n",
       "      <td>0.23960</td>\n",
       "      <td>18001</td>\n",
       "    </tr>\n",
       "    <tr>\n",
       "      <th>178</th>\n",
       "      <td>18</td>\n",
       "      <td>1</td>\n",
       "      <td>4</td>\n",
       "      <td>4</td>\n",
       "      <td>32.11867</td>\n",
       "      <td>-19.32531</td>\n",
       "      <td>264.13236</td>\n",
       "      <td>0.0</td>\n",
       "      <td>0.0</td>\n",
       "      <td>-0.10592</td>\n",
       "      <td>-1.49317</td>\n",
       "      <td>-0.22584</td>\n",
       "      <td>0.20255</td>\n",
       "      <td>1.49617</td>\n",
       "      <td>-0.04728</td>\n",
       "      <td>-0.17840</td>\n",
       "      <td>0.24537</td>\n",
       "      <td>18001</td>\n",
       "    </tr>\n",
       "  </tbody>\n",
       "</table>\n",
       "</div>"
      ],
      "text/plain": [
       "     recordingId  trackId  frame  trackLifetime   xCenter   yCenter  \\\n",
       "174           18        1      0              0  32.13296 -19.08257   \n",
       "175           18        1      1              1  32.12978 -19.14328   \n",
       "176           18        1      2              2  32.12634 -19.20393   \n",
       "177           18        1      3              3  32.12261 -19.26463   \n",
       "178           18        1      4              4  32.11867 -19.32531   \n",
       "\n",
       "       heading  width  length  xVelocity  yVelocity  xAcceleration  \\\n",
       "174  264.45315    0.0     0.0   -0.07239   -1.51998       -0.20766   \n",
       "175  264.39476    0.0     0.0   -0.08051   -1.51388       -0.21197   \n",
       "176  264.32149    0.0     0.0   -0.08879   -1.50747       -0.21644   \n",
       "177  264.23384    0.0     0.0   -0.09724   -1.50061       -0.22107   \n",
       "178  264.13236    0.0     0.0   -0.10592   -1.49317       -0.22584   \n",
       "\n",
       "     yAcceleration  lonVelocity  latVelocity  lonAcceleration  \\\n",
       "174        0.17799      1.51986     -0.07487         -0.15709   \n",
       "175        0.18312      1.51451     -0.06774         -0.16154   \n",
       "176        0.18902      1.50886     -0.06081         -0.16668   \n",
       "177        0.19557      1.50279     -0.05402         -0.17237   \n",
       "178        0.20255      1.49617     -0.04728         -0.17840   \n",
       "\n",
       "     latAcceleration  uniqueTrackId  \n",
       "174          0.22390          18001  \n",
       "175          0.22885          18001  \n",
       "176          0.23408          18001  \n",
       "177          0.23960          18001  \n",
       "178          0.24537          18001  "
      ]
     },
     "execution_count": 21,
     "metadata": {},
     "output_type": "execute_result"
    }
   ],
   "source": [
    "crossingDf = recordingData.getCrossingDf()\n",
    "crossingDf.head()"
   ]
  },
  {
   "cell_type": "markdown",
   "id": "f6a33fd8-7546-4740-8e26-a4514b302350",
   "metadata": {},
   "source": [
    "# LocationData - for aggregation\n"
   ]
  },
  {
   "cell_type": "code",
   "execution_count": 35,
   "id": "3a2e8f69-c74b-4632-bce9-cf0ce9d143d9",
   "metadata": {},
   "outputs": [],
   "source": [
    "loc2data = loader.getLocationData(2)"
   ]
  },
  {
   "cell_type": "code",
   "execution_count": 36,
   "id": "463fc85d-d0f2-4268-9392-95e0840e236d",
   "metadata": {},
   "outputs": [
    {
     "name": "stdout",
     "output_type": "stream",
     "text": [
      "crossing ids for 18 SortedList([1, 4, 20, 23, 26, 42, 53, 61, 63, 69, 70, 71, 72, 74, 77, 78, 82, 87, 90, 99, 100, 107, 112, 116, 121, 127, 128, 134, 147, 148, 156, 162, 163, 166, 168, 173, 180, 181, 183, 185, 193, 196, 201, 204, 211, 214, 216, 225, 230, 237, 242, 248, 256, 262, 267, 273, 277, 279, 280, 281, 285, 298, 299, 302, 304, 306, 311, 319, 322, 325, 327, 334, 337, 339, 344, 347, 353, 356, 365, 375, 382, 387, 388, 389, 390, 396, 399, 404, 408, 409, 412, 420, 422])\n",
      "uniqueIds for 18 [18001 18004 18020 18023 18026 18042 18053 18061 18063 18069 18070 18071\n",
      " 18072 18074 18077 18078 18082 18087 18090 18099 18100 18107 18112 18116\n",
      " 18121 18127 18128 18134 18147 18148 18156 18162 18163 18166 18168 18173\n",
      " 18180 18181 18183 18185 18193 18196 18201 18204 18211 18214 18216 18225\n",
      " 18230 18237 18242 18248 18256 18262 18267 18273 18277 18279 18280 18281\n",
      " 18285 18298 18299 18302 18304 18306 18311 18319 18322 18325 18327 18334\n",
      " 18337 18339 18344 18347 18353 18356 18365 18375 18382 18387 18388 18389\n",
      " 18390 18396 18399 18404 18408 18409 18412 18420 18422]\n"
     ]
    },
    {
     "name": "stderr",
     "output_type": "stream",
     "text": [
      "WARNING:root:20 has exception: crossing annotation not in tracksMetaDf\n",
      "WARNING:root:21 has exception: crossing annotation not in tracksMetaDf\n",
      "WARNING:root:22 has exception: crossing annotation not in tracksMetaDf\n",
      "WARNING:root:23 has exception: crossing annotation not in tracksMetaDf\n",
      "WARNING:root:24 has exception: crossing annotation not in tracksMetaDf\n",
      "WARNING:root:25 has exception: crossing annotation not in tracksMetaDf\n",
      "WARNING:root:26 has exception: crossing annotation not in tracksMetaDf\n",
      "WARNING:root:27 has exception: crossing annotation not in tracksMetaDf\n",
      "WARNING:root:28 has exception: crossing annotation not in tracksMetaDf\n",
      "WARNING:root:29 has exception: crossing annotation not in tracksMetaDf\n"
     ]
    },
    {
     "name": "stdout",
     "output_type": "stream",
     "text": [
      "crossing ids for 19 SortedList([19, 20, 39, 40, 41, 45, 47, 49, 53, 55, 57, 59, 60, 63, 70, 71, 72, 75, 86, 90, 93, 94, 112, 125, 132, 133, 140, 147, 149, 150, 153, 157, 158, 161, 167, 177, 178, 180, 188, 199, 203, 204, 205, 211, 212, 214, 219, 222, 224, 225, 232, 233, 235, 242, 243, 244, 247, 249, 265, 267, 281, 282, 283, 288, 289, 291, 293, 295, 296, 302, 312, 320, 327, 337, 338, 341, 343, 346, 349, 353])\n",
      "uniqueIds for 19 [19019 19020 19039 19040 19041 19045 19047 19049 19053 19055 19057 19059\n",
      " 19060 19063 19070 19071 19072 19075 19086 19090 19093 19094 19112 19125\n",
      " 19132 19133 19140 19147 19149 19150 19153 19157 19158 19161 19167 19177\n",
      " 19178 19180 19188 19199 19203 19204 19205 19211 19212 19214 19219 19222\n",
      " 19224 19225 19232 19233 19235 19242 19243 19244 19247 19249 19265 19267\n",
      " 19281 19282 19283 19288 19289 19291 19293 19295 19296 19302 19312 19320\n",
      " 19327 19337 19338 19341 19343 19346 19349 19353]\n"
     ]
    },
    {
     "data": {
      "text/plain": [
       "SortedList([18001, 18004, 18020, 18023, 18026, 18042, 18053, 18061, 18063, 18069, 18070, 18071, 18072, 18074, 18077, 18078, 18082, 18087, 18090, 18099, 18100, 18107, 18112, 18116, 18121, 18127, 18128, 18134, 18147, 18148, 18156, 18162, 18163, 18166, 18168, 18173, 18180, 18181, 18183, 18185, 18193, 18196, 18201, 18204, 18211, 18214, 18216, 18225, 18230, 18237, 18242, 18248, 18256, 18262, 18267, 18273, 18277, 18279, 18280, 18281, 18285, 18298, 18299, 18302, 18304, 18306, 18311, 18319, 18322, 18325, 18327, 18334, 18337, 18339, 18344, 18347, 18353, 18356, 18365, 18375, 18382, 18387, 18388, 18389, 18390, 18396, 18399, 18404, 18408, 18409, 18412, 18420, 18422, 19019, 19020, 19039, 19040, 19041, 19045, 19047, 19049, 19053, 19055, 19057, 19059, 19060, 19063, 19070, 19071, 19072, 19075, 19086, 19090, 19093, 19094, 19112, 19125, 19132, 19133, 19140, 19147, 19149, 19150, 19153, 19157, 19158, 19161, 19167, 19177, 19178, 19180, 19188, 19199, 19203, 19204, 19205, 19211, 19212, 19214, 19219, 19222, 19224, 19225, 19232, 19233, 19235, 19242, 19243, 19244, 19247, 19249, 19265, 19267, 19281, 19282, 19283, 19288, 19289, 19291, 19293, 19295, 19296, 19302, 19312, 19320, 19327, 19337, 19338, 19341, 19343, 19346, 19349, 19353])"
      ]
     },
     "execution_count": 36,
     "metadata": {},
     "output_type": "execute_result"
    }
   ],
   "source": [
    "loc2data.getCrossingIds()"
   ]
  },
  {
   "cell_type": "code",
   "execution_count": null,
   "id": "b2aebc67-b5f3-4f6e-bc5d-957b5ded7623",
   "metadata": {},
   "outputs": [],
   "source": []
  }
 ],
 "metadata": {
  "kernelspec": {
   "display_name": "Python 3",
   "language": "python",
   "name": "python3"
  },
  "language_info": {
   "codemirror_mode": {
    "name": "ipython",
    "version": 3
   },
   "file_extension": ".py",
   "mimetype": "text/x-python",
   "name": "python",
   "nbconvert_exporter": "python",
   "pygments_lexer": "ipython3",
   "version": "3.6.15"
  }
 },
 "nbformat": 4,
 "nbformat_minor": 5
}
