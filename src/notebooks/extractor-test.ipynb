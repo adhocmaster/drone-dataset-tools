{
 "cells": [
  {
   "cell_type": "code",
   "execution_count": 1,
   "id": "5388e344-0437-4c9b-957d-76d579671b87",
   "metadata": {},
   "outputs": [
    {
     "name": "stdout",
     "output_type": "stream",
     "text": [
      "current working dirE:\\AV\\DataSetExploration\\drone-dataset-tools\\src\n"
     ]
    }
   ],
   "source": [
    "exec(open('init_notebook.py').read())"
   ]
  },
  {
   "cell_type": "code",
   "execution_count": 2,
   "id": "811554dc-bb88-4e77-a0d4-153e1c68f6b2",
   "metadata": {},
   "outputs": [],
   "source": [
    "%load_ext autoreload\n",
    "%autoreload 2"
   ]
  },
  {
   "cell_type": "code",
   "execution_count": 4,
   "id": "20f6b99c-8b6c-4bb4-9aa0-bb98e1b635d3",
   "metadata": {},
   "outputs": [],
   "source": [
    "from extractors.loader import Loader"
   ]
  },
  {
   "cell_type": "code",
   "execution_count": 5,
   "id": "0c2954bf-5dff-42e0-a454-448bac407de6",
   "metadata": {},
   "outputs": [],
   "source": [
    "dataDir = \"G:AV datasets/inD-dataset-v1.0/data/\""
   ]
  },
  {
   "cell_type": "code",
   "execution_count": 7,
   "id": "63c77f16-5c4c-4294-988f-0734500d5b01",
   "metadata": {},
   "outputs": [],
   "source": [
    "loader = Loader(dataDir, 'inD')"
   ]
  },
  {
   "cell_type": "code",
   "execution_count": 14,
   "id": "a56c7379-6722-4f65-9344-80ec2b418e7e",
   "metadata": {},
   "outputs": [],
   "source": [
    "tracksDf, tracksMetaDf, recordingMetaDf = loader.getRecordingData('30')"
   ]
  },
  {
   "cell_type": "code",
   "execution_count": 15,
   "id": "10346588-955b-49af-82f1-6a67eba9d898",
   "metadata": {},
   "outputs": [
    {
     "data": {
      "text/html": [
       "<div>\n",
       "<style scoped>\n",
       "    .dataframe tbody tr th:only-of-type {\n",
       "        vertical-align: middle;\n",
       "    }\n",
       "\n",
       "    .dataframe tbody tr th {\n",
       "        vertical-align: top;\n",
       "    }\n",
       "\n",
       "    .dataframe thead th {\n",
       "        text-align: right;\n",
       "    }\n",
       "</style>\n",
       "<table border=\"1\" class=\"dataframe\">\n",
       "  <thead>\n",
       "    <tr style=\"text-align: right;\">\n",
       "      <th></th>\n",
       "      <th>recordingId</th>\n",
       "      <th>trackId</th>\n",
       "      <th>initialFrame</th>\n",
       "      <th>finalFrame</th>\n",
       "      <th>numFrames</th>\n",
       "      <th>width</th>\n",
       "      <th>length</th>\n",
       "      <th>class</th>\n",
       "    </tr>\n",
       "  </thead>\n",
       "  <tbody>\n",
       "    <tr>\n",
       "      <th>0</th>\n",
       "      <td>30</td>\n",
       "      <td>0</td>\n",
       "      <td>0</td>\n",
       "      <td>164</td>\n",
       "      <td>165</td>\n",
       "      <td>1.95184</td>\n",
       "      <td>4.83186</td>\n",
       "      <td>car</td>\n",
       "    </tr>\n",
       "    <tr>\n",
       "      <th>1</th>\n",
       "      <td>30</td>\n",
       "      <td>1</td>\n",
       "      <td>0</td>\n",
       "      <td>25613</td>\n",
       "      <td>25614</td>\n",
       "      <td>2.07064</td>\n",
       "      <td>4.19739</td>\n",
       "      <td>car</td>\n",
       "    </tr>\n",
       "    <tr>\n",
       "      <th>2</th>\n",
       "      <td>30</td>\n",
       "      <td>2</td>\n",
       "      <td>0</td>\n",
       "      <td>25613</td>\n",
       "      <td>25614</td>\n",
       "      <td>2.23145</td>\n",
       "      <td>5.34932</td>\n",
       "      <td>car</td>\n",
       "    </tr>\n",
       "    <tr>\n",
       "      <th>3</th>\n",
       "      <td>30</td>\n",
       "      <td>3</td>\n",
       "      <td>0</td>\n",
       "      <td>25613</td>\n",
       "      <td>25614</td>\n",
       "      <td>2.11827</td>\n",
       "      <td>4.75119</td>\n",
       "      <td>car</td>\n",
       "    </tr>\n",
       "    <tr>\n",
       "      <th>4</th>\n",
       "      <td>30</td>\n",
       "      <td>4</td>\n",
       "      <td>0</td>\n",
       "      <td>25613</td>\n",
       "      <td>25614</td>\n",
       "      <td>2.07056</td>\n",
       "      <td>4.83091</td>\n",
       "      <td>car</td>\n",
       "    </tr>\n",
       "  </tbody>\n",
       "</table>\n",
       "</div>"
      ],
      "text/plain": [
       "   recordingId  trackId  initialFrame  finalFrame  numFrames    width  \\\n",
       "0           30        0             0         164        165  1.95184   \n",
       "1           30        1             0       25613      25614  2.07064   \n",
       "2           30        2             0       25613      25614  2.23145   \n",
       "3           30        3             0       25613      25614  2.11827   \n",
       "4           30        4             0       25613      25614  2.07056   \n",
       "\n",
       "    length class  \n",
       "0  4.83186   car  \n",
       "1  4.19739   car  \n",
       "2  5.34932   car  \n",
       "3  4.75119   car  \n",
       "4  4.83091   car  "
      ]
     },
     "execution_count": 15,
     "metadata": {},
     "output_type": "execute_result"
    }
   ],
   "source": [
    "tracksMetaDf.head()"
   ]
  },
  {
   "cell_type": "code",
   "execution_count": 22,
   "id": "fc0c3183-d9a5-4842-a198-637a570ac316",
   "metadata": {},
   "outputs": [],
   "source": [
    "pedIds = loader.getSortedPedIds(tracksMetaDf)"
   ]
  },
  {
   "cell_type": "code",
   "execution_count": null,
   "id": "d090465a-3a92-45a7-9c2f-dc6bb2f5a953",
   "metadata": {},
   "outputs": [],
   "source": [
    "pedFrames = "
   ]
  }
 ],
 "metadata": {
  "kernelspec": {
   "display_name": "Python 3",
   "language": "python",
   "name": "python3"
  },
  "language_info": {
   "codemirror_mode": {
    "name": "ipython",
    "version": 3
   },
   "file_extension": ".py",
   "mimetype": "text/x-python",
   "name": "python",
   "nbconvert_exporter": "python",
   "pygments_lexer": "ipython3",
   "version": "3.6.15"
  }
 },
 "nbformat": 4,
 "nbformat_minor": 5
}
