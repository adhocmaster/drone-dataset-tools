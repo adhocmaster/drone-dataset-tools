{
 "cells": [
  {
   "cell_type": "markdown",
   "id": "50d184ca-7a4f-4874-b843-a355fac9e4d8",
   "metadata": {},
   "source": [
    "# TO RUN\n",
    "1. Make sure you installed all the dependencies\n",
    "2. open **'init_notebook.py'** and change the **projectFolder** to the src folder of the repository.\n",
    "3. In the following cell change the dataDir to the data directory of the InD dataset"
   ]
  },
  {
   "cell_type": "code",
   "execution_count": 1,
   "id": "8dae7a52-cb45-47e0-bb4c-a2c3c9ca8379",
   "metadata": {},
   "outputs": [],
   "source": [
    "dataDir = \"G:AV datasets/inD-dataset-v1.0/data/\"\n",
    "# dataDir = \"E:/Datasets/inD-dataset-v1.0/data/\""
   ]
  },
  {
   "cell_type": "code",
   "execution_count": 2,
   "id": "f94bf47d-7806-4cc8-b5b9-f945fd77e36a",
   "metadata": {},
   "outputs": [
    {
     "name": "stdout",
     "output_type": "stream",
     "text": [
      "current working dirE:\\AV\\DataSetExploration\\drone-dataset-tools\\src\n"
     ]
    }
   ],
   "source": [
    "exec(open('init_notebook.py').read())"
   ]
  },
  {
   "cell_type": "code",
   "execution_count": 3,
   "id": "811554dc-bb88-4e77-a0d4-153e1c68f6b2",
   "metadata": {},
   "outputs": [],
   "source": [
    "%load_ext autoreload\n",
    "%autoreload 2"
   ]
  },
  {
   "cell_type": "code",
   "execution_count": 4,
   "id": "20f6b99c-8b6c-4bb4-9aa0-bb98e1b635d3",
   "metadata": {},
   "outputs": [
    {
     "ename": "SyntaxError",
     "evalue": "invalid syntax (LocationData.py, line 90)",
     "output_type": "error",
     "traceback": [
      "Traceback \u001b[1;36m(most recent call last)\u001b[0m:\n",
      "  File \u001b[0;32m\"C:\\Users\\adhocmaster\\.conda\\envs\\drone\\lib\\site-packages\\IPython\\core\\interactiveshell.py\"\u001b[0m, line \u001b[0;32m3343\u001b[0m, in \u001b[0;35mrun_code\u001b[0m\n    exec(code_obj, self.user_global_ns, self.user_ns)\n",
      "  File \u001b[0;32m\"<ipython-input-4-0f2d7cae730d>\"\u001b[0m, line \u001b[0;32m3\u001b[0m, in \u001b[0;35m<module>\u001b[0m\n    from extractors.loader import Loader\n",
      "\u001b[1;36m  File \u001b[1;32m\"E:\\AV\\DataSetExploration\\drone-dataset-tools\\src\\extractors\\loader.py\"\u001b[1;36m, line \u001b[1;32m8\u001b[1;36m, in \u001b[1;35m<module>\u001b[1;36m\u001b[0m\n\u001b[1;33m    from .LocationData import LocationData\u001b[0m\n",
      "\u001b[1;36m  File \u001b[1;32m\"E:\\AV\\DataSetExploration\\drone-dataset-tools\\src\\extractors\\LocationData.py\"\u001b[1;36m, line \u001b[1;32m90\u001b[0m\n\u001b[1;33m    crossingDf = recordingData.\u001b[0m\n\u001b[1;37m                               ^\u001b[0m\n\u001b[1;31mSyntaxError\u001b[0m\u001b[1;31m:\u001b[0m invalid syntax\n"
     ]
    }
   ],
   "source": [
    "import logging\n",
    "logging.basicConfig(level=logging.INFO)\n",
    "from extractors.loader import Loader"
   ]
  },
  {
   "cell_type": "code",
   "execution_count": null,
   "id": "63c77f16-5c4c-4294-988f-0734500d5b01",
   "metadata": {},
   "outputs": [],
   "source": [
    "loader = Loader(dataDir, 'inD')"
   ]
  },
  {
   "cell_type": "markdown",
   "id": "3dbda764-c0ba-4f48-9531-d7b6a020efea",
   "metadata": {},
   "source": [
    "## Some helper methods to get information of all recordings\n",
    "Uncomment and run to see output"
   ]
  },
  {
   "cell_type": "code",
   "execution_count": null,
   "id": "77df13e9-d47b-4bad-8ae5-56a5c3eee374",
   "metadata": {},
   "outputs": [],
   "source": [
    "# rMeta = loader.getAllRecordingMeta() # All the meta files\n",
    "# print(rMeta[0])"
   ]
  },
  {
   "cell_type": "code",
   "execution_count": null,
   "id": "713a8fbe-7a15-4cfd-b6b1-85dba16ae956",
   "metadata": {},
   "outputs": [],
   "source": [
    "loader.locationToRecordingIds"
   ]
  },
  {
   "cell_type": "code",
   "execution_count": null,
   "id": "fbd29585-4e08-4e5a-849a-daae33238554",
   "metadata": {},
   "outputs": [],
   "source": [
    "# loader.getRecordingIdsOfALocation(1)"
   ]
  },
  {
   "cell_type": "markdown",
   "id": "565f51e0-e8d5-42ff-850e-9bdf03ac62c8",
   "metadata": {},
   "source": [
    "# Recording Specific methods"
   ]
  },
  {
   "cell_type": "code",
   "execution_count": null,
   "id": "dc1d7588-58fe-47aa-ac44-a7bf5a3252e1",
   "metadata": {},
   "outputs": [],
   "source": [
    "recordingData = loader.getRecordingData('18') # loads the recording with id 18"
   ]
  },
  {
   "cell_type": "code",
   "execution_count": null,
   "id": "51493757-3e5b-402f-9051-bc0bc9c0cd8c",
   "metadata": {},
   "outputs": [],
   "source": [
    "# recordingData.tracksMetaDf.head()\n",
    "# recordingData.tracksDf.tail()"
   ]
  },
  {
   "cell_type": "code",
   "execution_count": null,
   "id": "9bf6b0b6-4f94-4666-9801-17a46129cf9a",
   "metadata": {},
   "outputs": [],
   "source": [
    "# recordingData.getPedIds() # All the pedestrian Ids in the recording"
   ]
  },
  {
   "cell_type": "code",
   "execution_count": null,
   "id": "cebdc8da-2f2c-44ea-845a-26268aaa23b6",
   "metadata": {},
   "outputs": [],
   "source": [
    "\n",
    "# pedFrames = loader.extractPedFrames(recordingData.tracksMetaDf, recordingData.tracksDf)\n",
    "# pedFrames.tail()"
   ]
  },
  {
   "cell_type": "code",
   "execution_count": null,
   "id": "fc5f25ef-f9fc-4585-9568-00081b9d9ef2",
   "metadata": {},
   "outputs": [],
   "source": [
    "# crossingIds = recordingData.getCrossingPedIds()\n",
    "# recordingData.getCrossingPedIds() # only the ids who crosses the road."
   ]
  },
  {
   "cell_type": "code",
   "execution_count": null,
   "id": "ebe29d1a-6e23-43ff-96bb-dd8c3dcb7643",
   "metadata": {},
   "outputs": [],
   "source": [
    "# crossingDf = recordingData.getCrossingDf()\n",
    "# crossingDf.head()"
   ]
  },
  {
   "cell_type": "markdown",
   "id": "f6a33fd8-7546-4740-8e26-a4514b302350",
   "metadata": {},
   "source": [
    "# LocationData - for aggregation\n",
    "\n",
    "**get all the unique crossing ids**\n",
    "```\n",
    "loc2data = loader.getLocationData(2)\n",
    "loc2data.getUniqueCrossingIds()\n",
    "```\n",
    "**get all the crossing data**\n",
    "```\n",
    "loc2data = loader.getLocationData(2)\n",
    "crossingDf = loc2data.getCrossingDf()\n",
    "```"
   ]
  },
  {
   "cell_type": "code",
   "execution_count": null,
   "id": "3a2e8f69-c74b-4632-bce9-cf0ce9d143d9",
   "metadata": {},
   "outputs": [],
   "source": [
    "loc2data = loader.getLocationData(2)"
   ]
  },
  {
   "cell_type": "code",
   "execution_count": null,
   "id": "463fc85d-d0f2-4268-9392-95e0840e236d",
   "metadata": {},
   "outputs": [],
   "source": [
    "# loc2data.getUniqueCrossingIds()"
   ]
  },
  {
   "cell_type": "code",
   "execution_count": null,
   "id": "b2aebc67-b5f3-4f6e-bc5d-957b5ded7623",
   "metadata": {},
   "outputs": [],
   "source": [
    "crossingDf = loc2data.getCrossingDf() # get all crossing data"
   ]
  },
  {
   "cell_type": "code",
   "execution_count": null,
   "id": "de2b6c57-8ecd-4540-9809-98384ff854bb",
   "metadata": {},
   "outputs": [],
   "source": [
    "# crossingDf.head()\n",
    "# crossingDf.tail()"
   ]
  },
  {
   "cell_type": "code",
   "execution_count": null,
   "id": "6a59bcd7-b1fc-4e60-b3eb-e669ff8b7be2",
   "metadata": {},
   "outputs": [],
   "source": [
    "# crossingDf[crossingDf['uniqueTrackId'] == 18001]"
   ]
  },
  {
   "cell_type": "code",
   "execution_count": null,
   "id": "8389b80b-27b3-4d9b-b8e5-d7b66a000239",
   "metadata": {},
   "outputs": [],
   "source": [
    "# loc2data.getSceneConfig() # scene configuration "
   ]
  },
  {
   "cell_type": "markdown",
   "id": "9272a89b-04a2-43ea-b241-6ad9dba17719",
   "metadata": {},
   "source": [
    "# Scene data\n",
    "This class holds the data of a scene. The purpose of this class is to crop trajectories to the scene area and transfrom them to scene coordinate system."
   ]
  },
  {
   "cell_type": "code",
   "execution_count": null,
   "id": "adbeff16-2e04-42d5-a233-34d0c334f49b",
   "metadata": {},
   "outputs": [],
   "source": [
    "from tools.TrajectoryUtils import TrajectoryUtils\n",
    "from tools.TrajectoryVisualizer import TrajectoryVisualizer\n",
    "import matplotlib.pyplot as plt\n",
    "import numpy as np\n",
    "visualizer = TrajectoryVisualizer(loader)"
   ]
  },
  {
   "cell_type": "markdown",
   "id": "54732154-a65b-41f7-987b-ab2470e151b3",
   "metadata": {},
   "source": [
    "**Extracting ccene data from location data**"
   ]
  },
  {
   "cell_type": "code",
   "execution_count": null,
   "id": "9924b8c0-1503-445c-84e0-aece2a8a457e",
   "metadata": {},
   "outputs": [],
   "source": [
    "sceneData = loc2data.getSceneCrossingData(1, 10, 5, refresh=False) # set to True if we need to recompute\n",
    "visualizer.showLocationSceneData(sceneData)"
   ]
  },
  {
   "cell_type": "code",
   "execution_count": null,
   "id": "18ddbbef-3898-400b-8f10-cccf8445e5db",
   "metadata": {},
   "outputs": [],
   "source": [
    "scene2Data = loc2data.getSceneCrossingData(2, 10, 6, refresh=True)\n",
    "visualizer.showLocationSceneData(scene2Data)"
   ]
  },
  {
   "cell_type": "code",
   "execution_count": null,
   "id": "b148e7df-54b3-4e11-bdac-f0d1f1f094b9",
   "metadata": {},
   "outputs": [],
   "source": [
    "scene3Data = loc2data.getSceneCrossingData(3, 10, 6, refresh=True)\n",
    "visualizer.showLocationSceneData(scene3Data)"
   ]
  },
  {
   "cell_type": "code",
   "execution_count": null,
   "id": "08e16347-c5a5-4e59-bf5c-826396c89067",
   "metadata": {},
   "outputs": [],
   "source": [
    "scene4Data = loc2data.getSceneCrossingData(4, 6, 6, refresh=True)\n",
    "visualizer.showLocationSceneData(scene4Data)"
   ]
  },
  {
   "cell_type": "code",
   "execution_count": null,
   "id": "6ec1952f-6ebe-4527-9e3a-469947545978",
   "metadata": {},
   "outputs": [],
   "source": [
    "scene5Data = loc2data.getSceneCrossingData(5, 20, 9, refresh=False)\n",
    "visualizer.showLocationSceneData(scene5Data, onlyClipped=True)"
   ]
  },
  {
   "cell_type": "code",
   "execution_count": null,
   "id": "180cdf3d-f733-46d9-bc54-1a2a6dfc8e78",
   "metadata": {},
   "outputs": [],
   "source": [
    "scene6Data = loc2data.getSceneCrossingData(6, 10, 6, refresh=True)\n",
    "visualizer.showLocationSceneData(scene6Data)"
   ]
  },
  {
   "cell_type": "markdown",
   "id": "4602d214-4af9-42b5-bd76-8d7baff425fe",
   "metadata": {},
   "source": [
    "# Converting trajectories to scene coordinate system"
   ]
  },
  {
   "cell_type": "code",
   "execution_count": null,
   "id": "708cfc37-3e3c-49d2-a1ca-8a8b0ba6df83",
   "metadata": {},
   "outputs": [],
   "source": [
    "sceneDf = scene5Data.getClippedDfs()\n",
    "sceneDf.head()"
   ]
  },
  {
   "cell_type": "code",
   "execution_count": null,
   "id": "a4df9174-2bd9-476c-b694-bc4e3bd30c0b",
   "metadata": {},
   "outputs": [],
   "source": [
    "scene5Data = loc2data.getSceneCrossingData(5, 20, 9, refresh=True)\n",
    "visualizer.showLocationSceneData(scene5Data, onlyClipped=True, showLocal=True)"
   ]
  },
  {
   "cell_type": "code",
   "execution_count": null,
   "id": "660ccb9c-c2a5-42e3-9bf1-30b1ac30b67c",
   "metadata": {},
   "outputs": [],
   "source": [
    "scene6Data.transformToLocalCoordinate()\n",
    "visualizer.showLocationSceneData(scene6Data, onlyClipped=True, showLocal=True)"
   ]
  },
  {
   "cell_type": "code",
   "execution_count": null,
   "id": "89d9a247-66f9-4d6d-982d-029a265b8d67",
   "metadata": {},
   "outputs": [],
   "source": [
    "sceneLocalDf = scene6Data.getClippedDfs()\n",
    "sceneLocalDf.head()"
   ]
  },
  {
   "cell_type": "code",
   "execution_count": null,
   "id": "6ab6696d-80c1-4c7a-a16b-ae5723227e50",
   "metadata": {},
   "outputs": [],
   "source": []
  },
  {
   "cell_type": "code",
   "execution_count": null,
   "id": "5436e384-528a-4930-850b-d04036b03ddf",
   "metadata": {},
   "outputs": [],
   "source": [
    "transformerData = loc2data.getCrossingDataForTransformer()"
   ]
  },
  {
   "cell_type": "code",
   "execution_count": null,
   "id": "0b01023f-d2cf-412d-99c2-f0bb49736005",
   "metadata": {},
   "outputs": [],
   "source": [
    "transformerData.head()"
   ]
  },
  {
   "cell_type": "code",
   "execution_count": null,
   "id": "bb2bb26e-1ca8-4398-abcd-627c2a62fa07",
   "metadata": {},
   "outputs": [],
   "source": []
  }
 ],
 "metadata": {
  "kernelspec": {
   "display_name": "Python 3",
   "language": "python",
   "name": "python3"
  },
  "language_info": {
   "codemirror_mode": {
    "name": "ipython",
    "version": 3
   },
   "file_extension": ".py",
   "mimetype": "text/x-python",
   "name": "python",
   "nbconvert_exporter": "python",
   "pygments_lexer": "ipython3",
   "version": "3.6.15"
  }
 },
 "nbformat": 4,
 "nbformat_minor": 5
}
